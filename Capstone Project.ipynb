{
 "cells": [
  {
   "cell_type": "markdown",
   "metadata": {},
   "source": [
    "# New York Taxi Data Wrangling\n",
    "### Data Engineering Capstone Project\n",
    "\n",
    "![](taxi.png)\n",
    "\n",
    "#### Project Summary\n",
    "In this project, an ETL pipeline is developed to ready data of New York Taxi trips\n",
    "and hourly weather for analysts to analyse the prepared data.\n",
    "\n",
    "\n",
    "The project follows the follow steps:\n",
    "* Step 1: Scope the Project and Gather Data\n",
    "* Step 2: Explore and Assess the Data\n",
    "* Step 3: Define the Data Model\n",
    "* Step 4: Run ETL to Model the Data\n",
    "* Step 5: Complete Project Write Up"
   ]
  },
  {
   "cell_type": "code",
   "execution_count": 1,
   "metadata": {},
   "outputs": [],
   "source": [
    "import pandas as pd"
   ]
  },
  {
   "cell_type": "markdown",
   "metadata": {},
   "source": [
    "### Step 1: Scope the Project and Gather Data\n",
    "\n",
    "#### Scope \n",
    "After the final data is stored in parquet files in an S3 bucket for the analysts,\n",
    "the analysts can analyse how the passengers pay, trips depending on weather conditions,\n",
    "fare breakup and final amount based on the trip route, weather, service type etc.\n",
    "\n",
    "#### Data Sources\n",
    "* Taxi Trips -\n",
    "\t* [Source](https://data.cityofnewyork.us/Transportation/2020-Green-Taxi-Trip-Data-January-June-/pkmi-4kfn)\n",
    "\t* Format - CSV\n",
    "\t* Type of Info - These records are generated from the trip record submissions made\n",
    "\tby green taxi Technology Service Providers (TSPs). Each row represents a single trip.\n",
    "\tThe trip records include fields capturing pick-up and drop-off dates/times, pick-up\n",
    "\tand drop-off locations, trip distances, itemized fares, rate types, payment types,\n",
    "\tand driver-reported passenger counts, etc.\n",
    "\n",
    "* Zone Info -\n",
    "\t* [Source](https://www1.nyc.gov/site/tlc/about/tlc-trip-record-data.page)\n",
    "\t* Format - JSON\n",
    "\t* Type of Info - These records are the pick-up or drop-off locations across New York\n",
    "\twhere the taxis ply.\n",
    "\n",
    "\n",
    "* Hourly Weather -\n",
    "\t* [Source](https://www.ncdc.noaa.gov/cdo-web/orders?email=arnav.gohil04@gmail.com&id=2393740)\n",
    "\t* Format - CSV\n",
    "\t* Type of Info - Each record represents hourly weather data recorded across various\n",
    "\tstations in New York. Each record contains different weather parameters like Clouds\n",
    "\tbroken percentage, Temperature 90th percentile, Wind Chill, Wind direction, etc."
   ]
  },
  {
   "cell_type": "code",
   "execution_count": 2,
   "metadata": {},
   "outputs": [
    {
     "name": "stderr",
     "output_type": "stream",
     "text": [
      "/Users/arnavgohil/.conda/envs/Capstone-Project/lib/python3.8/site-packages/IPython/core/interactiveshell.py:3146: DtypeWarning: Columns (3) have mixed types.Specify dtype option on import or set low_memory=False.\n",
      "  has_raised = await self.run_ast_nodes(code_ast.body, cell_name,\n"
     ]
    }
   ],
   "source": [
    "# Reading the data from various sources and putting it into Panda dataframe to validate it\n",
    "\n",
    "taxi_file_url = \"https://data.cityofnewyork.us/api/views/pkmi-4kfn/rows.csv\"\n",
    "taxi_zone_file = \"taxi_zones.json\"\n",
    "weather_file = \"weather.csv\"\n",
    "\n",
    "df_zones = pd.read_json(taxi_zone_file)\n",
    "df_weather = pd.read_csv(weather_file)\n",
    "df_taxi = pd.read_csv(taxi_file_url)"
   ]
  },
  {
   "cell_type": "code",
   "execution_count": 3,
   "metadata": {
    "pycharm": {
     "name": "#%%\n"
    },
    "scrolled": true
   },
   "outputs": [
    {
     "data": {
      "text/html": [
       "<div>\n",
       "<style scoped>\n",
       "    .dataframe tbody tr th:only-of-type {\n",
       "        vertical-align: middle;\n",
       "    }\n",
       "\n",
       "    .dataframe tbody tr th {\n",
       "        vertical-align: top;\n",
       "    }\n",
       "\n",
       "    .dataframe thead th {\n",
       "        text-align: right;\n",
       "    }\n",
       "</style>\n",
       "<table border=\"1\" class=\"dataframe\">\n",
       "  <thead>\n",
       "    <tr style=\"text-align: right;\">\n",
       "      <th></th>\n",
       "      <th>VendorID</th>\n",
       "      <th>lpep_pickup_datetime</th>\n",
       "      <th>lpep_dropoff_datetime</th>\n",
       "      <th>store_and_fwd_flag</th>\n",
       "      <th>RatecodeID</th>\n",
       "      <th>PULocationID</th>\n",
       "      <th>DOLocationID</th>\n",
       "      <th>passenger_count</th>\n",
       "      <th>trip_distance</th>\n",
       "      <th>fare_amount</th>\n",
       "      <th>extra</th>\n",
       "      <th>mta_tax</th>\n",
       "      <th>tip_amount</th>\n",
       "      <th>tolls_amount</th>\n",
       "      <th>ehail_fee</th>\n",
       "      <th>improvement_surcharge</th>\n",
       "      <th>total_amount</th>\n",
       "      <th>payment_type</th>\n",
       "      <th>trip_type</th>\n",
       "      <th>congestion_surcharge</th>\n",
       "    </tr>\n",
       "  </thead>\n",
       "  <tbody>\n",
       "    <tr>\n",
       "      <th>0</th>\n",
       "      <td>2.0</td>\n",
       "      <td>12/18/2019 03:52:30 PM</td>\n",
       "      <td>12/18/2019 03:54:39 PM</td>\n",
       "      <td>N</td>\n",
       "      <td>1.0</td>\n",
       "      <td>264</td>\n",
       "      <td>264</td>\n",
       "      <td>5.0</td>\n",
       "      <td>0.00</td>\n",
       "      <td>3.5</td>\n",
       "      <td>0.50</td>\n",
       "      <td>0.5</td>\n",
       "      <td>0.01</td>\n",
       "      <td>0.0</td>\n",
       "      <td>NaN</td>\n",
       "      <td>0.3</td>\n",
       "      <td>4.81</td>\n",
       "      <td>1.0</td>\n",
       "      <td>1.0</td>\n",
       "      <td>0.00</td>\n",
       "    </tr>\n",
       "    <tr>\n",
       "      <th>1</th>\n",
       "      <td>2.0</td>\n",
       "      <td>01/01/2020 12:45:58 AM</td>\n",
       "      <td>01/01/2020 12:56:39 AM</td>\n",
       "      <td>N</td>\n",
       "      <td>5.0</td>\n",
       "      <td>66</td>\n",
       "      <td>65</td>\n",
       "      <td>2.0</td>\n",
       "      <td>1.28</td>\n",
       "      <td>20.0</td>\n",
       "      <td>0.00</td>\n",
       "      <td>0.0</td>\n",
       "      <td>4.06</td>\n",
       "      <td>0.0</td>\n",
       "      <td>NaN</td>\n",
       "      <td>0.3</td>\n",
       "      <td>24.36</td>\n",
       "      <td>1.0</td>\n",
       "      <td>2.0</td>\n",
       "      <td>0.00</td>\n",
       "    </tr>\n",
       "    <tr>\n",
       "      <th>2</th>\n",
       "      <td>2.0</td>\n",
       "      <td>01/01/2020 12:41:38 AM</td>\n",
       "      <td>01/01/2020 12:52:49 AM</td>\n",
       "      <td>N</td>\n",
       "      <td>1.0</td>\n",
       "      <td>181</td>\n",
       "      <td>228</td>\n",
       "      <td>1.0</td>\n",
       "      <td>2.47</td>\n",
       "      <td>10.5</td>\n",
       "      <td>0.50</td>\n",
       "      <td>0.5</td>\n",
       "      <td>3.54</td>\n",
       "      <td>0.0</td>\n",
       "      <td>NaN</td>\n",
       "      <td>0.3</td>\n",
       "      <td>15.34</td>\n",
       "      <td>1.0</td>\n",
       "      <td>1.0</td>\n",
       "      <td>0.00</td>\n",
       "    </tr>\n",
       "    <tr>\n",
       "      <th>3</th>\n",
       "      <td>1.0</td>\n",
       "      <td>01/01/2020 12:52:46 AM</td>\n",
       "      <td>01/01/2020 01:14:21 AM</td>\n",
       "      <td>N</td>\n",
       "      <td>1.0</td>\n",
       "      <td>129</td>\n",
       "      <td>263</td>\n",
       "      <td>2.0</td>\n",
       "      <td>6.30</td>\n",
       "      <td>21.0</td>\n",
       "      <td>3.25</td>\n",
       "      <td>0.5</td>\n",
       "      <td>0.00</td>\n",
       "      <td>0.0</td>\n",
       "      <td>NaN</td>\n",
       "      <td>0.3</td>\n",
       "      <td>25.05</td>\n",
       "      <td>2.0</td>\n",
       "      <td>1.0</td>\n",
       "      <td>2.75</td>\n",
       "    </tr>\n",
       "    <tr>\n",
       "      <th>4</th>\n",
       "      <td>1.0</td>\n",
       "      <td>01/01/2020 12:19:57 AM</td>\n",
       "      <td>01/01/2020 12:30:56 AM</td>\n",
       "      <td>N</td>\n",
       "      <td>1.0</td>\n",
       "      <td>210</td>\n",
       "      <td>150</td>\n",
       "      <td>1.0</td>\n",
       "      <td>2.30</td>\n",
       "      <td>10.0</td>\n",
       "      <td>0.50</td>\n",
       "      <td>0.5</td>\n",
       "      <td>0.00</td>\n",
       "      <td>0.0</td>\n",
       "      <td>NaN</td>\n",
       "      <td>0.3</td>\n",
       "      <td>11.30</td>\n",
       "      <td>1.0</td>\n",
       "      <td>1.0</td>\n",
       "      <td>0.00</td>\n",
       "    </tr>\n",
       "  </tbody>\n",
       "</table>\n",
       "</div>"
      ],
      "text/plain": [
       "   VendorID    lpep_pickup_datetime   lpep_dropoff_datetime  \\\n",
       "0       2.0  12/18/2019 03:52:30 PM  12/18/2019 03:54:39 PM   \n",
       "1       2.0  01/01/2020 12:45:58 AM  01/01/2020 12:56:39 AM   \n",
       "2       2.0  01/01/2020 12:41:38 AM  01/01/2020 12:52:49 AM   \n",
       "3       1.0  01/01/2020 12:52:46 AM  01/01/2020 01:14:21 AM   \n",
       "4       1.0  01/01/2020 12:19:57 AM  01/01/2020 12:30:56 AM   \n",
       "\n",
       "  store_and_fwd_flag  RatecodeID  PULocationID  DOLocationID  passenger_count  \\\n",
       "0                  N         1.0           264           264              5.0   \n",
       "1                  N         5.0            66            65              2.0   \n",
       "2                  N         1.0           181           228              1.0   \n",
       "3                  N         1.0           129           263              2.0   \n",
       "4                  N         1.0           210           150              1.0   \n",
       "\n",
       "   trip_distance  fare_amount  extra  mta_tax  tip_amount  tolls_amount  \\\n",
       "0           0.00          3.5   0.50      0.5        0.01           0.0   \n",
       "1           1.28         20.0   0.00      0.0        4.06           0.0   \n",
       "2           2.47         10.5   0.50      0.5        3.54           0.0   \n",
       "3           6.30         21.0   3.25      0.5        0.00           0.0   \n",
       "4           2.30         10.0   0.50      0.5        0.00           0.0   \n",
       "\n",
       "   ehail_fee  improvement_surcharge  total_amount  payment_type  trip_type  \\\n",
       "0        NaN                    0.3          4.81           1.0        1.0   \n",
       "1        NaN                    0.3         24.36           1.0        2.0   \n",
       "2        NaN                    0.3         15.34           1.0        1.0   \n",
       "3        NaN                    0.3         25.05           2.0        1.0   \n",
       "4        NaN                    0.3         11.30           1.0        1.0   \n",
       "\n",
       "   congestion_surcharge  \n",
       "0                  0.00  \n",
       "1                  0.00  \n",
       "2                  0.00  \n",
       "3                  2.75  \n",
       "4                  0.00  "
      ]
     },
     "execution_count": 3,
     "metadata": {},
     "output_type": "execute_result"
    }
   ],
   "source": [
    "df_taxi.head()"
   ]
  },
  {
   "cell_type": "code",
   "execution_count": 4,
   "metadata": {
    "pycharm": {
     "name": "#%%\n"
    },
    "scrolled": true
   },
   "outputs": [
    {
     "data": {
      "text/html": [
       "<div>\n",
       "<style scoped>\n",
       "    .dataframe tbody tr th:only-of-type {\n",
       "        vertical-align: middle;\n",
       "    }\n",
       "\n",
       "    .dataframe tbody tr th {\n",
       "        vertical-align: top;\n",
       "    }\n",
       "\n",
       "    .dataframe thead th {\n",
       "        text-align: right;\n",
       "    }\n",
       "</style>\n",
       "<table border=\"1\" class=\"dataframe\">\n",
       "  <thead>\n",
       "    <tr style=\"text-align: right;\">\n",
       "      <th></th>\n",
       "      <th>LocationID</th>\n",
       "      <th>Borough</th>\n",
       "      <th>Zone</th>\n",
       "      <th>service_zone</th>\n",
       "    </tr>\n",
       "  </thead>\n",
       "  <tbody>\n",
       "    <tr>\n",
       "      <th>0</th>\n",
       "      <td>1</td>\n",
       "      <td>EWR</td>\n",
       "      <td>Newark Airport</td>\n",
       "      <td>EWR</td>\n",
       "    </tr>\n",
       "    <tr>\n",
       "      <th>1</th>\n",
       "      <td>2</td>\n",
       "      <td>Queens</td>\n",
       "      <td>Jamaica Bay</td>\n",
       "      <td>Boro Zone</td>\n",
       "    </tr>\n",
       "    <tr>\n",
       "      <th>2</th>\n",
       "      <td>3</td>\n",
       "      <td>Bronx</td>\n",
       "      <td>Allerton/Pelham Gardens</td>\n",
       "      <td>Boro Zone</td>\n",
       "    </tr>\n",
       "    <tr>\n",
       "      <th>3</th>\n",
       "      <td>4</td>\n",
       "      <td>Manhattan</td>\n",
       "      <td>Alphabet City</td>\n",
       "      <td>Yellow Zone</td>\n",
       "    </tr>\n",
       "    <tr>\n",
       "      <th>4</th>\n",
       "      <td>5</td>\n",
       "      <td>Staten Island</td>\n",
       "      <td>Arden Heights</td>\n",
       "      <td>Boro Zone</td>\n",
       "    </tr>\n",
       "  </tbody>\n",
       "</table>\n",
       "</div>"
      ],
      "text/plain": [
       "   LocationID        Borough                     Zone service_zone\n",
       "0           1            EWR           Newark Airport          EWR\n",
       "1           2         Queens              Jamaica Bay    Boro Zone\n",
       "2           3          Bronx  Allerton/Pelham Gardens    Boro Zone\n",
       "3           4      Manhattan            Alphabet City  Yellow Zone\n",
       "4           5  Staten Island            Arden Heights    Boro Zone"
      ]
     },
     "execution_count": 4,
     "metadata": {},
     "output_type": "execute_result"
    }
   ],
   "source": [
    "df_zones.head()"
   ]
  },
  {
   "cell_type": "code",
   "execution_count": 5,
   "metadata": {
    "pycharm": {
     "name": "#%%\n"
    }
   },
   "outputs": [
    {
     "data": {
      "text/html": [
       "<div>\n",
       "<style scoped>\n",
       "    .dataframe tbody tr th:only-of-type {\n",
       "        vertical-align: middle;\n",
       "    }\n",
       "\n",
       "    .dataframe tbody tr th {\n",
       "        vertical-align: top;\n",
       "    }\n",
       "\n",
       "    .dataframe thead th {\n",
       "        text-align: right;\n",
       "    }\n",
       "</style>\n",
       "<table border=\"1\" class=\"dataframe\">\n",
       "  <thead>\n",
       "    <tr style=\"text-align: right;\">\n",
       "      <th></th>\n",
       "      <th>STATION</th>\n",
       "      <th>NAME</th>\n",
       "      <th>LATITUDE</th>\n",
       "      <th>LONGITUDE</th>\n",
       "      <th>ELEVATION</th>\n",
       "      <th>DATE</th>\n",
       "      <th>HLY-CLDH-NORMAL</th>\n",
       "      <th>HLY-CLOD-PCTBKN</th>\n",
       "      <th>HLY-CLOD-PCTCLR</th>\n",
       "      <th>HLY-CLOD-PCTFEW</th>\n",
       "      <th>...</th>\n",
       "      <th>HLY-TEMP-NORMAL</th>\n",
       "      <th>HLY-WCHL-NORMAL</th>\n",
       "      <th>HLY-WIND-1STDIR</th>\n",
       "      <th>HLY-WIND-1STPCT</th>\n",
       "      <th>HLY-WIND-2NDDIR</th>\n",
       "      <th>HLY-WIND-2NDPCT</th>\n",
       "      <th>HLY-WIND-AVGSPD</th>\n",
       "      <th>HLY-WIND-PCTCLM</th>\n",
       "      <th>HLY-WIND-VCTDIR</th>\n",
       "      <th>HLY-WIND-VCTSPD</th>\n",
       "    </tr>\n",
       "  </thead>\n",
       "  <tbody>\n",
       "    <tr>\n",
       "      <th>0</th>\n",
       "      <td>USW00014732</td>\n",
       "      <td>LA GUARDIA AIRPORT, NY US</td>\n",
       "      <td>40.7792</td>\n",
       "      <td>-73.88</td>\n",
       "      <td>3.4</td>\n",
       "      <td>01-01T01:00:00</td>\n",
       "      <td>0.0</td>\n",
       "      <td>134</td>\n",
       "      <td>268</td>\n",
       "      <td>75</td>\n",
       "      <td>...</td>\n",
       "      <td>1.4</td>\n",
       "      <td>-3.2</td>\n",
       "      <td>8</td>\n",
       "      <td>269</td>\n",
       "      <td>6</td>\n",
       "      <td>178</td>\n",
       "      <td>5.6</td>\n",
       "      <td>24</td>\n",
       "      <td>308</td>\n",
       "      <td>2.8</td>\n",
       "    </tr>\n",
       "    <tr>\n",
       "      <th>1</th>\n",
       "      <td>USW00014732</td>\n",
       "      <td>LA GUARDIA AIRPORT, NY US</td>\n",
       "      <td>40.7792</td>\n",
       "      <td>-73.88</td>\n",
       "      <td>3.4</td>\n",
       "      <td>01-01T02:00:00</td>\n",
       "      <td>0.0</td>\n",
       "      <td>155</td>\n",
       "      <td>277</td>\n",
       "      <td>79</td>\n",
       "      <td>...</td>\n",
       "      <td>1.2</td>\n",
       "      <td>-3.4</td>\n",
       "      <td>8</td>\n",
       "      <td>251</td>\n",
       "      <td>7</td>\n",
       "      <td>197</td>\n",
       "      <td>5.6</td>\n",
       "      <td>33</td>\n",
       "      <td>309</td>\n",
       "      <td>2.9</td>\n",
       "    </tr>\n",
       "    <tr>\n",
       "      <th>2</th>\n",
       "      <td>USW00014732</td>\n",
       "      <td>LA GUARDIA AIRPORT, NY US</td>\n",
       "      <td>40.7792</td>\n",
       "      <td>-73.88</td>\n",
       "      <td>3.4</td>\n",
       "      <td>01-01T03:00:00</td>\n",
       "      <td>0.0</td>\n",
       "      <td>162</td>\n",
       "      <td>277</td>\n",
       "      <td>63</td>\n",
       "      <td>...</td>\n",
       "      <td>1.1</td>\n",
       "      <td>-3.6</td>\n",
       "      <td>8</td>\n",
       "      <td>282</td>\n",
       "      <td>7</td>\n",
       "      <td>182</td>\n",
       "      <td>5.5</td>\n",
       "      <td>27</td>\n",
       "      <td>312</td>\n",
       "      <td>2.9</td>\n",
       "    </tr>\n",
       "    <tr>\n",
       "      <th>3</th>\n",
       "      <td>USW00014732</td>\n",
       "      <td>LA GUARDIA AIRPORT, NY US</td>\n",
       "      <td>40.7792</td>\n",
       "      <td>-73.88</td>\n",
       "      <td>3.4</td>\n",
       "      <td>01-01T04:00:00</td>\n",
       "      <td>0.0</td>\n",
       "      <td>149</td>\n",
       "      <td>262</td>\n",
       "      <td>68</td>\n",
       "      <td>...</td>\n",
       "      <td>0.9</td>\n",
       "      <td>-3.8</td>\n",
       "      <td>8</td>\n",
       "      <td>284</td>\n",
       "      <td>7</td>\n",
       "      <td>164</td>\n",
       "      <td>5.5</td>\n",
       "      <td>29</td>\n",
       "      <td>314</td>\n",
       "      <td>2.9</td>\n",
       "    </tr>\n",
       "    <tr>\n",
       "      <th>4</th>\n",
       "      <td>USW00014732</td>\n",
       "      <td>LA GUARDIA AIRPORT, NY US</td>\n",
       "      <td>40.7792</td>\n",
       "      <td>-73.88</td>\n",
       "      <td>3.4</td>\n",
       "      <td>01-01T05:00:00</td>\n",
       "      <td>0.0</td>\n",
       "      <td>135</td>\n",
       "      <td>243</td>\n",
       "      <td>119</td>\n",
       "      <td>...</td>\n",
       "      <td>0.8</td>\n",
       "      <td>-3.9</td>\n",
       "      <td>8</td>\n",
       "      <td>273</td>\n",
       "      <td>7</td>\n",
       "      <td>174</td>\n",
       "      <td>5.5</td>\n",
       "      <td>31</td>\n",
       "      <td>314</td>\n",
       "      <td>2.9</td>\n",
       "    </tr>\n",
       "  </tbody>\n",
       "</table>\n",
       "<p>5 rows × 32 columns</p>\n",
       "</div>"
      ],
      "text/plain": [
       "       STATION                       NAME  LATITUDE  LONGITUDE  ELEVATION  \\\n",
       "0  USW00014732  LA GUARDIA AIRPORT, NY US   40.7792     -73.88        3.4   \n",
       "1  USW00014732  LA GUARDIA AIRPORT, NY US   40.7792     -73.88        3.4   \n",
       "2  USW00014732  LA GUARDIA AIRPORT, NY US   40.7792     -73.88        3.4   \n",
       "3  USW00014732  LA GUARDIA AIRPORT, NY US   40.7792     -73.88        3.4   \n",
       "4  USW00014732  LA GUARDIA AIRPORT, NY US   40.7792     -73.88        3.4   \n",
       "\n",
       "             DATE  HLY-CLDH-NORMAL  HLY-CLOD-PCTBKN  HLY-CLOD-PCTCLR  \\\n",
       "0  01-01T01:00:00              0.0              134              268   \n",
       "1  01-01T02:00:00              0.0              155              277   \n",
       "2  01-01T03:00:00              0.0              162              277   \n",
       "3  01-01T04:00:00              0.0              149              262   \n",
       "4  01-01T05:00:00              0.0              135              243   \n",
       "\n",
       "   HLY-CLOD-PCTFEW  ...  HLY-TEMP-NORMAL  HLY-WCHL-NORMAL  HLY-WIND-1STDIR  \\\n",
       "0               75  ...              1.4             -3.2                8   \n",
       "1               79  ...              1.2             -3.4                8   \n",
       "2               63  ...              1.1             -3.6                8   \n",
       "3               68  ...              0.9             -3.8                8   \n",
       "4              119  ...              0.8             -3.9                8   \n",
       "\n",
       "   HLY-WIND-1STPCT  HLY-WIND-2NDDIR  HLY-WIND-2NDPCT  HLY-WIND-AVGSPD  \\\n",
       "0              269                6              178              5.6   \n",
       "1              251                7              197              5.6   \n",
       "2              282                7              182              5.5   \n",
       "3              284                7              164              5.5   \n",
       "4              273                7              174              5.5   \n",
       "\n",
       "   HLY-WIND-PCTCLM  HLY-WIND-VCTDIR  HLY-WIND-VCTSPD  \n",
       "0               24              308              2.8  \n",
       "1               33              309              2.9  \n",
       "2               27              312              2.9  \n",
       "3               29              314              2.9  \n",
       "4               31              314              2.9  \n",
       "\n",
       "[5 rows x 32 columns]"
      ]
     },
     "execution_count": 5,
     "metadata": {},
     "output_type": "execute_result"
    }
   ],
   "source": [
    "df_weather.head()"
   ]
  },
  {
   "cell_type": "code",
   "execution_count": 6,
   "metadata": {
    "pycharm": {
     "name": "#%%\n"
    }
   },
   "outputs": [
    {
     "data": {
      "text/html": [
       "<div>\n",
       "<style scoped>\n",
       "    .dataframe tbody tr th:only-of-type {\n",
       "        vertical-align: middle;\n",
       "    }\n",
       "\n",
       "    .dataframe tbody tr th {\n",
       "        vertical-align: top;\n",
       "    }\n",
       "\n",
       "    .dataframe thead th {\n",
       "        text-align: right;\n",
       "    }\n",
       "</style>\n",
       "<table border=\"1\" class=\"dataframe\">\n",
       "  <thead>\n",
       "    <tr style=\"text-align: right;\">\n",
       "      <th></th>\n",
       "      <th>RatecodeID</th>\n",
       "      <th>Rate_type</th>\n",
       "    </tr>\n",
       "  </thead>\n",
       "  <tbody>\n",
       "    <tr>\n",
       "      <th>0</th>\n",
       "      <td>1</td>\n",
       "      <td>Standard rate</td>\n",
       "    </tr>\n",
       "    <tr>\n",
       "      <th>1</th>\n",
       "      <td>2</td>\n",
       "      <td>JFK</td>\n",
       "    </tr>\n",
       "    <tr>\n",
       "      <th>2</th>\n",
       "      <td>3</td>\n",
       "      <td>Newark</td>\n",
       "    </tr>\n",
       "    <tr>\n",
       "      <th>3</th>\n",
       "      <td>4</td>\n",
       "      <td>Nassau or Westchester</td>\n",
       "    </tr>\n",
       "    <tr>\n",
       "      <th>4</th>\n",
       "      <td>5</td>\n",
       "      <td>Negotiated fare</td>\n",
       "    </tr>\n",
       "  </tbody>\n",
       "</table>\n",
       "</div>"
      ],
      "text/plain": [
       "   RatecodeID              Rate_type\n",
       "0           1          Standard rate\n",
       "1           2                    JFK\n",
       "2           3                 Newark\n",
       "3           4  Nassau or Westchester\n",
       "4           5        Negotiated fare"
      ]
     },
     "execution_count": 6,
     "metadata": {},
     "output_type": "execute_result"
    }
   ],
   "source": [
    "#Creating Rate Panda dataframe\n",
    "\n",
    "rate_data = { 'RatecodeID':[1,2,3,4,5,6],\n",
    "              'Rate_type': ['Standard rate','JFK','Newark','Nassau or Westchester','Negotiated fare','Group ride']}\n",
    "df_rate = pd.DataFrame(rate_data)\n",
    "df_rate.head()"
   ]
  },
  {
   "cell_type": "code",
   "execution_count": 7,
   "metadata": {
    "pycharm": {
     "name": "#%%\n"
    }
   },
   "outputs": [
    {
     "data": {
      "text/html": [
       "<div>\n",
       "<style scoped>\n",
       "    .dataframe tbody tr th:only-of-type {\n",
       "        vertical-align: middle;\n",
       "    }\n",
       "\n",
       "    .dataframe tbody tr th {\n",
       "        vertical-align: top;\n",
       "    }\n",
       "\n",
       "    .dataframe thead th {\n",
       "        text-align: right;\n",
       "    }\n",
       "</style>\n",
       "<table border=\"1\" class=\"dataframe\">\n",
       "  <thead>\n",
       "    <tr style=\"text-align: right;\">\n",
       "      <th></th>\n",
       "      <th>PaymentID</th>\n",
       "      <th>Payment_type</th>\n",
       "    </tr>\n",
       "  </thead>\n",
       "  <tbody>\n",
       "    <tr>\n",
       "      <th>0</th>\n",
       "      <td>1</td>\n",
       "      <td>Credit card</td>\n",
       "    </tr>\n",
       "    <tr>\n",
       "      <th>1</th>\n",
       "      <td>2</td>\n",
       "      <td>Cash</td>\n",
       "    </tr>\n",
       "    <tr>\n",
       "      <th>2</th>\n",
       "      <td>3</td>\n",
       "      <td>No charge</td>\n",
       "    </tr>\n",
       "    <tr>\n",
       "      <th>3</th>\n",
       "      <td>4</td>\n",
       "      <td>Dispute</td>\n",
       "    </tr>\n",
       "    <tr>\n",
       "      <th>4</th>\n",
       "      <td>5</td>\n",
       "      <td>Unknown</td>\n",
       "    </tr>\n",
       "  </tbody>\n",
       "</table>\n",
       "</div>"
      ],
      "text/plain": [
       "   PaymentID Payment_type\n",
       "0          1  Credit card\n",
       "1          2         Cash\n",
       "2          3    No charge\n",
       "3          4      Dispute\n",
       "4          5      Unknown"
      ]
     },
     "execution_count": 7,
     "metadata": {},
     "output_type": "execute_result"
    }
   ],
   "source": [
    "#Creating payment Panda dataframe\n",
    "\n",
    "payment_data = { 'PaymentID':[1,2,3,4,5,6],\n",
    "                 'Payment_type': ['Credit card','Cash','No charge','Dispute','Unknown','Voided trip']}\n",
    "df_payment = pd.DataFrame(payment_data)\n",
    "df_payment.head()"
   ]
  },
  {
   "cell_type": "code",
   "execution_count": 8,
   "metadata": {},
   "outputs": [],
   "source": [
    "from pyspark.sql import SparkSession\n",
    "import pyspark.sql.functions as f\n",
    "import datetime"
   ]
  },
  {
   "cell_type": "code",
   "execution_count": 11,
   "metadata": {
    "pycharm": {
     "name": "#%%\n"
    }
   },
   "outputs": [],
   "source": [
    "#Creating a new Spark Session\n",
    "\n",
    "MAX_MEMORY = \"5g\"\n",
    "spark = SparkSession \\\n",
    "        .builder \\\n",
    "        .config(\"spark.executor.memory\", MAX_MEMORY) \\\n",
    "        .config(\"spark.driver.memory\", MAX_MEMORY) \\\n",
    "        .config(\"spark.jars.packages\", \"org.apache.hadoop:hadoop-aws:2.7.0\") \\\n",
    "        .getOrCreate()"
   ]
  },
  {
   "cell_type": "code",
   "execution_count": 12,
   "metadata": {
    "pycharm": {
     "name": "#%%\n"
    }
   },
   "outputs": [
    {
     "data": {
      "text/html": [
       "\n",
       "            <div>\n",
       "                <p><b>SparkSession - in-memory</b></p>\n",
       "                \n",
       "        <div>\n",
       "            <p><b>SparkContext</b></p>\n",
       "\n",
       "            <p><a href=\"http://192.168.0.106:4040\">Spark UI</a></p>\n",
       "\n",
       "            <dl>\n",
       "              <dt>Version</dt>\n",
       "                <dd><code>v3.0.0</code></dd>\n",
       "              <dt>Master</dt>\n",
       "                <dd><code>local[*]</code></dd>\n",
       "              <dt>AppName</dt>\n",
       "                <dd><code>pyspark-shell</code></dd>\n",
       "            </dl>\n",
       "        </div>\n",
       "        \n",
       "            </div>\n",
       "        "
      ],
      "text/plain": [
       "<pyspark.sql.session.SparkSession at 0x7feaa8d41820>"
      ]
     },
     "execution_count": 12,
     "metadata": {},
     "output_type": "execute_result"
    }
   ],
   "source": [
    "spark"
   ]
  },
  {
   "cell_type": "code",
   "execution_count": 13,
   "metadata": {},
   "outputs": [
    {
     "name": "stdout",
     "output_type": "stream",
     "text": [
      "+-----------+--------------------+--------+---------+---------+--------------+---------------+---------------+---------------+---------------+---------------+---------------+---------------+---------------+---------------+---------------+---------------+---------------+---------------+---------------+---------------+---------------+---------------+---------------+---------------+---------------+---------------+---------------+---------------+---------------+---------------+---------------+\n",
      "|    STATION|                NAME|LATITUDE|LONGITUDE|ELEVATION|          DATE|HLY-CLDH-NORMAL|HLY-CLOD-PCTBKN|HLY-CLOD-PCTCLR|HLY-CLOD-PCTFEW|HLY-CLOD-PCTOVC|HLY-CLOD-PCTSCT|HLY-DEWP-10PCTL|HLY-DEWP-90PCTL|HLY-DEWP-NORMAL|HLY-HIDX-NORMAL|HLY-HTDH-NORMAL|HLY-PRES-10PCTL|HLY-PRES-90PCTL|HLY-PRES-NORMAL|HLY-TEMP-10PCTL|HLY-TEMP-90PCTL|HLY-TEMP-NORMAL|HLY-WCHL-NORMAL|HLY-WIND-1STDIR|HLY-WIND-1STPCT|HLY-WIND-2NDDIR|HLY-WIND-2NDPCT|HLY-WIND-AVGSPD|HLY-WIND-PCTCLM|HLY-WIND-VCTDIR|HLY-WIND-VCTSPD|\n",
      "+-----------+--------------------+--------+---------+---------+--------------+---------------+---------------+---------------+---------------+---------------+---------------+---------------+---------------+---------------+---------------+---------------+---------------+---------------+---------------+---------------+---------------+---------------+---------------+---------------+---------------+---------------+---------------+---------------+---------------+---------------+---------------+\n",
      "|USW00014732|LA GUARDIA AIRPOR...| 40.7792|   -73.88|      3.4|01-01T01:00:00|            0.0|            134|            268|             75|            438|             86|          -14.4|            5.0|           -4.7|            1.4|           17.0|         1005.3|         1031.0|         1018.2|           -5.6|            7.8|            1.4|           -3.2|              8|            269|              6|            178|            5.6|             24|            308|            2.8|\n",
      "|USW00014732|LA GUARDIA AIRPOR...| 40.7792|   -73.88|      3.4|01-01T02:00:00|            0.0|            155|            277|             79|            426|             63|          -15.0|            4.4|           -4.8|            1.2|           17.1|         1005.1|         1031.2|         1018.3|           -6.1|            7.8|            1.2|           -3.4|              8|            251|              7|            197|            5.6|             33|            309|            2.9|\n",
      "|USW00014732|LA GUARDIA AIRPOR...| 40.7792|   -73.88|      3.4|01-01T03:00:00|            0.0|            162|            277|             63|            430|             68|          -15.0|            4.4|           -4.8|            1.1|           17.3|         1005.2|         1031.2|         1018.4|           -6.1|            7.8|            1.1|           -3.6|              8|            282|              7|            182|            5.5|             27|            312|            2.9|\n",
      "|USW00014732|LA GUARDIA AIRPOR...| 40.7792|   -73.88|      3.4|01-01T04:00:00|            0.0|            149|            262|             68|            447|             74|          -14.4|            4.4|           -4.8|            0.9|           17.5|         1005.0|         1031.1|         1018.2|           -6.1|            7.2|            0.9|           -3.8|              8|            284|              7|            164|            5.5|             29|            314|            2.9|\n",
      "|USW00014732|LA GUARDIA AIRPOR...| 40.7792|   -73.88|      3.4|01-01T05:00:00|            0.0|            135|            243|            119|            444|             59|          -14.4|            4.4|           -4.8|            0.8|           17.6|         1005.1|         1031.2|         1018.2|           -6.1|            7.2|            0.8|           -3.9|              8|            273|              7|            174|            5.5|             31|            314|            2.9|\n",
      "|USW00014732|LA GUARDIA AIRPOR...| 40.7792|   -73.88|      3.4|01-01T06:00:00|            0.0|            133|            204|            124|            450|             88|          -14.4|            4.4|           -4.9|            0.7|           17.6|         1005.4|         1031.6|         1018.4|           -6.1|            7.2|            0.7|           -3.9|              8|            255|              7|            182|            5.4|             38|            312|            2.7|\n",
      "|USW00014732|LA GUARDIA AIRPOR...| 40.7792|   -73.88|      3.4|01-01T07:00:00|            0.0|            205|            118|            173|            415|             89|          -14.4|            4.4|           -4.9|            0.7|           17.6|         1005.8|         1032.2|         1018.7|           -6.1|            7.2|            0.7|           -3.9|              8|            281|              7|            171|            5.4|             36|            311|            2.8|\n",
      "|USW00014732|LA GUARDIA AIRPOR...| 40.7792|   -73.88|      3.4|01-01T08:00:00|            0.0|            238|            104|            138|            429|             91|          -14.4|            5.0|           -4.9|            0.8|           17.6|         1006.2|         1032.3|         1019.0|           -6.1|            7.2|            0.8|           -3.9|              8|            265|              7|            165|            5.5|             33|            312|            2.7|\n",
      "|USW00014732|LA GUARDIA AIRPOR...| 40.7792|   -73.88|      3.4|01-01T09:00:00|            0.0|            231|            115|            124|            434|             97|          -14.4|            5.0|           -4.8|            1.2|           17.2|         1006.6|         1032.6|         1019.4|           -6.1|            7.8|            1.2|           -3.6|              8|            290|              2|            184|            5.8|             29|            313|            2.8|\n",
      "|USW00014732|LA GUARDIA AIRPOR...| 40.7792|   -73.88|      3.4|01-01T10:00:00|         -432.0|            249|            114|            117|            415|            105|          -13.9|            5.0|           -4.8|            1.6|           16.8|         1006.7|         1032.7|         1019.6|           -5.6|            7.8|            1.6|           -2.9|              8|            297|              2|            169|            5.8|             36|            314|            2.9|\n",
      "+-----------+--------------------+--------+---------+---------+--------------+---------------+---------------+---------------+---------------+---------------+---------------+---------------+---------------+---------------+---------------+---------------+---------------+---------------+---------------+---------------+---------------+---------------+---------------+---------------+---------------+---------------+---------------+---------------+---------------+---------------+---------------+\n",
      "only showing top 10 rows\n",
      "\n"
     ]
    }
   ],
   "source": [
    "#Creating a Weather Spark Dataframe\n",
    "\n",
    "weather_spark_df = spark.read.option(\"multiline\",\"true\").option(\"header\", \"true\").csv(weather_file)\n",
    "weather_spark_df.show(10)"
   ]
  },
  {
   "cell_type": "code",
   "execution_count": 14,
   "metadata": {
    "pycharm": {
     "name": "#%%\n"
    }
   },
   "outputs": [
    {
     "name": "stdout",
     "output_type": "stream",
     "text": [
      "+-------+----------+--------------+------------+\n",
      "|Borough|LocationID|          Zone|service_zone|\n",
      "+-------+----------+--------------+------------+\n",
      "|    EWR|         1|Newark Airport|         EWR|\n",
      "+-------+----------+--------------+------------+\n",
      "only showing top 1 row\n",
      "\n"
     ]
    }
   ],
   "source": [
    "#Creating a Zone Spark Dataframe\n",
    "\n",
    "zone_spark_df = spark.read.option(\"multiline\",\"true\").json(taxi_zone_file)\n",
    "zone_spark_df.show(1)"
   ]
  },
  {
   "cell_type": "code",
   "execution_count": 15,
   "metadata": {
    "pycharm": {
     "name": "#%%\n"
    }
   },
   "outputs": [
    {
     "data": {
      "text/html": [
       "<div>\n",
       "<style scoped>\n",
       "    .dataframe tbody tr th:only-of-type {\n",
       "        vertical-align: middle;\n",
       "    }\n",
       "\n",
       "    .dataframe tbody tr th {\n",
       "        vertical-align: top;\n",
       "    }\n",
       "\n",
       "    .dataframe thead th {\n",
       "        text-align: right;\n",
       "    }\n",
       "</style>\n",
       "<table border=\"1\" class=\"dataframe\">\n",
       "  <thead>\n",
       "    <tr style=\"text-align: right;\">\n",
       "      <th></th>\n",
       "      <th>VendorID</th>\n",
       "      <th>lpep_pickup_datetime</th>\n",
       "      <th>lpep_dropoff_datetime</th>\n",
       "      <th>store_and_fwd_flag</th>\n",
       "      <th>RatecodeID</th>\n",
       "      <th>PULocationID</th>\n",
       "      <th>DOLocationID</th>\n",
       "      <th>passenger_count</th>\n",
       "      <th>trip_distance</th>\n",
       "      <th>fare_amount</th>\n",
       "      <th>extra</th>\n",
       "      <th>mta_tax</th>\n",
       "      <th>tip_amount</th>\n",
       "      <th>tolls_amount</th>\n",
       "      <th>ehail_fee</th>\n",
       "      <th>improvement_surcharge</th>\n",
       "      <th>total_amount</th>\n",
       "      <th>payment_type</th>\n",
       "      <th>trip_type</th>\n",
       "      <th>congestion_surcharge</th>\n",
       "    </tr>\n",
       "  </thead>\n",
       "  <tbody>\n",
       "    <tr>\n",
       "      <th>0</th>\n",
       "      <td>2.0</td>\n",
       "      <td>12/18/2019 03:52:30 PM</td>\n",
       "      <td>12/18/2019 03:54:39 PM</td>\n",
       "      <td>N</td>\n",
       "      <td>1.0</td>\n",
       "      <td>264</td>\n",
       "      <td>264</td>\n",
       "      <td>5.0</td>\n",
       "      <td>0.00</td>\n",
       "      <td>3.5</td>\n",
       "      <td>0.5</td>\n",
       "      <td>0.5</td>\n",
       "      <td>0.01</td>\n",
       "      <td>0.0</td>\n",
       "      <td>NaN</td>\n",
       "      <td>0.3</td>\n",
       "      <td>4.81</td>\n",
       "      <td>1.0</td>\n",
       "      <td>1.0</td>\n",
       "      <td>0.0</td>\n",
       "    </tr>\n",
       "    <tr>\n",
       "      <th>1</th>\n",
       "      <td>2.0</td>\n",
       "      <td>01/01/2020 12:45:58 AM</td>\n",
       "      <td>01/01/2020 12:56:39 AM</td>\n",
       "      <td>N</td>\n",
       "      <td>5.0</td>\n",
       "      <td>66</td>\n",
       "      <td>65</td>\n",
       "      <td>2.0</td>\n",
       "      <td>1.28</td>\n",
       "      <td>20.0</td>\n",
       "      <td>0.0</td>\n",
       "      <td>0.0</td>\n",
       "      <td>4.06</td>\n",
       "      <td>0.0</td>\n",
       "      <td>NaN</td>\n",
       "      <td>0.3</td>\n",
       "      <td>24.36</td>\n",
       "      <td>1.0</td>\n",
       "      <td>2.0</td>\n",
       "      <td>0.0</td>\n",
       "    </tr>\n",
       "  </tbody>\n",
       "</table>\n",
       "</div>"
      ],
      "text/plain": [
       "   VendorID    lpep_pickup_datetime   lpep_dropoff_datetime  \\\n",
       "0       2.0  12/18/2019 03:52:30 PM  12/18/2019 03:54:39 PM   \n",
       "1       2.0  01/01/2020 12:45:58 AM  01/01/2020 12:56:39 AM   \n",
       "\n",
       "  store_and_fwd_flag  RatecodeID  PULocationID  DOLocationID  passenger_count  \\\n",
       "0                  N         1.0           264           264              5.0   \n",
       "1                  N         5.0            66            65              2.0   \n",
       "\n",
       "   trip_distance  fare_amount  extra  mta_tax  tip_amount  tolls_amount  \\\n",
       "0           0.00          3.5    0.5      0.5        0.01           0.0   \n",
       "1           1.28         20.0    0.0      0.0        4.06           0.0   \n",
       "\n",
       "   ehail_fee  improvement_surcharge  total_amount  payment_type  trip_type  \\\n",
       "0        NaN                    0.3          4.81           1.0        1.0   \n",
       "1        NaN                    0.3         24.36           1.0        2.0   \n",
       "\n",
       "   congestion_surcharge  \n",
       "0                   0.0  \n",
       "1                   0.0  "
      ]
     },
     "execution_count": 15,
     "metadata": {},
     "output_type": "execute_result"
    }
   ],
   "source": [
    "df_taxi.head(2)"
   ]
  },
  {
   "cell_type": "code",
   "execution_count": 16,
   "metadata": {
    "pycharm": {
     "name": "#%%\n"
    }
   },
   "outputs": [],
   "source": [
    "#Creating a new struct for taxi data so that data from the existing Panda DF can be\n",
    "#copied instead of downloading it again\n",
    "\n",
    "from pyspark.sql.types import *\n",
    "\n",
    "taxiSchema = StructType([StructField(\"VendorID\", FloatType(), True)\n",
    "                       ,StructField(\"lpep_pickup_datetime\", StringType(), True)\n",
    "                       ,StructField(\"lpep_dropoff_datetime\", StringType(), True)\n",
    "                       ,StructField(\"store_and_fwd_flag\", StringType(), True)\n",
    "                       ,StructField(\"RatecodeID\", FloatType(), True)\n",
    "                       ,StructField(\"PULocationID\", IntegerType(), True)\n",
    "                       ,StructField(\"DOLocationID\", IntegerType(), True)\n",
    "                       ,StructField(\"passenger_count\", FloatType(), True)\n",
    "                       ,StructField(\"trip_distance\", FloatType(), True)\n",
    "                       ,StructField(\"fare_amount\", FloatType(), True)\n",
    "                       ,StructField(\"extra\", FloatType(), True)\n",
    "                       ,StructField(\"mta_tax\", FloatType(), True)\n",
    "                       ,StructField(\"tip_amount\", FloatType(), True)\n",
    "                       ,StructField(\"tolls_amount\", FloatType(), True)\n",
    "                       ,StructField(\"ehail_fee\", FloatType(), True)\n",
    "                       ,StructField(\"improvement_surcharge\", FloatType(), True)\n",
    "                       ,StructField(\"total_amount\", FloatType(), True)\n",
    "                       ,StructField(\"payment_type\", FloatType(), True)\n",
    "                       ,StructField(\"trip_type\", FloatType(), True)\n",
    "                       ,StructField(\"congestion_surcharge\", FloatType(), True)])\n"
   ]
  },
  {
   "cell_type": "code",
   "execution_count": 17,
   "metadata": {
    "pycharm": {
     "name": "#%%\n"
    }
   },
   "outputs": [
    {
     "name": "stdout",
     "output_type": "stream",
     "text": [
      "+--------+--------------------+---------------------+------------------+----------+------------+------------+---------------+-------------+-----------+-----+-------+----------+------------+---------+---------------------+------------+------------+---------+--------------------+\n",
      "|VendorID|lpep_pickup_datetime|lpep_dropoff_datetime|store_and_fwd_flag|RatecodeID|PULocationID|DOLocationID|passenger_count|trip_distance|fare_amount|extra|mta_tax|tip_amount|tolls_amount|ehail_fee|improvement_surcharge|total_amount|payment_type|trip_type|congestion_surcharge|\n",
      "+--------+--------------------+---------------------+------------------+----------+------------+------------+---------------+-------------+-----------+-----+-------+----------+------------+---------+---------------------+------------+------------+---------+--------------------+\n",
      "|     2.0|12/18/2019 03:52:...| 12/18/2019 03:54:...|                 N|       1.0|         264|         264|            5.0|          0.0|        3.5|  0.5|    0.5|      0.01|         0.0|      NaN|                  0.3|        4.81|         1.0|      1.0|                 0.0|\n",
      "|     2.0|01/01/2020 12:45:...| 01/01/2020 12:56:...|                 N|       5.0|          66|          65|            2.0|         1.28|       20.0|  0.0|    0.0|      4.06|         0.0|      NaN|                  0.3|       24.36|         1.0|      2.0|                 0.0|\n",
      "+--------+--------------------+---------------------+------------------+----------+------------+------------+---------------+-------------+-----------+-----+-------+----------+------------+---------+---------------------+------------+------------+---------+--------------------+\n",
      "only showing top 2 rows\n",
      "\n"
     ]
    }
   ],
   "source": [
    "#Creating a taxi Spark Dataframe from the existing Panda DF\n",
    "taxi_spark_df = spark.createDataFrame(df_taxi,schema=taxiSchema)\n",
    "taxi_spark_df.show(2)"
   ]
  },
  {
   "cell_type": "code",
   "execution_count": 18,
   "metadata": {
    "pycharm": {
     "name": "#%%\n"
    }
   },
   "outputs": [
    {
     "data": {
      "text/plain": [
       "[Row(RatecodeID=1, Rate_type='Standard rate'),\n",
       " Row(RatecodeID=2, Rate_type='JFK')]"
      ]
     },
     "execution_count": 18,
     "metadata": {},
     "output_type": "execute_result"
    }
   ],
   "source": [
    "#Creating a Rate Spark Dataframe from the existing Panda DF\n",
    "\n",
    "rateSchema = StructType([StructField(\"RatecodeID\",IntegerType(),True),StructField(\"Rate_type\",StringType(),True)])\n",
    "rate_spark_df = spark.createDataFrame(df_rate,schema=rateSchema)\n",
    "rate_spark_df.head(2)"
   ]
  },
  {
   "cell_type": "code",
   "execution_count": 19,
   "metadata": {
    "pycharm": {
     "name": "#%%\n"
    }
   },
   "outputs": [
    {
     "name": "stdout",
     "output_type": "stream",
     "text": [
      "+---------+------------+\n",
      "|PaymentID|Payment_type|\n",
      "+---------+------------+\n",
      "|        1| Credit card|\n",
      "|        2|        Cash|\n",
      "+---------+------------+\n",
      "only showing top 2 rows\n",
      "\n"
     ]
    }
   ],
   "source": [
    "#Creating a Rate Spark Dataframe from the existing Panda DF\n",
    "\n",
    "paymentSchema = StructType([StructField(\"PaymentID\",IntegerType(),True),StructField(\"Payment_type\",StringType(),True)])\n",
    "payment_spark_df = spark.createDataFrame(df_payment,schema=paymentSchema)\n",
    "payment_spark_df.show(2)"
   ]
  },
  {
   "cell_type": "markdown",
   "metadata": {},
   "source": [
    "### Step 2: Explore and Assess the Data\n",
    "#### Explore the Data \n",
    "Identify data quality issues, like missing values, duplicate data, etc.\n",
    "\n",
    "1. Remove rows where Payment ID is Unknown .\n",
    "2. Remove rows where PickUpID or DropID is 264 or 265, check all values in range .\n",
    "3. Convert PickUpTime and DropTime to TIMESTAMP .\n",
    "4. Remove rows which are out of range in taxi  .\n",
    "5. Remove rows with Missing Columns in taxi data or is NULL/NaN .\n",
    "6. Remove duplicate data in weather. (keep only JFK, remove others) .\n",
    "7. Convert DATE and DropTime to TIMESTAMP .\n",
    "8. Filter Weather data so that it matches time period of taxi data .\n",
    "\n",
    "#### Cleaning Steps\n",
    "Document steps necessary to clean the data"
   ]
  },
  {
   "cell_type": "code",
   "execution_count": 20,
   "metadata": {
    "pycharm": {
     "name": "#%%\n"
    }
   },
   "outputs": [],
   "source": [
    "#taxi_spark_df.count()"
   ]
  },
  {
   "cell_type": "code",
   "execution_count": 21,
   "metadata": {
    "pycharm": {
     "name": "#%%\n"
    }
   },
   "outputs": [],
   "source": [
    "# Performing cleaning task 1\n",
    "taxi_spark_df = taxi_spark_df.filter(taxi_spark_df[\"payment_type\"] != 5)"
   ]
  },
  {
   "cell_type": "code",
   "execution_count": 22,
   "metadata": {
    "pycharm": {
     "name": "#%%\n"
    }
   },
   "outputs": [],
   "source": [
    "# Performing cleaning task 2\n",
    "taxi_spark_df = taxi_spark_df.filter(taxi_spark_df[\"PULocationID\"] != 264)\\\n",
    "                             .filter(taxi_spark_df[\"PULocationID\"] != 265)"
   ]
  },
  {
   "cell_type": "code",
   "execution_count": 23,
   "metadata": {},
   "outputs": [
    {
     "data": {
      "text/plain": [
       "[Row(VendorID=2.0, store_and_fwd_flag='N', RatecodeID=5.0, PULocationID=66, DOLocationID=65, passenger_count=2.0, trip_distance=1.2799999713897705, fare_amount=20.0, extra=0.0, mta_tax=0.0, tip_amount=4.059999942779541, tolls_amount=0.0, ehail_fee=nan, improvement_surcharge=0.30000001192092896, total_amount=24.360000610351562, payment_type=1.0, trip_type=2.0, congestion_surcharge=0.0, PickupTS=datetime.datetime(2020, 1, 1, 0, 45, 58), DropTS=datetime.datetime(2020, 1, 1, 0, 56, 39)),\n",
       " Row(VendorID=2.0, store_and_fwd_flag='N', RatecodeID=1.0, PULocationID=181, DOLocationID=228, passenger_count=1.0, trip_distance=2.4700000286102295, fare_amount=10.5, extra=0.5, mta_tax=0.5, tip_amount=3.5399999618530273, tolls_amount=0.0, ehail_fee=nan, improvement_surcharge=0.30000001192092896, total_amount=15.34000015258789, payment_type=1.0, trip_type=1.0, congestion_surcharge=0.0, PickupTS=datetime.datetime(2020, 1, 1, 0, 41, 38), DropTS=datetime.datetime(2020, 1, 1, 0, 52, 49)),\n",
       " Row(VendorID=1.0, store_and_fwd_flag='N', RatecodeID=1.0, PULocationID=129, DOLocationID=263, passenger_count=2.0, trip_distance=6.300000190734863, fare_amount=21.0, extra=3.25, mta_tax=0.5, tip_amount=0.0, tolls_amount=0.0, ehail_fee=nan, improvement_surcharge=0.30000001192092896, total_amount=25.049999237060547, payment_type=2.0, trip_type=1.0, congestion_surcharge=2.75, PickupTS=datetime.datetime(2020, 1, 1, 0, 52, 46), DropTS=datetime.datetime(2020, 1, 1, 1, 14, 21)),\n",
       " Row(VendorID=1.0, store_and_fwd_flag='N', RatecodeID=1.0, PULocationID=210, DOLocationID=150, passenger_count=1.0, trip_distance=2.299999952316284, fare_amount=10.0, extra=0.5, mta_tax=0.5, tip_amount=0.0, tolls_amount=0.0, ehail_fee=nan, improvement_surcharge=0.30000001192092896, total_amount=11.300000190734863, payment_type=1.0, trip_type=1.0, congestion_surcharge=0.0, PickupTS=datetime.datetime(2020, 1, 1, 0, 19, 57), DropTS=datetime.datetime(2020, 1, 1, 0, 30, 56)),\n",
       " Row(VendorID=1.0, store_and_fwd_flag='N', RatecodeID=1.0, PULocationID=35, DOLocationID=39, passenger_count=1.0, trip_distance=3.0, fare_amount=13.5, extra=0.5, mta_tax=0.5, tip_amount=0.0, tolls_amount=0.0, ehail_fee=nan, improvement_surcharge=0.30000001192092896, total_amount=14.800000190734863, payment_type=1.0, trip_type=1.0, congestion_surcharge=0.0, PickupTS=datetime.datetime(2020, 1, 1, 0, 52, 33), DropTS=datetime.datetime(2020, 1, 1, 1, 9, 54)),\n",
       " Row(VendorID=2.0, store_and_fwd_flag='N', RatecodeID=1.0, PULocationID=25, DOLocationID=61, passenger_count=1.0, trip_distance=2.7699999809265137, fare_amount=11.0, extra=0.5, mta_tax=0.5, tip_amount=0.0, tolls_amount=0.0, ehail_fee=nan, improvement_surcharge=0.30000001192092896, total_amount=12.300000190734863, payment_type=2.0, trip_type=1.0, congestion_surcharge=0.0, PickupTS=datetime.datetime(2020, 1, 1, 0, 10, 18), DropTS=datetime.datetime(2020, 1, 1, 0, 22, 16)),\n",
       " Row(VendorID=2.0, store_and_fwd_flag='N', RatecodeID=1.0, PULocationID=225, DOLocationID=89, passenger_count=1.0, trip_distance=4.980000019073486, fare_amount=20.5, extra=0.5, mta_tax=0.5, tip_amount=0.0, tolls_amount=0.0, ehail_fee=nan, improvement_surcharge=0.30000001192092896, total_amount=21.799999237060547, payment_type=2.0, trip_type=1.0, congestion_surcharge=0.0, PickupTS=datetime.datetime(2020, 1, 1, 1, 3, 14), DropTS=datetime.datetime(2020, 1, 1, 1, 29, 45)),\n",
       " Row(VendorID=2.0, store_and_fwd_flag='N', RatecodeID=1.0, PULocationID=129, DOLocationID=129, passenger_count=1.0, trip_distance=0.7099999785423279, fare_amount=5.5, extra=0.5, mta_tax=0.5, tip_amount=0.0, tolls_amount=0.0, ehail_fee=nan, improvement_surcharge=0.30000001192092896, total_amount=6.800000190734863, payment_type=2.0, trip_type=1.0, congestion_surcharge=0.0, PickupTS=datetime.datetime(2020, 1, 1, 0, 4, 11), DropTS=datetime.datetime(2020, 1, 1, 0, 9, 48)),\n",
       " Row(VendorID=2.0, store_and_fwd_flag='N', RatecodeID=1.0, PULocationID=129, DOLocationID=83, passenger_count=1.0, trip_distance=0.800000011920929, fare_amount=5.5, extra=0.5, mta_tax=0.5, tip_amount=0.0, tolls_amount=0.0, ehail_fee=nan, improvement_surcharge=0.30000001192092896, total_amount=6.800000190734863, payment_type=2.0, trip_type=1.0, congestion_surcharge=0.0, PickupTS=datetime.datetime(2020, 1, 1, 0, 25, 52), DropTS=datetime.datetime(2020, 1, 1, 0, 32, 16)),\n",
       " Row(VendorID=2.0, store_and_fwd_flag='N', RatecodeID=1.0, PULocationID=82, DOLocationID=173, passenger_count=1.0, trip_distance=1.5199999809265137, fare_amount=9.5, extra=0.5, mta_tax=0.5, tip_amount=0.0, tolls_amount=0.0, ehail_fee=nan, improvement_surcharge=0.30000001192092896, total_amount=10.800000190734863, payment_type=2.0, trip_type=1.0, congestion_surcharge=0.0, PickupTS=datetime.datetime(2020, 1, 1, 0, 47, 32), DropTS=datetime.datetime(2020, 1, 1, 0, 59, 25))]"
      ]
     },
     "execution_count": 23,
     "metadata": {},
     "output_type": "execute_result"
    }
   ],
   "source": [
    "# Performing cleaning task 3\n",
    "\n",
    "# add column with new time stamp column (x2)\n",
    "taxi_spark_df = taxi_spark_df.withColumn(\"PickupTS\",f.to_timestamp(taxi_spark_df[\"lpep_pickup_datetime\"],\"MM/dd/yyyy hh:mm:ss a\"))\n",
    "taxi_spark_df = taxi_spark_df.withColumn(\"DropTS\",f.to_timestamp(taxi_spark_df[\"lpep_dropoff_datetime\"],\"MM/dd/yyyy hh:mm:ss a\"))\n",
    "# drop column with new time stamp column (x2)\n",
    "taxi_spark_df = taxi_spark_df.drop(\"lpep_pickup_datetime\",\"lpep_dropoff_datetime\")\n",
    "\n",
    "taxi_spark_df.head(10)"
   ]
  },
  {
   "cell_type": "code",
   "execution_count": 24,
   "metadata": {
    "pycharm": {
     "name": "#%%\n"
    }
   },
   "outputs": [],
   "source": [
    "# Performing cleaning task 4\n",
    "# filter data on the basis of timestamp\n",
    "from_date = datetime.datetime(2020,1,1,0,0,0)\n",
    "to_date = datetime.datetime(2020,6,30,23,59,59)\n",
    "\n",
    "taxi_spark_df = taxi_spark_df.filter(taxi_spark_df[\"PickupTS\"] >= from_date)\\\n",
    "                             .filter(taxi_spark_df[\"DropTS\"] <= to_date)"
   ]
  },
  {
   "cell_type": "code",
   "execution_count": 25,
   "metadata": {
    "pycharm": {
     "name": "#%%\n"
    }
   },
   "outputs": [],
   "source": [
    "# Performing cleaning task 5\n",
    "taxi_spark_df = taxi_spark_df.filter(taxi_spark_df[\"PickupTS\"].isNotNull() == True)\\\n",
    "                             .filter(taxi_spark_df[\"DropTS\"].isNotNull() == True)\\\n",
    "                             .filter(taxi_spark_df[\"RatecodeID\"].isNotNull() == True)\\\n",
    "                             .filter(taxi_spark_df[\"PULocationID\"].isNotNull() == True)\\\n",
    "                             .filter(taxi_spark_df[\"DOLocationID\"].isNotNull() == True)\\\n",
    "                             .filter(taxi_spark_df[\"passenger_count\"].isNotNull() == True)\\\n",
    "                             .filter(taxi_spark_df[\"trip_distance\"].isNotNull() == True)\\\n",
    "                             .filter(taxi_spark_df[\"fare_amount\"].isNotNull() == True)\\\n",
    "                             .filter(taxi_spark_df[\"payment_type\"].isNotNull() == True)\\\n",
    "                             .filter(taxi_spark_df[\"extra\"].isNotNull() == True)\\\n",
    "                             .filter(taxi_spark_df[\"mta_tax\"].isNotNull() == True)\\\n",
    "                             .filter(taxi_spark_df[\"tip_amount\"].isNotNull() == True)\\\n",
    "                             .filter(taxi_spark_df[\"tolls_amount\"].isNotNull() == True)\\\n",
    "                             .filter(taxi_spark_df[\"improvement_surcharge\"].isNotNull() == True)\\\n",
    "                             .filter(taxi_spark_df[\"total_amount\"].isNotNull() == True)\\\n",
    "                             .filter(taxi_spark_df[\"congestion_surcharge\"].isNotNull() == True)"
   ]
  },
  {
   "cell_type": "code",
   "execution_count": 26,
   "metadata": {
    "pycharm": {
     "name": "#%%\n"
    }
   },
   "outputs": [
    {
     "data": {
      "text/plain": [
       "[Row(STATION='USW00094789', NAME='JFK INTERNATIONAL AIRPORT, NY US', LATITUDE='40.6386', LONGITUDE='-73.7622', ELEVATION='3.4', DATE='01-01T01:00:00', HLY-CLDH-NORMAL='0.0', HLY-CLOD-PCTBKN='116', HLY-CLOD-PCTCLR='240', HLY-CLOD-PCTFEW='119', HLY-CLOD-PCTOVC='445', HLY-CLOD-PCTSCT='80', HLY-DEWP-10PCTL='-15.6', HLY-DEWP-90PCTL='5.6', HLY-DEWP-NORMAL='-4.6', HLY-HIDX-NORMAL='0.9', HLY-HTDH-NORMAL='17.5', HLY-PRES-10PCTL='1005.2', HLY-PRES-90PCTL='1030.8', HLY-PRES-NORMAL='1018.2', HLY-TEMP-10PCTL='-6.1', HLY-TEMP-90PCTL='7.2', HLY-TEMP-NORMAL='0.9', HLY-WCHL-NORMAL='-3.7', HLY-WIND-1STDIR='8', HLY-WIND-1STPCT='258', HLY-WIND-2NDDIR='7', HLY-WIND-2NDPCT='204', HLY-WIND-AVGSPD='5.3', HLY-WIND-PCTCLM='33', HLY-WIND-VCTDIR='304', HLY-WIND-VCTSPD='2.8'),\n",
       " Row(STATION='USW00094789', NAME='JFK INTERNATIONAL AIRPORT, NY US', LATITUDE='40.6386', LONGITUDE='-73.7622', ELEVATION='3.4', DATE='01-01T02:00:00', HLY-CLDH-NORMAL='0.0', HLY-CLOD-PCTBKN='131', HLY-CLOD-PCTCLR='235', HLY-CLOD-PCTFEW='124', HLY-CLOD-PCTOVC='443', HLY-CLOD-PCTSCT='66', HLY-DEWP-10PCTL='-15.0', HLY-DEWP-90PCTL='5.0', HLY-DEWP-NORMAL='-4.6', HLY-HIDX-NORMAL='0.8', HLY-HTDH-NORMAL='17.6', HLY-PRES-10PCTL='1005.4', HLY-PRES-90PCTL='1031.1', HLY-PRES-NORMAL='1018.4', HLY-TEMP-10PCTL='-6.1', HLY-TEMP-90PCTL='7.2', HLY-TEMP-NORMAL='0.8', HLY-WCHL-NORMAL='-3.7', HLY-WIND-1STDIR='8', HLY-WIND-1STPCT='246', HLY-WIND-2NDDIR='7', HLY-WIND-2NDPCT='209', HLY-WIND-AVGSPD='5.2', HLY-WIND-PCTCLM='40', HLY-WIND-VCTDIR='304', HLY-WIND-VCTSPD='2.8'),\n",
       " Row(STATION='USW00094789', NAME='JFK INTERNATIONAL AIRPORT, NY US', LATITUDE='40.6386', LONGITUDE='-73.7622', ELEVATION='3.4', DATE='01-01T03:00:00', HLY-CLDH-NORMAL='0.0', HLY-CLOD-PCTBKN='143', HLY-CLOD-PCTCLR='242', HLY-CLOD-PCTFEW='95', HLY-CLOD-PCTOVC='455', HLY-CLOD-PCTSCT='66', HLY-DEWP-10PCTL='-15.0', HLY-DEWP-90PCTL='5.0', HLY-DEWP-NORMAL='-4.6', HLY-HIDX-NORMAL='0.6', HLY-HTDH-NORMAL='17.8', HLY-PRES-10PCTL='1005.6', HLY-PRES-90PCTL='1030.8', HLY-PRES-NORMAL='1018.4', HLY-TEMP-10PCTL='-6.7', HLY-TEMP-90PCTL='7.2', HLY-TEMP-NORMAL='0.6', HLY-WCHL-NORMAL='-3.8', HLY-WIND-1STDIR='8', HLY-WIND-1STPCT='252', HLY-WIND-2NDDIR='7', HLY-WIND-2NDPCT='222', HLY-WIND-AVGSPD='5.1', HLY-WIND-PCTCLM='58', HLY-WIND-VCTDIR='307', HLY-WIND-VCTSPD='2.8'),\n",
       " Row(STATION='USW00094789', NAME='JFK INTERNATIONAL AIRPORT, NY US', LATITUDE='40.6386', LONGITUDE='-73.7622', ELEVATION='3.4', DATE='01-01T04:00:00', HLY-CLDH-NORMAL='0.0', HLY-CLOD-PCTBKN='143', HLY-CLOD-PCTCLR='234', HLY-CLOD-PCTFEW='107', HLY-CLOD-PCTOVC='451', HLY-CLOD-PCTSCT='66', HLY-DEWP-10PCTL='-15.0', HLY-DEWP-90PCTL='5.0', HLY-DEWP-NORMAL='-4.6', HLY-HIDX-NORMAL='0.4', HLY-HTDH-NORMAL='17.9', HLY-PRES-10PCTL='1005.1', HLY-PRES-90PCTL='1030.8', HLY-PRES-NORMAL='1018.2', HLY-TEMP-10PCTL='-6.7', HLY-TEMP-90PCTL='7.2', HLY-TEMP-NORMAL='0.4', HLY-WCHL-NORMAL='-4.0', HLY-WIND-1STDIR='8', HLY-WIND-1STPCT='254', HLY-WIND-2NDDIR='7', HLY-WIND-2NDPCT='209', HLY-WIND-AVGSPD='5.1', HLY-WIND-PCTCLM='49', HLY-WIND-VCTDIR='307', HLY-WIND-VCTSPD='2.8'),\n",
       " Row(STATION='USW00094789', NAME='JFK INTERNATIONAL AIRPORT, NY US', LATITUDE='40.6386', LONGITUDE='-73.7622', ELEVATION='3.4', DATE='01-01T05:00:00', HLY-CLDH-NORMAL='0.0', HLY-CLOD-PCTBKN='142', HLY-CLOD-PCTCLR='199', HLY-CLOD-PCTFEW='130', HLY-CLOD-PCTOVC='455', HLY-CLOD-PCTSCT='73', HLY-DEWP-10PCTL='-15.0', HLY-DEWP-90PCTL='5.0', HLY-DEWP-NORMAL='-4.7', HLY-HIDX-NORMAL='0.4', HLY-HTDH-NORMAL='18.0', HLY-PRES-10PCTL='1004.9', HLY-PRES-90PCTL='1030.8', HLY-PRES-NORMAL='1018.1', HLY-TEMP-10PCTL='-6.7', HLY-TEMP-90PCTL='6.7', HLY-TEMP-NORMAL='0.4', HLY-WCHL-NORMAL='-4.2', HLY-WIND-1STDIR='8', HLY-WIND-1STPCT='279', HLY-WIND-2NDDIR='7', HLY-WIND-2NDPCT='209', HLY-WIND-AVGSPD='5.1', HLY-WIND-PCTCLM='51', HLY-WIND-VCTDIR='307', HLY-WIND-VCTSPD='2.8'),\n",
       " Row(STATION='USW00094789', NAME='JFK INTERNATIONAL AIRPORT, NY US', LATITUDE='40.6386', LONGITUDE='-73.7622', ELEVATION='3.4', DATE='01-01T06:00:00', HLY-CLDH-NORMAL='0.0', HLY-CLOD-PCTBKN='127', HLY-CLOD-PCTCLR='184', HLY-CLOD-PCTFEW='141', HLY-CLOD-PCTOVC='457', HLY-CLOD-PCTSCT='91', HLY-DEWP-10PCTL='-15.0', HLY-DEWP-90PCTL='4.4', HLY-DEWP-NORMAL='-4.7', HLY-HIDX-NORMAL='0.3', HLY-HTDH-NORMAL='18.1', HLY-PRES-10PCTL='1005.4', HLY-PRES-90PCTL='1031.1', HLY-PRES-NORMAL='1018.5', HLY-TEMP-10PCTL='-6.7', HLY-TEMP-90PCTL='6.7', HLY-TEMP-NORMAL='0.3', HLY-WCHL-NORMAL='-4.3', HLY-WIND-1STDIR='8', HLY-WIND-1STPCT='254', HLY-WIND-2NDDIR='7', HLY-WIND-2NDPCT='193', HLY-WIND-AVGSPD='5.2', HLY-WIND-PCTCLM='49', HLY-WIND-VCTDIR='305', HLY-WIND-VCTSPD='2.7'),\n",
       " Row(STATION='USW00094789', NAME='JFK INTERNATIONAL AIRPORT, NY US', LATITUDE='40.6386', LONGITUDE='-73.7622', ELEVATION='3.4', DATE='01-01T07:00:00', HLY-CLDH-NORMAL='0.0', HLY-CLOD-PCTBKN='228', HLY-CLOD-PCTCLR='99', HLY-CLOD-PCTFEW='147', HLY-CLOD-PCTOVC='408', HLY-CLOD-PCTSCT='118', HLY-DEWP-10PCTL='-14.4', HLY-DEWP-90PCTL='5.0', HLY-DEWP-NORMAL='-4.8', HLY-HIDX-NORMAL='0.3', HLY-HTDH-NORMAL='18.1', HLY-PRES-10PCTL='1005.8', HLY-PRES-90PCTL='1031.8', HLY-PRES-NORMAL='1018.7', HLY-TEMP-10PCTL='-6.7', HLY-TEMP-90PCTL='7.2', HLY-TEMP-NORMAL='0.3', HLY-WCHL-NORMAL='-4.2', HLY-WIND-1STDIR='8', HLY-WIND-1STPCT='257', HLY-WIND-2NDDIR='7', HLY-WIND-2NDPCT='211', HLY-WIND-AVGSPD='5.1', HLY-WIND-PCTCLM='51', HLY-WIND-VCTDIR='305', HLY-WIND-VCTSPD='2.6'),\n",
       " Row(STATION='USW00094789', NAME='JFK INTERNATIONAL AIRPORT, NY US', LATITUDE='40.6386', LONGITUDE='-73.7622', ELEVATION='3.4', DATE='01-01T08:00:00', HLY-CLDH-NORMAL='0.0', HLY-CLOD-PCTBKN='263', HLY-CLOD-PCTCLR='82', HLY-CLOD-PCTFEW='126', HLY-CLOD-PCTOVC='407', HLY-CLOD-PCTSCT='121', HLY-DEWP-10PCTL='-13.9', HLY-DEWP-90PCTL='5.0', HLY-DEWP-NORMAL='-4.7', HLY-HIDX-NORMAL='0.5', HLY-HTDH-NORMAL='17.9', HLY-PRES-10PCTL='1006.0', HLY-PRES-90PCTL='1031.8', HLY-PRES-NORMAL='1019.0', HLY-TEMP-10PCTL='-6.7', HLY-TEMP-90PCTL='7.2', HLY-TEMP-NORMAL='0.5', HLY-WCHL-NORMAL='-4.1', HLY-WIND-1STDIR='8', HLY-WIND-1STPCT='265', HLY-WIND-2NDDIR='7', HLY-WIND-2NDPCT='198', HLY-WIND-AVGSPD='5.3', HLY-WIND-PCTCLM='44', HLY-WIND-VCTDIR='304', HLY-WIND-VCTSPD='2.7'),\n",
       " Row(STATION='USW00094789', NAME='JFK INTERNATIONAL AIRPORT, NY US', LATITUDE='40.6386', LONGITUDE='-73.7622', ELEVATION='3.4', DATE='01-01T09:00:00', HLY-CLDH-NORMAL='0.0', HLY-CLOD-PCTBKN='253', HLY-CLOD-PCTCLR='95', HLY-CLOD-PCTFEW='122', HLY-CLOD-PCTOVC='414', HLY-CLOD-PCTSCT='115', HLY-DEWP-10PCTL='-13.9', HLY-DEWP-90PCTL='5.6', HLY-DEWP-NORMAL='-4.5', HLY-HIDX-NORMAL='1.2', HLY-HTDH-NORMAL='17.2', HLY-PRES-10PCTL='1006.6', HLY-PRES-90PCTL='1032.1', HLY-PRES-NORMAL='1019.3', HLY-TEMP-10PCTL='-6.1', HLY-TEMP-90PCTL='7.8', HLY-TEMP-NORMAL='1.2', HLY-WCHL-NORMAL='-3.4', HLY-WIND-1STDIR='8', HLY-WIND-1STPCT='264', HLY-WIND-2NDDIR='7', HLY-WIND-2NDPCT='197', HLY-WIND-AVGSPD='5.6', HLY-WIND-PCTCLM='49', HLY-WIND-VCTDIR='306', HLY-WIND-VCTSPD='2.8'),\n",
       " Row(STATION='USW00094789', NAME='JFK INTERNATIONAL AIRPORT, NY US', LATITUDE='40.6386', LONGITUDE='-73.7622', ELEVATION='3.4', DATE='01-01T10:00:00', HLY-CLDH-NORMAL='0.0', HLY-CLOD-PCTBKN='232', HLY-CLOD-PCTCLR='100', HLY-CLOD-PCTFEW='141', HLY-CLOD-PCTOVC='402', HLY-CLOD-PCTSCT='125', HLY-DEWP-10PCTL='-13.9', HLY-DEWP-90PCTL='6.1', HLY-DEWP-NORMAL='-4.4', HLY-HIDX-NORMAL='1.9', HLY-HTDH-NORMAL='16.5', HLY-PRES-10PCTL='1006.7', HLY-PRES-90PCTL='1032.2', HLY-PRES-NORMAL='1019.6', HLY-TEMP-10PCTL='-5.0', HLY-TEMP-90PCTL='8.3', HLY-TEMP-NORMAL='1.9', HLY-WCHL-NORMAL='-2.6', HLY-WIND-1STDIR='8', HLY-WIND-1STPCT='283', HLY-WIND-2NDDIR='7', HLY-WIND-2NDPCT='171', HLY-WIND-AVGSPD='5.8', HLY-WIND-PCTCLM='29', HLY-WIND-VCTDIR='305', HLY-WIND-VCTSPD='2.9'),\n",
       " Row(STATION='USW00094789', NAME='JFK INTERNATIONAL AIRPORT, NY US', LATITUDE='40.6386', LONGITUDE='-73.7622', ELEVATION='3.4', DATE='01-01T11:00:00', HLY-CLDH-NORMAL='0.0', HLY-CLOD-PCTBKN='223', HLY-CLOD-PCTCLR='114', HLY-CLOD-PCTFEW='127', HLY-CLOD-PCTOVC='405', HLY-CLOD-PCTSCT='132', HLY-DEWP-10PCTL='-13.3', HLY-DEWP-90PCTL='6.7', HLY-DEWP-NORMAL='-4.4', HLY-HIDX-NORMAL='2.6', HLY-HTDH-NORMAL='15.8', HLY-PRES-10PCTL='1006.4', HLY-PRES-90PCTL='1031.8', HLY-PRES-NORMAL='1019.2', HLY-TEMP-10PCTL='-4.4', HLY-TEMP-90PCTL='8.9', HLY-TEMP-NORMAL='2.6', HLY-WCHL-NORMAL='-1.7', HLY-WIND-1STDIR='8', HLY-WIND-1STPCT='276', HLY-WIND-2NDDIR='7', HLY-WIND-2NDPCT='193', HLY-WIND-AVGSPD='5.9', HLY-WIND-PCTCLM='29', HLY-WIND-VCTDIR='302', HLY-WIND-VCTSPD='3.0'),\n",
       " Row(STATION='USW00094789', NAME='JFK INTERNATIONAL AIRPORT, NY US', LATITUDE='40.6386', LONGITUDE='-73.7622', ELEVATION='3.4', DATE='01-01T12:00:00', HLY-CLDH-NORMAL='-432.0', HLY-CLOD-PCTBKN='229', HLY-CLOD-PCTCLR='116', HLY-CLOD-PCTFEW='113', HLY-CLOD-PCTOVC='420', HLY-CLOD-PCTSCT='122', HLY-DEWP-10PCTL='-13.3', HLY-DEWP-90PCTL='6.1', HLY-DEWP-NORMAL='-4.3', HLY-HIDX-NORMAL='3.2', HLY-HTDH-NORMAL='15.2', HLY-PRES-10PCTL='1005.6', HLY-PRES-90PCTL='1030.8', HLY-PRES-NORMAL='1018.3', HLY-TEMP-10PCTL='-3.9', HLY-TEMP-90PCTL='9.4', HLY-TEMP-NORMAL='3.2', HLY-WCHL-NORMAL='-0.9', HLY-WIND-1STDIR='8', HLY-WIND-1STPCT='250', HLY-WIND-2NDDIR='7', HLY-WIND-2NDPCT='224', HLY-WIND-AVGSPD='5.9', HLY-WIND-PCTCLM='40', HLY-WIND-VCTDIR='299', HLY-WIND-VCTSPD='3.2'),\n",
       " Row(STATION='USW00094789', NAME='JFK INTERNATIONAL AIRPORT, NY US', LATITUDE='40.6386', LONGITUDE='-73.7622', ELEVATION='3.4', DATE='01-01T13:00:00', HLY-CLDH-NORMAL='-432.0', HLY-CLOD-PCTBKN='251', HLY-CLOD-PCTCLR='111', HLY-CLOD-PCTFEW='122', HLY-CLOD-PCTOVC='412', HLY-CLOD-PCTSCT='104', HLY-DEWP-10PCTL='-13.9', HLY-DEWP-90PCTL='6.1', HLY-DEWP-NORMAL='-4.3', HLY-HIDX-NORMAL='3.6', HLY-HTDH-NORMAL='14.8', HLY-PRES-10PCTL='1004.4', HLY-PRES-90PCTL='1029.8', HLY-PRES-NORMAL='1017.6', HLY-TEMP-10PCTL='-3.3', HLY-TEMP-90PCTL='10.0', HLY-TEMP-NORMAL='3.6', HLY-WCHL-NORMAL='-0.6', HLY-WIND-1STDIR='8', HLY-WIND-1STPCT='257', HLY-WIND-2NDDIR='7', HLY-WIND-2NDPCT='218', HLY-WIND-AVGSPD='5.9', HLY-WIND-PCTCLM='16', HLY-WIND-VCTDIR='295', HLY-WIND-VCTSPD='3.1'),\n",
       " Row(STATION='USW00094789', NAME='JFK INTERNATIONAL AIRPORT, NY US', LATITUDE='40.6386', LONGITUDE='-73.7622', ELEVATION='3.4', DATE='01-01T14:00:00', HLY-CLDH-NORMAL='-432.0', HLY-CLOD-PCTBKN='238', HLY-CLOD-PCTCLR='116', HLY-CLOD-PCTFEW='118', HLY-CLOD-PCTOVC='408', HLY-CLOD-PCTSCT='120', HLY-DEWP-10PCTL='-13.3', HLY-DEWP-90PCTL='6.1', HLY-DEWP-NORMAL='-4.2', HLY-HIDX-NORMAL='3.8', HLY-HTDH-NORMAL='14.6', HLY-PRES-10PCTL='1004.3', HLY-PRES-90PCTL='1029.1', HLY-PRES-NORMAL='1017.3', HLY-TEMP-10PCTL='-2.8', HLY-TEMP-90PCTL='10.0', HLY-TEMP-NORMAL='3.8', HLY-WCHL-NORMAL='-0.3', HLY-WIND-1STDIR='8', HLY-WIND-1STPCT='252', HLY-WIND-2NDDIR='7', HLY-WIND-2NDPCT='210', HLY-WIND-AVGSPD='5.9', HLY-WIND-PCTCLM='18', HLY-WIND-VCTDIR='294', HLY-WIND-VCTSPD='3.1'),\n",
       " Row(STATION='USW00094789', NAME='JFK INTERNATIONAL AIRPORT, NY US', LATITUDE='40.6386', LONGITUDE='-73.7622', ELEVATION='3.4', DATE='01-01T15:00:00', HLY-CLDH-NORMAL='-432.0', HLY-CLOD-PCTBKN='222', HLY-CLOD-PCTCLR='111', HLY-CLOD-PCTFEW='124', HLY-CLOD-PCTOVC='414', HLY-CLOD-PCTSCT='129', HLY-DEWP-10PCTL='-13.9', HLY-DEWP-90PCTL='6.1', HLY-DEWP-NORMAL='-4.3', HLY-HIDX-NORMAL='3.7', HLY-HTDH-NORMAL='14.6', HLY-PRES-10PCTL='1004.4', HLY-PRES-90PCTL='1028.8', HLY-PRES-NORMAL='1017.4', HLY-TEMP-10PCTL='-2.8', HLY-TEMP-90PCTL='10.0', HLY-TEMP-NORMAL='3.7', HLY-WCHL-NORMAL='-0.3', HLY-WIND-1STDIR='8', HLY-WIND-1STPCT='256', HLY-WIND-2NDDIR='7', HLY-WIND-2NDPCT='207', HLY-WIND-AVGSPD='5.9', HLY-WIND-PCTCLM='18', HLY-WIND-VCTDIR='297', HLY-WIND-VCTSPD='3.0'),\n",
       " Row(STATION='USW00094789', NAME='JFK INTERNATIONAL AIRPORT, NY US', LATITUDE='40.6386', LONGITUDE='-73.7622', ELEVATION='3.4', DATE='01-01T16:00:00', HLY-CLDH-NORMAL='-432.0', HLY-CLOD-PCTBKN='245', HLY-CLOD-PCTCLR='102', HLY-CLOD-PCTFEW='107', HLY-CLOD-PCTOVC='398', HLY-CLOD-PCTSCT='148', HLY-DEWP-10PCTL='-13.9', HLY-DEWP-90PCTL='6.1', HLY-DEWP-NORMAL='-4.3', HLY-HIDX-NORMAL='3.4', HLY-HTDH-NORMAL='15.0', HLY-PRES-10PCTL='1004.7', HLY-PRES-90PCTL='1029.3', HLY-PRES-NORMAL='1017.6', HLY-TEMP-10PCTL='-3.3', HLY-TEMP-90PCTL='9.4', HLY-TEMP-NORMAL='3.4', HLY-WCHL-NORMAL='-0.7', HLY-WIND-1STDIR='8', HLY-WIND-1STPCT='239', HLY-WIND-2NDDIR='7', HLY-WIND-2NDPCT='209', HLY-WIND-AVGSPD='5.8', HLY-WIND-PCTCLM='20', HLY-WIND-VCTDIR='296', HLY-WIND-VCTSPD='2.8'),\n",
       " Row(STATION='USW00094789', NAME='JFK INTERNATIONAL AIRPORT, NY US', LATITUDE='40.6386', LONGITUDE='-73.7622', ELEVATION='3.4', DATE='01-01T17:00:00', HLY-CLDH-NORMAL='-432.0', HLY-CLOD-PCTBKN='240', HLY-CLOD-PCTCLR='108', HLY-CLOD-PCTFEW='106', HLY-CLOD-PCTOVC='407', HLY-CLOD-PCTSCT='139', HLY-DEWP-10PCTL='-13.9', HLY-DEWP-90PCTL='5.6', HLY-DEWP-NORMAL='-4.3', HLY-HIDX-NORMAL='2.8', HLY-HTDH-NORMAL='15.6', HLY-PRES-10PCTL='1004.8', HLY-PRES-90PCTL='1029.8', HLY-PRES-NORMAL='1017.9', HLY-TEMP-10PCTL='-3.3', HLY-TEMP-90PCTL='8.9', HLY-TEMP-NORMAL='2.8', HLY-WCHL-NORMAL='-1.4', HLY-WIND-1STDIR='8', HLY-WIND-1STPCT='230', HLY-WIND-2NDDIR='7', HLY-WIND-2NDPCT='218', HLY-WIND-AVGSPD='5.8', HLY-WIND-PCTCLM='22', HLY-WIND-VCTDIR='296', HLY-WIND-VCTSPD='2.9'),\n",
       " Row(STATION='USW00094789', NAME='JFK INTERNATIONAL AIRPORT, NY US', LATITUDE='40.6386', LONGITUDE='-73.7622', ELEVATION='3.4', DATE='01-01T18:00:00', HLY-CLDH-NORMAL='-432.0', HLY-CLOD-PCTBKN='220', HLY-CLOD-PCTCLR='154', HLY-CLOD-PCTFEW='111', HLY-CLOD-PCTOVC='395', HLY-CLOD-PCTSCT='120', HLY-DEWP-10PCTL='-14.4', HLY-DEWP-90PCTL='5.6', HLY-DEWP-NORMAL='-4.4', HLY-HIDX-NORMAL='2.5', HLY-HTDH-NORMAL='15.9', HLY-PRES-10PCTL='1005.3', HLY-PRES-90PCTL='1030.1', HLY-PRES-NORMAL='1018.2', HLY-TEMP-10PCTL='-3.9', HLY-TEMP-90PCTL='8.3', HLY-TEMP-NORMAL='2.5', HLY-WCHL-NORMAL='-1.8', HLY-WIND-1STDIR='8', HLY-WIND-1STPCT='241', HLY-WIND-2NDDIR='7', HLY-WIND-2NDPCT='227', HLY-WIND-AVGSPD='5.7', HLY-WIND-PCTCLM='27', HLY-WIND-VCTDIR='300', HLY-WIND-VCTSPD='2.9'),\n",
       " Row(STATION='USW00094789', NAME='JFK INTERNATIONAL AIRPORT, NY US', LATITUDE='40.6386', LONGITUDE='-73.7622', ELEVATION='3.4', DATE='01-01T19:00:00', HLY-CLDH-NORMAL='0.0', HLY-CLOD-PCTBKN='172', HLY-CLOD-PCTCLR='170', HLY-CLOD-PCTFEW='107', HLY-CLOD-PCTOVC='428', HLY-CLOD-PCTSCT='123', HLY-DEWP-10PCTL='-14.4', HLY-DEWP-90PCTL='5.0', HLY-DEWP-NORMAL='-4.4', HLY-HIDX-NORMAL='2.3', HLY-HTDH-NORMAL='16.0', HLY-PRES-10PCTL='1006.0', HLY-PRES-90PCTL='1030.5', HLY-PRES-NORMAL='1018.5', HLY-TEMP-10PCTL='-4.4', HLY-TEMP-90PCTL='8.3', HLY-TEMP-NORMAL='2.3', HLY-WCHL-NORMAL='-2.1', HLY-WIND-1STDIR='8', HLY-WIND-1STPCT='234', HLY-WIND-2NDDIR='7', HLY-WIND-2NDPCT='225', HLY-WIND-AVGSPD='5.8', HLY-WIND-PCTCLM='22', HLY-WIND-VCTDIR='299', HLY-WIND-VCTSPD='3.0'),\n",
       " Row(STATION='USW00094789', NAME='JFK INTERNATIONAL AIRPORT, NY US', LATITUDE='40.6386', LONGITUDE='-73.7622', ELEVATION='3.4', DATE='01-01T20:00:00', HLY-CLDH-NORMAL='0.0', HLY-CLOD-PCTBKN='172', HLY-CLOD-PCTCLR='195', HLY-CLOD-PCTFEW='103', HLY-CLOD-PCTOVC='423', HLY-CLOD-PCTSCT='108', HLY-DEWP-10PCTL='-15.0', HLY-DEWP-90PCTL='5.0', HLY-DEWP-NORMAL='-4.6', HLY-HIDX-NORMAL='2.1', HLY-HTDH-NORMAL='16.3', HLY-PRES-10PCTL='1006.0', HLY-PRES-90PCTL='1030.9', HLY-PRES-NORMAL='1018.8', HLY-TEMP-10PCTL='-4.4', HLY-TEMP-90PCTL='8.3', HLY-TEMP-NORMAL='2.1', HLY-WCHL-NORMAL='-2.4', HLY-WIND-1STDIR='8', HLY-WIND-1STPCT='233', HLY-WIND-2NDDIR='7', HLY-WIND-2NDPCT='226', HLY-WIND-AVGSPD='5.8', HLY-WIND-PCTCLM='16', HLY-WIND-VCTDIR='301', HLY-WIND-VCTSPD='3.0'),\n",
       " Row(STATION='USW00094789', NAME='JFK INTERNATIONAL AIRPORT, NY US', LATITUDE='40.6386', LONGITUDE='-73.7622', ELEVATION='3.4', DATE='01-01T21:00:00', HLY-CLDH-NORMAL='0.0', HLY-CLOD-PCTBKN='169', HLY-CLOD-PCTCLR='200', HLY-CLOD-PCTFEW='121', HLY-CLOD-PCTOVC='424', HLY-CLOD-PCTSCT='87', HLY-DEWP-10PCTL='-15.0', HLY-DEWP-90PCTL='5.0', HLY-DEWP-NORMAL='-4.6', HLY-HIDX-NORMAL='1.7', HLY-HTDH-NORMAL='16.6', HLY-PRES-10PCTL='1005.9', HLY-PRES-90PCTL='1031.0', HLY-PRES-NORMAL='1018.8', HLY-TEMP-10PCTL='-4.4', HLY-TEMP-90PCTL='7.8', HLY-TEMP-NORMAL='1.7', HLY-WCHL-NORMAL='-2.9', HLY-WIND-1STDIR='7', HLY-WIND-1STPCT='226', HLY-WIND-2NDDIR='8', HLY-WIND-2NDPCT='220', HLY-WIND-AVGSPD='5.7', HLY-WIND-PCTCLM='29', HLY-WIND-VCTDIR='302', HLY-WIND-VCTSPD='3.0'),\n",
       " Row(STATION='USW00094789', NAME='JFK INTERNATIONAL AIRPORT, NY US', LATITUDE='40.6386', LONGITUDE='-73.7622', ELEVATION='3.4', DATE='01-01T22:00:00', HLY-CLDH-NORMAL='0.0', HLY-CLOD-PCTBKN='175', HLY-CLOD-PCTCLR='218', HLY-CLOD-PCTFEW='98', HLY-CLOD-PCTOVC='438', HLY-CLOD-PCTSCT='73', HLY-DEWP-10PCTL='-15.0', HLY-DEWP-90PCTL='5.6', HLY-DEWP-NORMAL='-4.6', HLY-HIDX-NORMAL='1.5', HLY-HTDH-NORMAL='16.9', HLY-PRES-10PCTL='1005.7', HLY-PRES-90PCTL='1031.4', HLY-PRES-NORMAL='1018.7', HLY-TEMP-10PCTL='-5.0', HLY-TEMP-90PCTL='7.8', HLY-TEMP-NORMAL='1.5', HLY-WCHL-NORMAL='-3.1', HLY-WIND-1STDIR='8', HLY-WIND-1STPCT='229', HLY-WIND-2NDDIR='7', HLY-WIND-2NDPCT='227', HLY-WIND-AVGSPD='5.5', HLY-WIND-PCTCLM='18', HLY-WIND-VCTDIR='302', HLY-WIND-VCTSPD='2.9'),\n",
       " Row(STATION='USW00094789', NAME='JFK INTERNATIONAL AIRPORT, NY US', LATITUDE='40.6386', LONGITUDE='-73.7622', ELEVATION='3.4', DATE='01-01T23:00:00', HLY-CLDH-NORMAL='0.0', HLY-CLOD-PCTBKN='178', HLY-CLOD-PCTCLR='221', HLY-CLOD-PCTFEW='99', HLY-CLOD-PCTOVC='424', HLY-CLOD-PCTSCT='77', HLY-DEWP-10PCTL='-15.0', HLY-DEWP-90PCTL='5.0', HLY-DEWP-NORMAL='-4.7', HLY-HIDX-NORMAL='1.2', HLY-HTDH-NORMAL='17.1', HLY-PRES-10PCTL='1005.9', HLY-PRES-90PCTL='1031.5', HLY-PRES-NORMAL='1018.7', HLY-TEMP-10PCTL='-5.6', HLY-TEMP-90PCTL='7.2', HLY-TEMP-NORMAL='1.2', HLY-WCHL-NORMAL='-3.3', HLY-WIND-1STDIR='8', HLY-WIND-1STPCT='238', HLY-WIND-2NDDIR='7', HLY-WIND-2NDPCT='204', HLY-WIND-AVGSPD='5.4', HLY-WIND-PCTCLM='36', HLY-WIND-VCTDIR='303', HLY-WIND-VCTSPD='2.8'),\n",
       " Row(STATION='USW00094789', NAME='JFK INTERNATIONAL AIRPORT, NY US', LATITUDE='40.6386', LONGITUDE='-73.7622', ELEVATION='3.4', DATE='01-02T00:00:00', HLY-CLDH-NORMAL='0.0', HLY-CLOD-PCTBKN='172', HLY-CLOD-PCTCLR='228', HLY-CLOD-PCTFEW='84', HLY-CLOD-PCTOVC='429', HLY-CLOD-PCTSCT='88', HLY-DEWP-10PCTL='-15.6', HLY-DEWP-90PCTL='5.0', HLY-DEWP-NORMAL='-5.2', HLY-HIDX-NORMAL='0.5', HLY-HTDH-NORMAL='17.9', HLY-PRES-10PCTL='1006.5', HLY-PRES-90PCTL='1031.5', HLY-PRES-NORMAL='1019.1', HLY-TEMP-10PCTL='-6.1', HLY-TEMP-90PCTL='6.1', HLY-TEMP-NORMAL='0.5', HLY-WCHL-NORMAL='-4.2', HLY-WIND-1STDIR='8', HLY-WIND-1STPCT='244', HLY-WIND-2NDDIR='7', HLY-WIND-2NDPCT='208', HLY-WIND-AVGSPD='5.4', HLY-WIND-PCTCLM='36', HLY-WIND-VCTDIR='304', HLY-WIND-VCTSPD='3.0'),\n",
       " Row(STATION='USW00094789', NAME='JFK INTERNATIONAL AIRPORT, NY US', LATITUDE='40.6386', LONGITUDE='-73.7622', ELEVATION='3.4', DATE='01-02T01:00:00', HLY-CLDH-NORMAL='0.0', HLY-CLOD-PCTBKN='124', HLY-CLOD-PCTCLR='231', HLY-CLOD-PCTFEW='121', HLY-CLOD-PCTOVC='442', HLY-CLOD-PCTSCT='82', HLY-DEWP-10PCTL='-15.6', HLY-DEWP-90PCTL='5.0', HLY-DEWP-NORMAL='-4.7', HLY-HIDX-NORMAL='0.8', HLY-HTDH-NORMAL='17.6', HLY-PRES-10PCTL='1005.2', HLY-PRES-90PCTL='1030.9', HLY-PRES-NORMAL='1018.2', HLY-TEMP-10PCTL='-6.1', HLY-TEMP-90PCTL='7.2', HLY-TEMP-NORMAL='0.8', HLY-WCHL-NORMAL='-3.8', HLY-WIND-1STDIR='8', HLY-WIND-1STPCT='255', HLY-WIND-2NDDIR='7', HLY-WIND-2NDPCT='200', HLY-WIND-AVGSPD='5.3', HLY-WIND-PCTCLM='33', HLY-WIND-VCTDIR='303', HLY-WIND-VCTSPD='2.8'),\n",
       " Row(STATION='USW00094789', NAME='JFK INTERNATIONAL AIRPORT, NY US', LATITUDE='40.6386', LONGITUDE='-73.7622', ELEVATION='3.4', DATE='01-02T02:00:00', HLY-CLDH-NORMAL='0.0', HLY-CLOD-PCTBKN='120', HLY-CLOD-PCTCLR='233', HLY-CLOD-PCTFEW='124', HLY-CLOD-PCTOVC='456', HLY-CLOD-PCTSCT='68', HLY-DEWP-10PCTL='-15.0', HLY-DEWP-90PCTL='4.4', HLY-DEWP-NORMAL='-4.7', HLY-HIDX-NORMAL='0.7', HLY-HTDH-NORMAL='17.7', HLY-PRES-10PCTL='1005.4', HLY-PRES-90PCTL='1031.2', HLY-PRES-NORMAL='1018.4', HLY-TEMP-10PCTL='-6.1', HLY-TEMP-90PCTL='7.2', HLY-TEMP-NORMAL='0.7', HLY-WCHL-NORMAL='-3.8', HLY-WIND-1STDIR='8', HLY-WIND-1STPCT='250', HLY-WIND-2NDDIR='7', HLY-WIND-2NDPCT='200', HLY-WIND-AVGSPD='5.2', HLY-WIND-PCTCLM='40', HLY-WIND-VCTDIR='303', HLY-WIND-VCTSPD='2.8'),\n",
       " Row(STATION='USW00094789', NAME='JFK INTERNATIONAL AIRPORT, NY US', LATITUDE='40.6386', LONGITUDE='-73.7622', ELEVATION='3.4', DATE='01-02T03:00:00', HLY-CLDH-NORMAL='0.0', HLY-CLOD-PCTBKN='140', HLY-CLOD-PCTCLR='242', HLY-CLOD-PCTFEW='90', HLY-CLOD-PCTOVC='463', HLY-CLOD-PCTSCT='65', HLY-DEWP-10PCTL='-15.0', HLY-DEWP-90PCTL='4.4', HLY-DEWP-NORMAL='-4.7', HLY-HIDX-NORMAL='0.5', HLY-HTDH-NORMAL='17.9', HLY-PRES-10PCTL='1005.6', HLY-PRES-90PCTL='1031.1', HLY-PRES-NORMAL='1018.5', HLY-TEMP-10PCTL='-6.7', HLY-TEMP-90PCTL='6.7', HLY-TEMP-NORMAL='0.5', HLY-WCHL-NORMAL='-4.0', HLY-WIND-1STDIR='8', HLY-WIND-1STPCT='252', HLY-WIND-2NDDIR='7', HLY-WIND-2NDPCT='220', HLY-WIND-AVGSPD='5.1', HLY-WIND-PCTCLM='58', HLY-WIND-VCTDIR='306', HLY-WIND-VCTSPD='2.8'),\n",
       " Row(STATION='USW00094789', NAME='JFK INTERNATIONAL AIRPORT, NY US', LATITUDE='40.6386', LONGITUDE='-73.7622', ELEVATION='3.4', DATE='01-02T04:00:00', HLY-CLDH-NORMAL='0.0', HLY-CLOD-PCTBKN='134', HLY-CLOD-PCTCLR='231', HLY-CLOD-PCTFEW='107', HLY-CLOD-PCTOVC='460', HLY-CLOD-PCTSCT='68', HLY-DEWP-10PCTL='-15.0', HLY-DEWP-90PCTL='5.0', HLY-DEWP-NORMAL='-4.7', HLY-HIDX-NORMAL='0.3', HLY-HTDH-NORMAL='18.0', HLY-PRES-10PCTL='1005.1', HLY-PRES-90PCTL='1031.0', HLY-PRES-NORMAL='1018.2', HLY-TEMP-10PCTL='-6.7', HLY-TEMP-90PCTL='6.7', HLY-TEMP-NORMAL='0.3', HLY-WCHL-NORMAL='-4.2', HLY-WIND-1STDIR='8', HLY-WIND-1STPCT='249', HLY-WIND-2NDDIR='7', HLY-WIND-2NDPCT='209', HLY-WIND-AVGSPD='5.1', HLY-WIND-PCTCLM='49', HLY-WIND-VCTDIR='306', HLY-WIND-VCTSPD='2.7'),\n",
       " Row(STATION='USW00094789', NAME='JFK INTERNATIONAL AIRPORT, NY US', LATITUDE='40.6386', LONGITUDE='-73.7622', ELEVATION='3.4', DATE='01-02T05:00:00', HLY-CLDH-NORMAL='0.0', HLY-CLOD-PCTBKN='142', HLY-CLOD-PCTCLR='194', HLY-CLOD-PCTFEW='132', HLY-CLOD-PCTOVC='461', HLY-CLOD-PCTSCT='71', HLY-DEWP-10PCTL='-15.0', HLY-DEWP-90PCTL='4.4', HLY-DEWP-NORMAL='-4.8', HLY-HIDX-NORMAL='0.3', HLY-HTDH-NORMAL='18.1', HLY-PRES-10PCTL='1005.1', HLY-PRES-90PCTL='1030.8', HLY-PRES-NORMAL='1018.1', HLY-TEMP-10PCTL='-6.7', HLY-TEMP-90PCTL='6.7', HLY-TEMP-NORMAL='0.3', HLY-WCHL-NORMAL='-4.3', HLY-WIND-1STDIR='8', HLY-WIND-1STPCT='274', HLY-WIND-2NDDIR='7', HLY-WIND-2NDPCT='213', HLY-WIND-AVGSPD='5.1', HLY-WIND-PCTCLM='51', HLY-WIND-VCTDIR='306', HLY-WIND-VCTSPD='2.7'),\n",
       " Row(STATION='USW00094789', NAME='JFK INTERNATIONAL AIRPORT, NY US', LATITUDE='40.6386', LONGITUDE='-73.7622', ELEVATION='3.4', DATE='01-02T06:00:00', HLY-CLDH-NORMAL='0.0', HLY-CLOD-PCTBKN='127', HLY-CLOD-PCTCLR='179', HLY-CLOD-PCTFEW='132', HLY-CLOD-PCTOVC='472', HLY-CLOD-PCTSCT='91', HLY-DEWP-10PCTL='-15.0', HLY-DEWP-90PCTL='4.4', HLY-DEWP-NORMAL='-4.8', HLY-HIDX-NORMAL='0.2', HLY-HTDH-NORMAL='18.1', HLY-PRES-10PCTL='1005.6', HLY-PRES-90PCTL='1031.1', HLY-PRES-NORMAL='1018.5', HLY-TEMP-10PCTL='-6.7', HLY-TEMP-90PCTL='6.7', HLY-TEMP-NORMAL='0.2', HLY-WCHL-NORMAL='-4.4', HLY-WIND-1STDIR='8', HLY-WIND-1STPCT='249', HLY-WIND-2NDDIR='7', HLY-WIND-2NDPCT='191', HLY-WIND-AVGSPD='5.2', HLY-WIND-PCTCLM='49', HLY-WIND-VCTDIR='304', HLY-WIND-VCTSPD='2.6')]"
      ]
     },
     "execution_count": 26,
     "metadata": {},
     "output_type": "execute_result"
    }
   ],
   "source": [
    "# Performing cleaning task 6\n",
    "weather_spark_df = weather_spark_df.filter(weather_spark_df['name'] == \"JFK INTERNATIONAL AIRPORT, NY US\")\n",
    "weather_spark_df.head(30)"
   ]
  },
  {
   "cell_type": "code",
   "execution_count": 27,
   "metadata": {
    "pycharm": {
     "name": "#%%\n"
    }
   },
   "outputs": [
    {
     "data": {
      "text/plain": [
       "[Row(STATION='USW00094789', NAME='JFK INTERNATIONAL AIRPORT, NY US', LATITUDE='40.6386', LONGITUDE='-73.7622', ELEVATION='3.4', HLY-CLDH-NORMAL='0.0', HLY-CLOD-PCTBKN='116', HLY-CLOD-PCTCLR='240', HLY-CLOD-PCTFEW='119', HLY-CLOD-PCTOVC='445', HLY-CLOD-PCTSCT='80', HLY-DEWP-10PCTL='-15.6', HLY-DEWP-90PCTL='5.6', HLY-DEWP-NORMAL='-4.6', HLY-HIDX-NORMAL='0.9', HLY-HTDH-NORMAL='17.5', HLY-PRES-10PCTL='1005.2', HLY-PRES-90PCTL='1030.8', HLY-PRES-NORMAL='1018.2', HLY-TEMP-10PCTL='-6.1', HLY-TEMP-90PCTL='7.2', HLY-TEMP-NORMAL='0.9', HLY-WCHL-NORMAL='-3.7', HLY-WIND-1STDIR='8', HLY-WIND-1STPCT='258', HLY-WIND-2NDDIR='7', HLY-WIND-2NDPCT='204', HLY-WIND-AVGSPD='5.3', HLY-WIND-PCTCLM='33', HLY-WIND-VCTDIR='304', HLY-WIND-VCTSPD='2.8', ts=datetime.datetime(2020, 1, 1, 1, 0)),\n",
       " Row(STATION='USW00094789', NAME='JFK INTERNATIONAL AIRPORT, NY US', LATITUDE='40.6386', LONGITUDE='-73.7622', ELEVATION='3.4', HLY-CLDH-NORMAL='0.0', HLY-CLOD-PCTBKN='131', HLY-CLOD-PCTCLR='235', HLY-CLOD-PCTFEW='124', HLY-CLOD-PCTOVC='443', HLY-CLOD-PCTSCT='66', HLY-DEWP-10PCTL='-15.0', HLY-DEWP-90PCTL='5.0', HLY-DEWP-NORMAL='-4.6', HLY-HIDX-NORMAL='0.8', HLY-HTDH-NORMAL='17.6', HLY-PRES-10PCTL='1005.4', HLY-PRES-90PCTL='1031.1', HLY-PRES-NORMAL='1018.4', HLY-TEMP-10PCTL='-6.1', HLY-TEMP-90PCTL='7.2', HLY-TEMP-NORMAL='0.8', HLY-WCHL-NORMAL='-3.7', HLY-WIND-1STDIR='8', HLY-WIND-1STPCT='246', HLY-WIND-2NDDIR='7', HLY-WIND-2NDPCT='209', HLY-WIND-AVGSPD='5.2', HLY-WIND-PCTCLM='40', HLY-WIND-VCTDIR='304', HLY-WIND-VCTSPD='2.8', ts=datetime.datetime(2020, 1, 1, 2, 0)),\n",
       " Row(STATION='USW00094789', NAME='JFK INTERNATIONAL AIRPORT, NY US', LATITUDE='40.6386', LONGITUDE='-73.7622', ELEVATION='3.4', HLY-CLDH-NORMAL='0.0', HLY-CLOD-PCTBKN='143', HLY-CLOD-PCTCLR='242', HLY-CLOD-PCTFEW='95', HLY-CLOD-PCTOVC='455', HLY-CLOD-PCTSCT='66', HLY-DEWP-10PCTL='-15.0', HLY-DEWP-90PCTL='5.0', HLY-DEWP-NORMAL='-4.6', HLY-HIDX-NORMAL='0.6', HLY-HTDH-NORMAL='17.8', HLY-PRES-10PCTL='1005.6', HLY-PRES-90PCTL='1030.8', HLY-PRES-NORMAL='1018.4', HLY-TEMP-10PCTL='-6.7', HLY-TEMP-90PCTL='7.2', HLY-TEMP-NORMAL='0.6', HLY-WCHL-NORMAL='-3.8', HLY-WIND-1STDIR='8', HLY-WIND-1STPCT='252', HLY-WIND-2NDDIR='7', HLY-WIND-2NDPCT='222', HLY-WIND-AVGSPD='5.1', HLY-WIND-PCTCLM='58', HLY-WIND-VCTDIR='307', HLY-WIND-VCTSPD='2.8', ts=datetime.datetime(2020, 1, 1, 3, 0)),\n",
       " Row(STATION='USW00094789', NAME='JFK INTERNATIONAL AIRPORT, NY US', LATITUDE='40.6386', LONGITUDE='-73.7622', ELEVATION='3.4', HLY-CLDH-NORMAL='0.0', HLY-CLOD-PCTBKN='143', HLY-CLOD-PCTCLR='234', HLY-CLOD-PCTFEW='107', HLY-CLOD-PCTOVC='451', HLY-CLOD-PCTSCT='66', HLY-DEWP-10PCTL='-15.0', HLY-DEWP-90PCTL='5.0', HLY-DEWP-NORMAL='-4.6', HLY-HIDX-NORMAL='0.4', HLY-HTDH-NORMAL='17.9', HLY-PRES-10PCTL='1005.1', HLY-PRES-90PCTL='1030.8', HLY-PRES-NORMAL='1018.2', HLY-TEMP-10PCTL='-6.7', HLY-TEMP-90PCTL='7.2', HLY-TEMP-NORMAL='0.4', HLY-WCHL-NORMAL='-4.0', HLY-WIND-1STDIR='8', HLY-WIND-1STPCT='254', HLY-WIND-2NDDIR='7', HLY-WIND-2NDPCT='209', HLY-WIND-AVGSPD='5.1', HLY-WIND-PCTCLM='49', HLY-WIND-VCTDIR='307', HLY-WIND-VCTSPD='2.8', ts=datetime.datetime(2020, 1, 1, 4, 0)),\n",
       " Row(STATION='USW00094789', NAME='JFK INTERNATIONAL AIRPORT, NY US', LATITUDE='40.6386', LONGITUDE='-73.7622', ELEVATION='3.4', HLY-CLDH-NORMAL='0.0', HLY-CLOD-PCTBKN='142', HLY-CLOD-PCTCLR='199', HLY-CLOD-PCTFEW='130', HLY-CLOD-PCTOVC='455', HLY-CLOD-PCTSCT='73', HLY-DEWP-10PCTL='-15.0', HLY-DEWP-90PCTL='5.0', HLY-DEWP-NORMAL='-4.7', HLY-HIDX-NORMAL='0.4', HLY-HTDH-NORMAL='18.0', HLY-PRES-10PCTL='1004.9', HLY-PRES-90PCTL='1030.8', HLY-PRES-NORMAL='1018.1', HLY-TEMP-10PCTL='-6.7', HLY-TEMP-90PCTL='6.7', HLY-TEMP-NORMAL='0.4', HLY-WCHL-NORMAL='-4.2', HLY-WIND-1STDIR='8', HLY-WIND-1STPCT='279', HLY-WIND-2NDDIR='7', HLY-WIND-2NDPCT='209', HLY-WIND-AVGSPD='5.1', HLY-WIND-PCTCLM='51', HLY-WIND-VCTDIR='307', HLY-WIND-VCTSPD='2.8', ts=datetime.datetime(2020, 1, 1, 5, 0)),\n",
       " Row(STATION='USW00094789', NAME='JFK INTERNATIONAL AIRPORT, NY US', LATITUDE='40.6386', LONGITUDE='-73.7622', ELEVATION='3.4', HLY-CLDH-NORMAL='0.0', HLY-CLOD-PCTBKN='127', HLY-CLOD-PCTCLR='184', HLY-CLOD-PCTFEW='141', HLY-CLOD-PCTOVC='457', HLY-CLOD-PCTSCT='91', HLY-DEWP-10PCTL='-15.0', HLY-DEWP-90PCTL='4.4', HLY-DEWP-NORMAL='-4.7', HLY-HIDX-NORMAL='0.3', HLY-HTDH-NORMAL='18.1', HLY-PRES-10PCTL='1005.4', HLY-PRES-90PCTL='1031.1', HLY-PRES-NORMAL='1018.5', HLY-TEMP-10PCTL='-6.7', HLY-TEMP-90PCTL='6.7', HLY-TEMP-NORMAL='0.3', HLY-WCHL-NORMAL='-4.3', HLY-WIND-1STDIR='8', HLY-WIND-1STPCT='254', HLY-WIND-2NDDIR='7', HLY-WIND-2NDPCT='193', HLY-WIND-AVGSPD='5.2', HLY-WIND-PCTCLM='49', HLY-WIND-VCTDIR='305', HLY-WIND-VCTSPD='2.7', ts=datetime.datetime(2020, 1, 1, 6, 0)),\n",
       " Row(STATION='USW00094789', NAME='JFK INTERNATIONAL AIRPORT, NY US', LATITUDE='40.6386', LONGITUDE='-73.7622', ELEVATION='3.4', HLY-CLDH-NORMAL='0.0', HLY-CLOD-PCTBKN='228', HLY-CLOD-PCTCLR='99', HLY-CLOD-PCTFEW='147', HLY-CLOD-PCTOVC='408', HLY-CLOD-PCTSCT='118', HLY-DEWP-10PCTL='-14.4', HLY-DEWP-90PCTL='5.0', HLY-DEWP-NORMAL='-4.8', HLY-HIDX-NORMAL='0.3', HLY-HTDH-NORMAL='18.1', HLY-PRES-10PCTL='1005.8', HLY-PRES-90PCTL='1031.8', HLY-PRES-NORMAL='1018.7', HLY-TEMP-10PCTL='-6.7', HLY-TEMP-90PCTL='7.2', HLY-TEMP-NORMAL='0.3', HLY-WCHL-NORMAL='-4.2', HLY-WIND-1STDIR='8', HLY-WIND-1STPCT='257', HLY-WIND-2NDDIR='7', HLY-WIND-2NDPCT='211', HLY-WIND-AVGSPD='5.1', HLY-WIND-PCTCLM='51', HLY-WIND-VCTDIR='305', HLY-WIND-VCTSPD='2.6', ts=datetime.datetime(2020, 1, 1, 7, 0)),\n",
       " Row(STATION='USW00094789', NAME='JFK INTERNATIONAL AIRPORT, NY US', LATITUDE='40.6386', LONGITUDE='-73.7622', ELEVATION='3.4', HLY-CLDH-NORMAL='0.0', HLY-CLOD-PCTBKN='263', HLY-CLOD-PCTCLR='82', HLY-CLOD-PCTFEW='126', HLY-CLOD-PCTOVC='407', HLY-CLOD-PCTSCT='121', HLY-DEWP-10PCTL='-13.9', HLY-DEWP-90PCTL='5.0', HLY-DEWP-NORMAL='-4.7', HLY-HIDX-NORMAL='0.5', HLY-HTDH-NORMAL='17.9', HLY-PRES-10PCTL='1006.0', HLY-PRES-90PCTL='1031.8', HLY-PRES-NORMAL='1019.0', HLY-TEMP-10PCTL='-6.7', HLY-TEMP-90PCTL='7.2', HLY-TEMP-NORMAL='0.5', HLY-WCHL-NORMAL='-4.1', HLY-WIND-1STDIR='8', HLY-WIND-1STPCT='265', HLY-WIND-2NDDIR='7', HLY-WIND-2NDPCT='198', HLY-WIND-AVGSPD='5.3', HLY-WIND-PCTCLM='44', HLY-WIND-VCTDIR='304', HLY-WIND-VCTSPD='2.7', ts=datetime.datetime(2020, 1, 1, 8, 0)),\n",
       " Row(STATION='USW00094789', NAME='JFK INTERNATIONAL AIRPORT, NY US', LATITUDE='40.6386', LONGITUDE='-73.7622', ELEVATION='3.4', HLY-CLDH-NORMAL='0.0', HLY-CLOD-PCTBKN='253', HLY-CLOD-PCTCLR='95', HLY-CLOD-PCTFEW='122', HLY-CLOD-PCTOVC='414', HLY-CLOD-PCTSCT='115', HLY-DEWP-10PCTL='-13.9', HLY-DEWP-90PCTL='5.6', HLY-DEWP-NORMAL='-4.5', HLY-HIDX-NORMAL='1.2', HLY-HTDH-NORMAL='17.2', HLY-PRES-10PCTL='1006.6', HLY-PRES-90PCTL='1032.1', HLY-PRES-NORMAL='1019.3', HLY-TEMP-10PCTL='-6.1', HLY-TEMP-90PCTL='7.8', HLY-TEMP-NORMAL='1.2', HLY-WCHL-NORMAL='-3.4', HLY-WIND-1STDIR='8', HLY-WIND-1STPCT='264', HLY-WIND-2NDDIR='7', HLY-WIND-2NDPCT='197', HLY-WIND-AVGSPD='5.6', HLY-WIND-PCTCLM='49', HLY-WIND-VCTDIR='306', HLY-WIND-VCTSPD='2.8', ts=datetime.datetime(2020, 1, 1, 9, 0)),\n",
       " Row(STATION='USW00094789', NAME='JFK INTERNATIONAL AIRPORT, NY US', LATITUDE='40.6386', LONGITUDE='-73.7622', ELEVATION='3.4', HLY-CLDH-NORMAL='0.0', HLY-CLOD-PCTBKN='232', HLY-CLOD-PCTCLR='100', HLY-CLOD-PCTFEW='141', HLY-CLOD-PCTOVC='402', HLY-CLOD-PCTSCT='125', HLY-DEWP-10PCTL='-13.9', HLY-DEWP-90PCTL='6.1', HLY-DEWP-NORMAL='-4.4', HLY-HIDX-NORMAL='1.9', HLY-HTDH-NORMAL='16.5', HLY-PRES-10PCTL='1006.7', HLY-PRES-90PCTL='1032.2', HLY-PRES-NORMAL='1019.6', HLY-TEMP-10PCTL='-5.0', HLY-TEMP-90PCTL='8.3', HLY-TEMP-NORMAL='1.9', HLY-WCHL-NORMAL='-2.6', HLY-WIND-1STDIR='8', HLY-WIND-1STPCT='283', HLY-WIND-2NDDIR='7', HLY-WIND-2NDPCT='171', HLY-WIND-AVGSPD='5.8', HLY-WIND-PCTCLM='29', HLY-WIND-VCTDIR='305', HLY-WIND-VCTSPD='2.9', ts=datetime.datetime(2020, 1, 1, 10, 0)),\n",
       " Row(STATION='USW00094789', NAME='JFK INTERNATIONAL AIRPORT, NY US', LATITUDE='40.6386', LONGITUDE='-73.7622', ELEVATION='3.4', HLY-CLDH-NORMAL='0.0', HLY-CLOD-PCTBKN='223', HLY-CLOD-PCTCLR='114', HLY-CLOD-PCTFEW='127', HLY-CLOD-PCTOVC='405', HLY-CLOD-PCTSCT='132', HLY-DEWP-10PCTL='-13.3', HLY-DEWP-90PCTL='6.7', HLY-DEWP-NORMAL='-4.4', HLY-HIDX-NORMAL='2.6', HLY-HTDH-NORMAL='15.8', HLY-PRES-10PCTL='1006.4', HLY-PRES-90PCTL='1031.8', HLY-PRES-NORMAL='1019.2', HLY-TEMP-10PCTL='-4.4', HLY-TEMP-90PCTL='8.9', HLY-TEMP-NORMAL='2.6', HLY-WCHL-NORMAL='-1.7', HLY-WIND-1STDIR='8', HLY-WIND-1STPCT='276', HLY-WIND-2NDDIR='7', HLY-WIND-2NDPCT='193', HLY-WIND-AVGSPD='5.9', HLY-WIND-PCTCLM='29', HLY-WIND-VCTDIR='302', HLY-WIND-VCTSPD='3.0', ts=datetime.datetime(2020, 1, 1, 11, 0)),\n",
       " Row(STATION='USW00094789', NAME='JFK INTERNATIONAL AIRPORT, NY US', LATITUDE='40.6386', LONGITUDE='-73.7622', ELEVATION='3.4', HLY-CLDH-NORMAL='-432.0', HLY-CLOD-PCTBKN='229', HLY-CLOD-PCTCLR='116', HLY-CLOD-PCTFEW='113', HLY-CLOD-PCTOVC='420', HLY-CLOD-PCTSCT='122', HLY-DEWP-10PCTL='-13.3', HLY-DEWP-90PCTL='6.1', HLY-DEWP-NORMAL='-4.3', HLY-HIDX-NORMAL='3.2', HLY-HTDH-NORMAL='15.2', HLY-PRES-10PCTL='1005.6', HLY-PRES-90PCTL='1030.8', HLY-PRES-NORMAL='1018.3', HLY-TEMP-10PCTL='-3.9', HLY-TEMP-90PCTL='9.4', HLY-TEMP-NORMAL='3.2', HLY-WCHL-NORMAL='-0.9', HLY-WIND-1STDIR='8', HLY-WIND-1STPCT='250', HLY-WIND-2NDDIR='7', HLY-WIND-2NDPCT='224', HLY-WIND-AVGSPD='5.9', HLY-WIND-PCTCLM='40', HLY-WIND-VCTDIR='299', HLY-WIND-VCTSPD='3.2', ts=datetime.datetime(2020, 1, 1, 12, 0)),\n",
       " Row(STATION='USW00094789', NAME='JFK INTERNATIONAL AIRPORT, NY US', LATITUDE='40.6386', LONGITUDE='-73.7622', ELEVATION='3.4', HLY-CLDH-NORMAL='-432.0', HLY-CLOD-PCTBKN='251', HLY-CLOD-PCTCLR='111', HLY-CLOD-PCTFEW='122', HLY-CLOD-PCTOVC='412', HLY-CLOD-PCTSCT='104', HLY-DEWP-10PCTL='-13.9', HLY-DEWP-90PCTL='6.1', HLY-DEWP-NORMAL='-4.3', HLY-HIDX-NORMAL='3.6', HLY-HTDH-NORMAL='14.8', HLY-PRES-10PCTL='1004.4', HLY-PRES-90PCTL='1029.8', HLY-PRES-NORMAL='1017.6', HLY-TEMP-10PCTL='-3.3', HLY-TEMP-90PCTL='10.0', HLY-TEMP-NORMAL='3.6', HLY-WCHL-NORMAL='-0.6', HLY-WIND-1STDIR='8', HLY-WIND-1STPCT='257', HLY-WIND-2NDDIR='7', HLY-WIND-2NDPCT='218', HLY-WIND-AVGSPD='5.9', HLY-WIND-PCTCLM='16', HLY-WIND-VCTDIR='295', HLY-WIND-VCTSPD='3.1', ts=datetime.datetime(2020, 1, 1, 13, 0)),\n",
       " Row(STATION='USW00094789', NAME='JFK INTERNATIONAL AIRPORT, NY US', LATITUDE='40.6386', LONGITUDE='-73.7622', ELEVATION='3.4', HLY-CLDH-NORMAL='-432.0', HLY-CLOD-PCTBKN='238', HLY-CLOD-PCTCLR='116', HLY-CLOD-PCTFEW='118', HLY-CLOD-PCTOVC='408', HLY-CLOD-PCTSCT='120', HLY-DEWP-10PCTL='-13.3', HLY-DEWP-90PCTL='6.1', HLY-DEWP-NORMAL='-4.2', HLY-HIDX-NORMAL='3.8', HLY-HTDH-NORMAL='14.6', HLY-PRES-10PCTL='1004.3', HLY-PRES-90PCTL='1029.1', HLY-PRES-NORMAL='1017.3', HLY-TEMP-10PCTL='-2.8', HLY-TEMP-90PCTL='10.0', HLY-TEMP-NORMAL='3.8', HLY-WCHL-NORMAL='-0.3', HLY-WIND-1STDIR='8', HLY-WIND-1STPCT='252', HLY-WIND-2NDDIR='7', HLY-WIND-2NDPCT='210', HLY-WIND-AVGSPD='5.9', HLY-WIND-PCTCLM='18', HLY-WIND-VCTDIR='294', HLY-WIND-VCTSPD='3.1', ts=datetime.datetime(2020, 1, 1, 14, 0)),\n",
       " Row(STATION='USW00094789', NAME='JFK INTERNATIONAL AIRPORT, NY US', LATITUDE='40.6386', LONGITUDE='-73.7622', ELEVATION='3.4', HLY-CLDH-NORMAL='-432.0', HLY-CLOD-PCTBKN='222', HLY-CLOD-PCTCLR='111', HLY-CLOD-PCTFEW='124', HLY-CLOD-PCTOVC='414', HLY-CLOD-PCTSCT='129', HLY-DEWP-10PCTL='-13.9', HLY-DEWP-90PCTL='6.1', HLY-DEWP-NORMAL='-4.3', HLY-HIDX-NORMAL='3.7', HLY-HTDH-NORMAL='14.6', HLY-PRES-10PCTL='1004.4', HLY-PRES-90PCTL='1028.8', HLY-PRES-NORMAL='1017.4', HLY-TEMP-10PCTL='-2.8', HLY-TEMP-90PCTL='10.0', HLY-TEMP-NORMAL='3.7', HLY-WCHL-NORMAL='-0.3', HLY-WIND-1STDIR='8', HLY-WIND-1STPCT='256', HLY-WIND-2NDDIR='7', HLY-WIND-2NDPCT='207', HLY-WIND-AVGSPD='5.9', HLY-WIND-PCTCLM='18', HLY-WIND-VCTDIR='297', HLY-WIND-VCTSPD='3.0', ts=datetime.datetime(2020, 1, 1, 15, 0)),\n",
       " Row(STATION='USW00094789', NAME='JFK INTERNATIONAL AIRPORT, NY US', LATITUDE='40.6386', LONGITUDE='-73.7622', ELEVATION='3.4', HLY-CLDH-NORMAL='-432.0', HLY-CLOD-PCTBKN='245', HLY-CLOD-PCTCLR='102', HLY-CLOD-PCTFEW='107', HLY-CLOD-PCTOVC='398', HLY-CLOD-PCTSCT='148', HLY-DEWP-10PCTL='-13.9', HLY-DEWP-90PCTL='6.1', HLY-DEWP-NORMAL='-4.3', HLY-HIDX-NORMAL='3.4', HLY-HTDH-NORMAL='15.0', HLY-PRES-10PCTL='1004.7', HLY-PRES-90PCTL='1029.3', HLY-PRES-NORMAL='1017.6', HLY-TEMP-10PCTL='-3.3', HLY-TEMP-90PCTL='9.4', HLY-TEMP-NORMAL='3.4', HLY-WCHL-NORMAL='-0.7', HLY-WIND-1STDIR='8', HLY-WIND-1STPCT='239', HLY-WIND-2NDDIR='7', HLY-WIND-2NDPCT='209', HLY-WIND-AVGSPD='5.8', HLY-WIND-PCTCLM='20', HLY-WIND-VCTDIR='296', HLY-WIND-VCTSPD='2.8', ts=datetime.datetime(2020, 1, 1, 16, 0)),\n",
       " Row(STATION='USW00094789', NAME='JFK INTERNATIONAL AIRPORT, NY US', LATITUDE='40.6386', LONGITUDE='-73.7622', ELEVATION='3.4', HLY-CLDH-NORMAL='-432.0', HLY-CLOD-PCTBKN='240', HLY-CLOD-PCTCLR='108', HLY-CLOD-PCTFEW='106', HLY-CLOD-PCTOVC='407', HLY-CLOD-PCTSCT='139', HLY-DEWP-10PCTL='-13.9', HLY-DEWP-90PCTL='5.6', HLY-DEWP-NORMAL='-4.3', HLY-HIDX-NORMAL='2.8', HLY-HTDH-NORMAL='15.6', HLY-PRES-10PCTL='1004.8', HLY-PRES-90PCTL='1029.8', HLY-PRES-NORMAL='1017.9', HLY-TEMP-10PCTL='-3.3', HLY-TEMP-90PCTL='8.9', HLY-TEMP-NORMAL='2.8', HLY-WCHL-NORMAL='-1.4', HLY-WIND-1STDIR='8', HLY-WIND-1STPCT='230', HLY-WIND-2NDDIR='7', HLY-WIND-2NDPCT='218', HLY-WIND-AVGSPD='5.8', HLY-WIND-PCTCLM='22', HLY-WIND-VCTDIR='296', HLY-WIND-VCTSPD='2.9', ts=datetime.datetime(2020, 1, 1, 17, 0)),\n",
       " Row(STATION='USW00094789', NAME='JFK INTERNATIONAL AIRPORT, NY US', LATITUDE='40.6386', LONGITUDE='-73.7622', ELEVATION='3.4', HLY-CLDH-NORMAL='-432.0', HLY-CLOD-PCTBKN='220', HLY-CLOD-PCTCLR='154', HLY-CLOD-PCTFEW='111', HLY-CLOD-PCTOVC='395', HLY-CLOD-PCTSCT='120', HLY-DEWP-10PCTL='-14.4', HLY-DEWP-90PCTL='5.6', HLY-DEWP-NORMAL='-4.4', HLY-HIDX-NORMAL='2.5', HLY-HTDH-NORMAL='15.9', HLY-PRES-10PCTL='1005.3', HLY-PRES-90PCTL='1030.1', HLY-PRES-NORMAL='1018.2', HLY-TEMP-10PCTL='-3.9', HLY-TEMP-90PCTL='8.3', HLY-TEMP-NORMAL='2.5', HLY-WCHL-NORMAL='-1.8', HLY-WIND-1STDIR='8', HLY-WIND-1STPCT='241', HLY-WIND-2NDDIR='7', HLY-WIND-2NDPCT='227', HLY-WIND-AVGSPD='5.7', HLY-WIND-PCTCLM='27', HLY-WIND-VCTDIR='300', HLY-WIND-VCTSPD='2.9', ts=datetime.datetime(2020, 1, 1, 18, 0)),\n",
       " Row(STATION='USW00094789', NAME='JFK INTERNATIONAL AIRPORT, NY US', LATITUDE='40.6386', LONGITUDE='-73.7622', ELEVATION='3.4', HLY-CLDH-NORMAL='0.0', HLY-CLOD-PCTBKN='172', HLY-CLOD-PCTCLR='170', HLY-CLOD-PCTFEW='107', HLY-CLOD-PCTOVC='428', HLY-CLOD-PCTSCT='123', HLY-DEWP-10PCTL='-14.4', HLY-DEWP-90PCTL='5.0', HLY-DEWP-NORMAL='-4.4', HLY-HIDX-NORMAL='2.3', HLY-HTDH-NORMAL='16.0', HLY-PRES-10PCTL='1006.0', HLY-PRES-90PCTL='1030.5', HLY-PRES-NORMAL='1018.5', HLY-TEMP-10PCTL='-4.4', HLY-TEMP-90PCTL='8.3', HLY-TEMP-NORMAL='2.3', HLY-WCHL-NORMAL='-2.1', HLY-WIND-1STDIR='8', HLY-WIND-1STPCT='234', HLY-WIND-2NDDIR='7', HLY-WIND-2NDPCT='225', HLY-WIND-AVGSPD='5.8', HLY-WIND-PCTCLM='22', HLY-WIND-VCTDIR='299', HLY-WIND-VCTSPD='3.0', ts=datetime.datetime(2020, 1, 1, 19, 0)),\n",
       " Row(STATION='USW00094789', NAME='JFK INTERNATIONAL AIRPORT, NY US', LATITUDE='40.6386', LONGITUDE='-73.7622', ELEVATION='3.4', HLY-CLDH-NORMAL='0.0', HLY-CLOD-PCTBKN='172', HLY-CLOD-PCTCLR='195', HLY-CLOD-PCTFEW='103', HLY-CLOD-PCTOVC='423', HLY-CLOD-PCTSCT='108', HLY-DEWP-10PCTL='-15.0', HLY-DEWP-90PCTL='5.0', HLY-DEWP-NORMAL='-4.6', HLY-HIDX-NORMAL='2.1', HLY-HTDH-NORMAL='16.3', HLY-PRES-10PCTL='1006.0', HLY-PRES-90PCTL='1030.9', HLY-PRES-NORMAL='1018.8', HLY-TEMP-10PCTL='-4.4', HLY-TEMP-90PCTL='8.3', HLY-TEMP-NORMAL='2.1', HLY-WCHL-NORMAL='-2.4', HLY-WIND-1STDIR='8', HLY-WIND-1STPCT='233', HLY-WIND-2NDDIR='7', HLY-WIND-2NDPCT='226', HLY-WIND-AVGSPD='5.8', HLY-WIND-PCTCLM='16', HLY-WIND-VCTDIR='301', HLY-WIND-VCTSPD='3.0', ts=datetime.datetime(2020, 1, 1, 20, 0)),\n",
       " Row(STATION='USW00094789', NAME='JFK INTERNATIONAL AIRPORT, NY US', LATITUDE='40.6386', LONGITUDE='-73.7622', ELEVATION='3.4', HLY-CLDH-NORMAL='0.0', HLY-CLOD-PCTBKN='169', HLY-CLOD-PCTCLR='200', HLY-CLOD-PCTFEW='121', HLY-CLOD-PCTOVC='424', HLY-CLOD-PCTSCT='87', HLY-DEWP-10PCTL='-15.0', HLY-DEWP-90PCTL='5.0', HLY-DEWP-NORMAL='-4.6', HLY-HIDX-NORMAL='1.7', HLY-HTDH-NORMAL='16.6', HLY-PRES-10PCTL='1005.9', HLY-PRES-90PCTL='1031.0', HLY-PRES-NORMAL='1018.8', HLY-TEMP-10PCTL='-4.4', HLY-TEMP-90PCTL='7.8', HLY-TEMP-NORMAL='1.7', HLY-WCHL-NORMAL='-2.9', HLY-WIND-1STDIR='7', HLY-WIND-1STPCT='226', HLY-WIND-2NDDIR='8', HLY-WIND-2NDPCT='220', HLY-WIND-AVGSPD='5.7', HLY-WIND-PCTCLM='29', HLY-WIND-VCTDIR='302', HLY-WIND-VCTSPD='3.0', ts=datetime.datetime(2020, 1, 1, 21, 0)),\n",
       " Row(STATION='USW00094789', NAME='JFK INTERNATIONAL AIRPORT, NY US', LATITUDE='40.6386', LONGITUDE='-73.7622', ELEVATION='3.4', HLY-CLDH-NORMAL='0.0', HLY-CLOD-PCTBKN='175', HLY-CLOD-PCTCLR='218', HLY-CLOD-PCTFEW='98', HLY-CLOD-PCTOVC='438', HLY-CLOD-PCTSCT='73', HLY-DEWP-10PCTL='-15.0', HLY-DEWP-90PCTL='5.6', HLY-DEWP-NORMAL='-4.6', HLY-HIDX-NORMAL='1.5', HLY-HTDH-NORMAL='16.9', HLY-PRES-10PCTL='1005.7', HLY-PRES-90PCTL='1031.4', HLY-PRES-NORMAL='1018.7', HLY-TEMP-10PCTL='-5.0', HLY-TEMP-90PCTL='7.8', HLY-TEMP-NORMAL='1.5', HLY-WCHL-NORMAL='-3.1', HLY-WIND-1STDIR='8', HLY-WIND-1STPCT='229', HLY-WIND-2NDDIR='7', HLY-WIND-2NDPCT='227', HLY-WIND-AVGSPD='5.5', HLY-WIND-PCTCLM='18', HLY-WIND-VCTDIR='302', HLY-WIND-VCTSPD='2.9', ts=datetime.datetime(2020, 1, 1, 22, 0)),\n",
       " Row(STATION='USW00094789', NAME='JFK INTERNATIONAL AIRPORT, NY US', LATITUDE='40.6386', LONGITUDE='-73.7622', ELEVATION='3.4', HLY-CLDH-NORMAL='0.0', HLY-CLOD-PCTBKN='178', HLY-CLOD-PCTCLR='221', HLY-CLOD-PCTFEW='99', HLY-CLOD-PCTOVC='424', HLY-CLOD-PCTSCT='77', HLY-DEWP-10PCTL='-15.0', HLY-DEWP-90PCTL='5.0', HLY-DEWP-NORMAL='-4.7', HLY-HIDX-NORMAL='1.2', HLY-HTDH-NORMAL='17.1', HLY-PRES-10PCTL='1005.9', HLY-PRES-90PCTL='1031.5', HLY-PRES-NORMAL='1018.7', HLY-TEMP-10PCTL='-5.6', HLY-TEMP-90PCTL='7.2', HLY-TEMP-NORMAL='1.2', HLY-WCHL-NORMAL='-3.3', HLY-WIND-1STDIR='8', HLY-WIND-1STPCT='238', HLY-WIND-2NDDIR='7', HLY-WIND-2NDPCT='204', HLY-WIND-AVGSPD='5.4', HLY-WIND-PCTCLM='36', HLY-WIND-VCTDIR='303', HLY-WIND-VCTSPD='2.8', ts=datetime.datetime(2020, 1, 1, 23, 0)),\n",
       " Row(STATION='USW00094789', NAME='JFK INTERNATIONAL AIRPORT, NY US', LATITUDE='40.6386', LONGITUDE='-73.7622', ELEVATION='3.4', HLY-CLDH-NORMAL='0.0', HLY-CLOD-PCTBKN='172', HLY-CLOD-PCTCLR='228', HLY-CLOD-PCTFEW='84', HLY-CLOD-PCTOVC='429', HLY-CLOD-PCTSCT='88', HLY-DEWP-10PCTL='-15.6', HLY-DEWP-90PCTL='5.0', HLY-DEWP-NORMAL='-5.2', HLY-HIDX-NORMAL='0.5', HLY-HTDH-NORMAL='17.9', HLY-PRES-10PCTL='1006.5', HLY-PRES-90PCTL='1031.5', HLY-PRES-NORMAL='1019.1', HLY-TEMP-10PCTL='-6.1', HLY-TEMP-90PCTL='6.1', HLY-TEMP-NORMAL='0.5', HLY-WCHL-NORMAL='-4.2', HLY-WIND-1STDIR='8', HLY-WIND-1STPCT='244', HLY-WIND-2NDDIR='7', HLY-WIND-2NDPCT='208', HLY-WIND-AVGSPD='5.4', HLY-WIND-PCTCLM='36', HLY-WIND-VCTDIR='304', HLY-WIND-VCTSPD='3.0', ts=datetime.datetime(2020, 1, 2, 0, 0)),\n",
       " Row(STATION='USW00094789', NAME='JFK INTERNATIONAL AIRPORT, NY US', LATITUDE='40.6386', LONGITUDE='-73.7622', ELEVATION='3.4', HLY-CLDH-NORMAL='0.0', HLY-CLOD-PCTBKN='124', HLY-CLOD-PCTCLR='231', HLY-CLOD-PCTFEW='121', HLY-CLOD-PCTOVC='442', HLY-CLOD-PCTSCT='82', HLY-DEWP-10PCTL='-15.6', HLY-DEWP-90PCTL='5.0', HLY-DEWP-NORMAL='-4.7', HLY-HIDX-NORMAL='0.8', HLY-HTDH-NORMAL='17.6', HLY-PRES-10PCTL='1005.2', HLY-PRES-90PCTL='1030.9', HLY-PRES-NORMAL='1018.2', HLY-TEMP-10PCTL='-6.1', HLY-TEMP-90PCTL='7.2', HLY-TEMP-NORMAL='0.8', HLY-WCHL-NORMAL='-3.8', HLY-WIND-1STDIR='8', HLY-WIND-1STPCT='255', HLY-WIND-2NDDIR='7', HLY-WIND-2NDPCT='200', HLY-WIND-AVGSPD='5.3', HLY-WIND-PCTCLM='33', HLY-WIND-VCTDIR='303', HLY-WIND-VCTSPD='2.8', ts=datetime.datetime(2020, 1, 2, 1, 0)),\n",
       " Row(STATION='USW00094789', NAME='JFK INTERNATIONAL AIRPORT, NY US', LATITUDE='40.6386', LONGITUDE='-73.7622', ELEVATION='3.4', HLY-CLDH-NORMAL='0.0', HLY-CLOD-PCTBKN='120', HLY-CLOD-PCTCLR='233', HLY-CLOD-PCTFEW='124', HLY-CLOD-PCTOVC='456', HLY-CLOD-PCTSCT='68', HLY-DEWP-10PCTL='-15.0', HLY-DEWP-90PCTL='4.4', HLY-DEWP-NORMAL='-4.7', HLY-HIDX-NORMAL='0.7', HLY-HTDH-NORMAL='17.7', HLY-PRES-10PCTL='1005.4', HLY-PRES-90PCTL='1031.2', HLY-PRES-NORMAL='1018.4', HLY-TEMP-10PCTL='-6.1', HLY-TEMP-90PCTL='7.2', HLY-TEMP-NORMAL='0.7', HLY-WCHL-NORMAL='-3.8', HLY-WIND-1STDIR='8', HLY-WIND-1STPCT='250', HLY-WIND-2NDDIR='7', HLY-WIND-2NDPCT='200', HLY-WIND-AVGSPD='5.2', HLY-WIND-PCTCLM='40', HLY-WIND-VCTDIR='303', HLY-WIND-VCTSPD='2.8', ts=datetime.datetime(2020, 1, 2, 2, 0)),\n",
       " Row(STATION='USW00094789', NAME='JFK INTERNATIONAL AIRPORT, NY US', LATITUDE='40.6386', LONGITUDE='-73.7622', ELEVATION='3.4', HLY-CLDH-NORMAL='0.0', HLY-CLOD-PCTBKN='140', HLY-CLOD-PCTCLR='242', HLY-CLOD-PCTFEW='90', HLY-CLOD-PCTOVC='463', HLY-CLOD-PCTSCT='65', HLY-DEWP-10PCTL='-15.0', HLY-DEWP-90PCTL='4.4', HLY-DEWP-NORMAL='-4.7', HLY-HIDX-NORMAL='0.5', HLY-HTDH-NORMAL='17.9', HLY-PRES-10PCTL='1005.6', HLY-PRES-90PCTL='1031.1', HLY-PRES-NORMAL='1018.5', HLY-TEMP-10PCTL='-6.7', HLY-TEMP-90PCTL='6.7', HLY-TEMP-NORMAL='0.5', HLY-WCHL-NORMAL='-4.0', HLY-WIND-1STDIR='8', HLY-WIND-1STPCT='252', HLY-WIND-2NDDIR='7', HLY-WIND-2NDPCT='220', HLY-WIND-AVGSPD='5.1', HLY-WIND-PCTCLM='58', HLY-WIND-VCTDIR='306', HLY-WIND-VCTSPD='2.8', ts=datetime.datetime(2020, 1, 2, 3, 0)),\n",
       " Row(STATION='USW00094789', NAME='JFK INTERNATIONAL AIRPORT, NY US', LATITUDE='40.6386', LONGITUDE='-73.7622', ELEVATION='3.4', HLY-CLDH-NORMAL='0.0', HLY-CLOD-PCTBKN='134', HLY-CLOD-PCTCLR='231', HLY-CLOD-PCTFEW='107', HLY-CLOD-PCTOVC='460', HLY-CLOD-PCTSCT='68', HLY-DEWP-10PCTL='-15.0', HLY-DEWP-90PCTL='5.0', HLY-DEWP-NORMAL='-4.7', HLY-HIDX-NORMAL='0.3', HLY-HTDH-NORMAL='18.0', HLY-PRES-10PCTL='1005.1', HLY-PRES-90PCTL='1031.0', HLY-PRES-NORMAL='1018.2', HLY-TEMP-10PCTL='-6.7', HLY-TEMP-90PCTL='6.7', HLY-TEMP-NORMAL='0.3', HLY-WCHL-NORMAL='-4.2', HLY-WIND-1STDIR='8', HLY-WIND-1STPCT='249', HLY-WIND-2NDDIR='7', HLY-WIND-2NDPCT='209', HLY-WIND-AVGSPD='5.1', HLY-WIND-PCTCLM='49', HLY-WIND-VCTDIR='306', HLY-WIND-VCTSPD='2.7', ts=datetime.datetime(2020, 1, 2, 4, 0)),\n",
       " Row(STATION='USW00094789', NAME='JFK INTERNATIONAL AIRPORT, NY US', LATITUDE='40.6386', LONGITUDE='-73.7622', ELEVATION='3.4', HLY-CLDH-NORMAL='0.0', HLY-CLOD-PCTBKN='142', HLY-CLOD-PCTCLR='194', HLY-CLOD-PCTFEW='132', HLY-CLOD-PCTOVC='461', HLY-CLOD-PCTSCT='71', HLY-DEWP-10PCTL='-15.0', HLY-DEWP-90PCTL='4.4', HLY-DEWP-NORMAL='-4.8', HLY-HIDX-NORMAL='0.3', HLY-HTDH-NORMAL='18.1', HLY-PRES-10PCTL='1005.1', HLY-PRES-90PCTL='1030.8', HLY-PRES-NORMAL='1018.1', HLY-TEMP-10PCTL='-6.7', HLY-TEMP-90PCTL='6.7', HLY-TEMP-NORMAL='0.3', HLY-WCHL-NORMAL='-4.3', HLY-WIND-1STDIR='8', HLY-WIND-1STPCT='274', HLY-WIND-2NDDIR='7', HLY-WIND-2NDPCT='213', HLY-WIND-AVGSPD='5.1', HLY-WIND-PCTCLM='51', HLY-WIND-VCTDIR='306', HLY-WIND-VCTSPD='2.7', ts=datetime.datetime(2020, 1, 2, 5, 0)),\n",
       " Row(STATION='USW00094789', NAME='JFK INTERNATIONAL AIRPORT, NY US', LATITUDE='40.6386', LONGITUDE='-73.7622', ELEVATION='3.4', HLY-CLDH-NORMAL='0.0', HLY-CLOD-PCTBKN='127', HLY-CLOD-PCTCLR='179', HLY-CLOD-PCTFEW='132', HLY-CLOD-PCTOVC='472', HLY-CLOD-PCTSCT='91', HLY-DEWP-10PCTL='-15.0', HLY-DEWP-90PCTL='4.4', HLY-DEWP-NORMAL='-4.8', HLY-HIDX-NORMAL='0.2', HLY-HTDH-NORMAL='18.1', HLY-PRES-10PCTL='1005.6', HLY-PRES-90PCTL='1031.1', HLY-PRES-NORMAL='1018.5', HLY-TEMP-10PCTL='-6.7', HLY-TEMP-90PCTL='6.7', HLY-TEMP-NORMAL='0.2', HLY-WCHL-NORMAL='-4.4', HLY-WIND-1STDIR='8', HLY-WIND-1STPCT='249', HLY-WIND-2NDDIR='7', HLY-WIND-2NDPCT='191', HLY-WIND-AVGSPD='5.2', HLY-WIND-PCTCLM='49', HLY-WIND-VCTDIR='304', HLY-WIND-VCTSPD='2.6', ts=datetime.datetime(2020, 1, 2, 6, 0))]"
      ]
     },
     "execution_count": 27,
     "metadata": {},
     "output_type": "execute_result"
    }
   ],
   "source": [
    "#TODO Fix\n",
    "# Performing cleaning task 7\n",
    "# write udf\n",
    "from pyspark.sql.functions import udf,to_timestamp\n",
    "format = udf(lambda x : x.replace(\"T\",\" \") + \" 2020\")\n",
    "# add column\n",
    "weather_spark_df = weather_spark_df.withColumn(\"TIME\",format(weather_spark_df[\"DATE\"]))\n",
    "weather_spark_df = weather_spark_df.withColumn(\"ts\", to_timestamp(weather_spark_df[\"TIME\"],\"MM-dd HH:mm:ss yyyy\"))\n",
    "# delete old column\n",
    "weather_spark_df = weather_spark_df.drop(\"DATE\")\n",
    "weather_spark_df = weather_spark_df.drop(\"TIME\")\n",
    "\n",
    "weather_spark_df.head(30)"
   ]
  },
  {
   "cell_type": "code",
   "execution_count": 28,
   "metadata": {
    "pycharm": {
     "name": "#%%\n"
    }
   },
   "outputs": [],
   "source": [
    "# Performing cleaning task 8\n",
    "# filter data on the basis of timestamp\n",
    "weather_spark_df = weather_spark_df.filter(weather_spark_df[\"ts\"] >= from_date)\\\n",
    "                             .filter(weather_spark_df[\"ts\"] <= to_date)\n"
   ]
  },
  {
   "cell_type": "markdown",
   "metadata": {},
   "source": [
    "### Step 3: Define the Data Model\n",
    "#### 3.1 Conceptual Data Model\n",
    "Map out the conceptual data model and explain why you chose that model\n",
    "\n",
    "#### 3.2 Mapping Out Data Pipelines\n",
    "List the steps necessary to pipeline the data into the chosen data model"
   ]
  },
  {
   "cell_type": "markdown",
   "metadata": {},
   "source": [
    "### Step 4: Run Pipelines to Model the Data \n",
    "#### 4.1 Create the data model\n",
    "Build the data pipelines to create the data model."
   ]
  },
  {
   "cell_type": "code",
   "execution_count": 29,
   "metadata": {
    "pycharm": {
     "name": "#%%\n"
    }
   },
   "outputs": [],
   "source": [
    "import configparser,os\n",
    "config = configparser.ConfigParser()\n",
    "config.read('dl.cfg')\n",
    "\n",
    "os.environ['AWS_ACCESS_KEY_ID']=config['AWS']['AWS_ACCESS_KEY_ID']\n",
    "os.environ['AWS_SECRET_ACCESS_KEY']=config['AWS']['AWS_SECRET_ACCESS_KEY']\n",
    "\n",
    "output_data = \"s3a://my-udacity-course-bucket/capstone-project/\""
   ]
  },
  {
   "cell_type": "code",
   "execution_count": 30,
   "metadata": {},
   "outputs": [],
   "source": [
    "#Rate_Table\n",
    "#rate_spark_df.write.parquet(output_data + \"/rate_table/\",mode=\"overwrite\")"
   ]
  },
  {
   "cell_type": "code",
   "execution_count": 31,
   "metadata": {
    "pycharm": {
     "name": "#%%\n"
    }
   },
   "outputs": [],
   "source": [
    "#Payment_Table\n",
    "#payment_spark_df.write.parquet(output_data + \"/payment_table/\",mode=\"overwrite\")"
   ]
  },
  {
   "cell_type": "code",
   "execution_count": 32,
   "metadata": {
    "pycharm": {
     "name": "#%%\n"
    }
   },
   "outputs": [
    {
     "name": "stdout",
     "output_type": "stream",
     "text": [
      "+----------+-------------+--------------------+\n",
      "|LocationID|      Borough|                Zone|\n",
      "+----------+-------------+--------------------+\n",
      "|         1|          EWR|      Newark Airport|\n",
      "|         2|       Queens|         Jamaica Bay|\n",
      "|         3|        Bronx|Allerton/Pelham G...|\n",
      "|         4|    Manhattan|       Alphabet City|\n",
      "|         5|Staten Island|       Arden Heights|\n",
      "|         6|Staten Island|Arrochar/Fort Wad...|\n",
      "|         7|       Queens|             Astoria|\n",
      "|         8|       Queens|        Astoria Park|\n",
      "|         9|       Queens|          Auburndale|\n",
      "|        10|       Queens|        Baisley Park|\n",
      "+----------+-------------+--------------------+\n",
      "only showing top 10 rows\n",
      "\n"
     ]
    }
   ],
   "source": [
    "#Location_Table\n",
    "zone_table = zone_spark_df.select([\"LocationID\",\"Borough\",\"Zone\"])\n",
    "#zone_table.write.parquet(output_data + \"/zone_table/\",mode=\"overwrite\")\n",
    "zone_table.show(10)"
   ]
  },
  {
   "cell_type": "code",
   "execution_count": 33,
   "metadata": {
    "pycharm": {
     "name": "#%%\n"
    }
   },
   "outputs": [
    {
     "name": "stdout",
     "output_type": "stream",
     "text": [
      "+-----------+--------------------+--------+---------+---------+---------------+------------------------+---------------+---------------+--------------------------+---------------+---------------+---------------+---------+---------------+--------------------+---------------+---------------+------------------+---------------+---------------+-----------+----------+--------------+---------------+---------------+---------------+----------+---------------+---------------+---------------+-------------------+\n",
      "|    STATION|                NAME|LATITUDE|LONGITUDE|ELEVATION|HLY-CLDH-NORMAL|Clouds_Broken_Percentage|HLY-CLOD-PCTCLR|HLY-CLOD-PCTFEW|Clouds_Overcast_Percentage|HLY-CLOD-PCTSCT|HLY-DEWP-10PCTL|HLY-DEWP-90PCTL|Dew_Point|Heat_Index_Mean|Heating_Degree_Hours|HLY-PRES-10PCTL|HLY-PRES-90PCTL|Sea_Level_Pressure|HLY-TEMP-10PCTL|HLY-TEMP-90PCTL|Temperature|Wind_Chill|Wind_Direction|HLY-WIND-1STPCT|HLY-WIND-2NDDIR|HLY-WIND-2NDPCT|Wind_Speed|Percentage_Calm|HLY-WIND-VCTDIR|HLY-WIND-VCTSPD|                 ts|\n",
      "+-----------+--------------------+--------+---------+---------+---------------+------------------------+---------------+---------------+--------------------------+---------------+---------------+---------------+---------+---------------+--------------------+---------------+---------------+------------------+---------------+---------------+-----------+----------+--------------+---------------+---------------+---------------+----------+---------------+---------------+---------------+-------------------+\n",
      "|USW00094789|JFK INTERNATIONAL...| 40.6386| -73.7622|      3.4|            0.0|                     116|            240|            119|                       445|             80|          -15.6|            5.6|     -4.6|            0.9|                17.5|         1005.2|         1030.8|            1018.2|           -6.1|            7.2|        0.9|      -3.7|             8|            258|              7|            204|       5.3|             33|            304|            2.8|2020-01-01 01:00:00|\n",
      "|USW00094789|JFK INTERNATIONAL...| 40.6386| -73.7622|      3.4|            0.0|                     131|            235|            124|                       443|             66|          -15.0|            5.0|     -4.6|            0.8|                17.6|         1005.4|         1031.1|            1018.4|           -6.1|            7.2|        0.8|      -3.7|             8|            246|              7|            209|       5.2|             40|            304|            2.8|2020-01-01 02:00:00|\n",
      "|USW00094789|JFK INTERNATIONAL...| 40.6386| -73.7622|      3.4|            0.0|                     143|            242|             95|                       455|             66|          -15.0|            5.0|     -4.6|            0.6|                17.8|         1005.6|         1030.8|            1018.4|           -6.7|            7.2|        0.6|      -3.8|             8|            252|              7|            222|       5.1|             58|            307|            2.8|2020-01-01 03:00:00|\n",
      "|USW00094789|JFK INTERNATIONAL...| 40.6386| -73.7622|      3.4|            0.0|                     143|            234|            107|                       451|             66|          -15.0|            5.0|     -4.6|            0.4|                17.9|         1005.1|         1030.8|            1018.2|           -6.7|            7.2|        0.4|      -4.0|             8|            254|              7|            209|       5.1|             49|            307|            2.8|2020-01-01 04:00:00|\n",
      "|USW00094789|JFK INTERNATIONAL...| 40.6386| -73.7622|      3.4|            0.0|                     142|            199|            130|                       455|             73|          -15.0|            5.0|     -4.7|            0.4|                18.0|         1004.9|         1030.8|            1018.1|           -6.7|            6.7|        0.4|      -4.2|             8|            279|              7|            209|       5.1|             51|            307|            2.8|2020-01-01 05:00:00|\n",
      "|USW00094789|JFK INTERNATIONAL...| 40.6386| -73.7622|      3.4|            0.0|                     127|            184|            141|                       457|             91|          -15.0|            4.4|     -4.7|            0.3|                18.1|         1005.4|         1031.1|            1018.5|           -6.7|            6.7|        0.3|      -4.3|             8|            254|              7|            193|       5.2|             49|            305|            2.7|2020-01-01 06:00:00|\n",
      "|USW00094789|JFK INTERNATIONAL...| 40.6386| -73.7622|      3.4|            0.0|                     228|             99|            147|                       408|            118|          -14.4|            5.0|     -4.8|            0.3|                18.1|         1005.8|         1031.8|            1018.7|           -6.7|            7.2|        0.3|      -4.2|             8|            257|              7|            211|       5.1|             51|            305|            2.6|2020-01-01 07:00:00|\n",
      "|USW00094789|JFK INTERNATIONAL...| 40.6386| -73.7622|      3.4|            0.0|                     263|             82|            126|                       407|            121|          -13.9|            5.0|     -4.7|            0.5|                17.9|         1006.0|         1031.8|            1019.0|           -6.7|            7.2|        0.5|      -4.1|             8|            265|              7|            198|       5.3|             44|            304|            2.7|2020-01-01 08:00:00|\n",
      "|USW00094789|JFK INTERNATIONAL...| 40.6386| -73.7622|      3.4|            0.0|                     253|             95|            122|                       414|            115|          -13.9|            5.6|     -4.5|            1.2|                17.2|         1006.6|         1032.1|            1019.3|           -6.1|            7.8|        1.2|      -3.4|             8|            264|              7|            197|       5.6|             49|            306|            2.8|2020-01-01 09:00:00|\n",
      "|USW00094789|JFK INTERNATIONAL...| 40.6386| -73.7622|      3.4|            0.0|                     232|            100|            141|                       402|            125|          -13.9|            6.1|     -4.4|            1.9|                16.5|         1006.7|         1032.2|            1019.6|           -5.0|            8.3|        1.9|      -2.6|             8|            283|              7|            171|       5.8|             29|            305|            2.9|2020-01-01 10:00:00|\n",
      "+-----------+--------------------+--------+---------+---------+---------------+------------------------+---------------+---------------+--------------------------+---------------+---------------+---------------+---------+---------------+--------------------+---------------+---------------+------------------+---------------+---------------+-----------+----------+--------------+---------------+---------------+---------------+----------+---------------+---------------+---------------+-------------------+\n",
      "only showing top 10 rows\n",
      "\n"
     ]
    }
   ],
   "source": [
    "weather_spark_df = weather_spark_df.withColumnRenamed(\"HLY-CLOD-PCTBKN\",\"Clouds_Broken_Percentage\") \\\n",
    "                                    .withColumnRenamed(\"HLY-DEWP-NORMAL\",\"Dew_Point\") \\\n",
    "                                    .withColumnRenamed(\"HLY-HTDH-NORMAL\",\"Heating_Degree_Hours\") \\\n",
    "                                    .withColumnRenamed(\"HLY-HIDX-NORMAL\",\"Heat_Index_Mean\") \\\n",
    "                                    .withColumnRenamed(\"HLY-WIND-AVGSPD\",\"Wind_Speed\") \\\n",
    "                                    .withColumnRenamed(\"HLY-WIND-PCTCLM\",\"Percentage_Calm\") \\\n",
    "                                    .withColumnRenamed(\"HLY-CLOD-PCTOVC\",\"Clouds_Overcast_Percentage\") \\\n",
    "                                    .withColumnRenamed(\"HLY-PRES-NORMAL\",\"Sea_Level_Pressure\") \\\n",
    "                                    .withColumnRenamed(\"HLY-TEMP-NORMAL\",\"Temperature\") \\\n",
    "                                    .withColumnRenamed(\"HLY-WCHL-NORMAL\",\"Wind_Chill\") \\\n",
    "                                    .withColumnRenamed(\"HLY-WIND-1STDIR\",\"Wind_Direction\")\n",
    "\n",
    "weather_spark_df.show(10)"
   ]
  },
  {
   "cell_type": "code",
   "execution_count": 34,
   "metadata": {
    "pycharm": {
     "name": "#%%\n"
    }
   },
   "outputs": [
    {
     "data": {
      "text/plain": [
       "<function __main__.<lambda>(x)>"
      ]
     },
     "execution_count": 34,
     "metadata": {},
     "output_type": "execute_result"
    }
   ],
   "source": [
    "weather_spark_df.createOrReplaceTempView(\"weather_view\")\n",
    "\n",
    "spark.udf.register(\"getMonth\",lambda x : int(x.month))\n",
    "spark.udf.register(\"getDay\",lambda x : int(x.day))\n",
    "spark.udf.register(\"getHour\",lambda x : int(x.hour))\n",
    "spark.udf.register(\"getTS\",lambda x : int(x.timestamp))"
   ]
  },
  {
   "cell_type": "code",
   "execution_count": 35,
   "metadata": {
    "pycharm": {
     "name": "#%%\n"
    }
   },
   "outputs": [
    {
     "name": "stdout",
     "output_type": "stream",
     "text": [
      "+------------------------+---------+--------------------+---------------+----------+---------------+--------------------------+------------------+-----------+----------+--------------+-----+---+----+\n",
      "|Clouds_Broken_Percentage|Dew_Point|Heating_Degree_Hours|Heat_Index_Mean|Wind_Speed|Percentage_Calm|Clouds_Overcast_Percentage|Sea_Level_Pressure|Temperature|Wind_Chill|Wind_Direction|Month|Day|Hour|\n",
      "+------------------------+---------+--------------------+---------------+----------+---------------+--------------------------+------------------+-----------+----------+--------------+-----+---+----+\n",
      "|                     116|     -4.6|                17.5|            0.9|       5.3|             33|                       445|            1018.2|        0.9|      -3.7|             8|    1|  1|   1|\n",
      "|                     131|     -4.6|                17.6|            0.8|       5.2|             40|                       443|            1018.4|        0.8|      -3.7|             8|    1|  1|   2|\n",
      "|                     143|     -4.6|                17.8|            0.6|       5.1|             58|                       455|            1018.4|        0.6|      -3.8|             8|    1|  1|   3|\n",
      "|                     143|     -4.6|                17.9|            0.4|       5.1|             49|                       451|            1018.2|        0.4|      -4.0|             8|    1|  1|   4|\n",
      "|                     142|     -4.7|                18.0|            0.4|       5.1|             51|                       455|            1018.1|        0.4|      -4.2|             8|    1|  1|   5|\n",
      "|                     127|     -4.7|                18.1|            0.3|       5.2|             49|                       457|            1018.5|        0.3|      -4.3|             8|    1|  1|   6|\n",
      "|                     228|     -4.8|                18.1|            0.3|       5.1|             51|                       408|            1018.7|        0.3|      -4.2|             8|    1|  1|   7|\n",
      "|                     263|     -4.7|                17.9|            0.5|       5.3|             44|                       407|            1019.0|        0.5|      -4.1|             8|    1|  1|   8|\n",
      "|                     253|     -4.5|                17.2|            1.2|       5.6|             49|                       414|            1019.3|        1.2|      -3.4|             8|    1|  1|   9|\n",
      "|                     232|     -4.4|                16.5|            1.9|       5.8|             29|                       402|            1019.6|        1.9|      -2.6|             8|    1|  1|  10|\n",
      "+------------------------+---------+--------------------+---------------+----------+---------------+--------------------------+------------------+-----------+----------+--------------+-----+---+----+\n",
      "only showing top 10 rows\n",
      "\n"
     ]
    }
   ],
   "source": [
    "#Weather_Table\n",
    "weather_table = spark.sql(\"\"\"\n",
    "    SELECT\n",
    "        Clouds_Broken_Percentage,\n",
    "        Dew_Point,\n",
    "        Heating_Degree_Hours,\n",
    "        Heat_Index_Mean,\n",
    "        Wind_Speed,\n",
    "        Percentage_Calm,\n",
    "        Clouds_Overcast_Percentage,\n",
    "        Sea_Level_Pressure,\n",
    "        Temperature,\n",
    "        Wind_Chill,\n",
    "        Wind_Direction,\n",
    "        getMonth(ts) AS Month,\n",
    "        getDay(ts) AS Day,\n",
    "        getHour(ts) AS Hour\n",
    "    FROM weather_view;\n",
    "\"\"\")\n",
    "\n",
    "#weather_table.write.partitionBy(\"month\",\"day\").parquet(output_data + \"/zone_table/\",mode=\"overwrite\")\n",
    "weather_table.show(10)"
   ]
  },
  {
   "cell_type": "code",
   "execution_count": 36,
   "metadata": {
    "pycharm": {
     "name": "#%%\n"
    }
   },
   "outputs": [
    {
     "name": "stdout",
     "output_type": "stream",
     "text": [
      "+--------+------------------+----------+------------+------------+---------------+-------------+-----------+-----+-------+----------+------------+---------+---------------------+------------+------------+---------+--------------------+-------------------+-------------------+---+\n",
      "|VendorID|store_and_fwd_flag|RatecodeID|PULocationID|DOLocationID|passenger_count|trip_distance|fare_amount|extra|mta_tax|tip_amount|tolls_amount|ehail_fee|improvement_surcharge|total_amount|payment_type|trip_type|congestion_surcharge|           PickupTS|             DropTS| id|\n",
      "+--------+------------------+----------+------------+------------+---------------+-------------+-----------+-----+-------+----------+------------+---------+---------------------+------------+------------+---------+--------------------+-------------------+-------------------+---+\n",
      "|     2.0|                 N|       5.0|          66|          65|            2.0|         1.28|       20.0|  0.0|    0.0|      4.06|         0.0|      NaN|                  0.3|       24.36|         1.0|      2.0|                 0.0|2020-01-01 00:45:58|2020-01-01 00:56:39|  0|\n",
      "|     2.0|                 N|       1.0|         181|         228|            1.0|         2.47|       10.5|  0.5|    0.5|      3.54|         0.0|      NaN|                  0.3|       15.34|         1.0|      1.0|                 0.0|2020-01-01 00:41:38|2020-01-01 00:52:49|  1|\n",
      "|     1.0|                 N|       1.0|         129|         263|            2.0|          6.3|       21.0| 3.25|    0.5|       0.0|         0.0|      NaN|                  0.3|       25.05|         2.0|      1.0|                2.75|2020-01-01 00:52:46|2020-01-01 01:14:21|  2|\n",
      "|     1.0|                 N|       1.0|         210|         150|            1.0|          2.3|       10.0|  0.5|    0.5|       0.0|         0.0|      NaN|                  0.3|        11.3|         1.0|      1.0|                 0.0|2020-01-01 00:19:57|2020-01-01 00:30:56|  3|\n",
      "|     1.0|                 N|       1.0|          35|          39|            1.0|          3.0|       13.5|  0.5|    0.5|       0.0|         0.0|      NaN|                  0.3|        14.8|         1.0|      1.0|                 0.0|2020-01-01 00:52:33|2020-01-01 01:09:54|  4|\n",
      "|     2.0|                 N|       1.0|          25|          61|            1.0|         2.77|       11.0|  0.5|    0.5|       0.0|         0.0|      NaN|                  0.3|        12.3|         2.0|      1.0|                 0.0|2020-01-01 00:10:18|2020-01-01 00:22:16|  5|\n",
      "|     2.0|                 N|       1.0|         225|          89|            1.0|         4.98|       20.5|  0.5|    0.5|       0.0|         0.0|      NaN|                  0.3|        21.8|         2.0|      1.0|                 0.0|2020-01-01 01:03:14|2020-01-01 01:29:45|  6|\n",
      "|     2.0|                 N|       1.0|         129|         129|            1.0|         0.71|        5.5|  0.5|    0.5|       0.0|         0.0|      NaN|                  0.3|         6.8|         2.0|      1.0|                 0.0|2020-01-01 00:04:11|2020-01-01 00:09:48|  7|\n",
      "|     2.0|                 N|       1.0|         129|          83|            1.0|          0.8|        5.5|  0.5|    0.5|       0.0|         0.0|      NaN|                  0.3|         6.8|         2.0|      1.0|                 0.0|2020-01-01 00:25:52|2020-01-01 00:32:16|  8|\n",
      "|     2.0|                 N|       1.0|          82|         173|            1.0|         1.52|        9.5|  0.5|    0.5|       0.0|         0.0|      NaN|                  0.3|        10.8|         2.0|      1.0|                 0.0|2020-01-01 00:47:32|2020-01-01 00:59:25|  9|\n",
      "+--------+------------------+----------+------------+------------+---------------+-------------+-----------+-----+-------+----------+------------+---------+---------------------+------------+------------+---------+--------------------+-------------------+-------------------+---+\n",
      "only showing top 10 rows\n",
      "\n"
     ]
    }
   ],
   "source": [
    "taxi_spark_df = taxi_spark_df.withColumn(\"id\",f.monotonically_increasing_id())\n",
    "taxi_spark_df.createOrReplaceTempView(\"taxi_view\")\n",
    "taxi_spark_df.show(10)"
   ]
  },
  {
   "cell_type": "code",
   "execution_count": 37,
   "metadata": {
    "pycharm": {
     "name": "#%%\n"
    }
   },
   "outputs": [
    {
     "name": "stdout",
     "output_type": "stream",
     "text": [
      "+-------+----------------+--------------+-----------+-----+----------+------------+--------------------+------------+\n",
      "|trip_id|pickup_timestamp|drop_timestamp|fare_amount|extra|tip_amount|tolls_amount|congestion_surcharge|total_amount|\n",
      "+-------+----------------+--------------+-----------+-----+----------+------------+--------------------+------------+\n",
      "|      0|   1.577819758E9| 1.577820399E9|       20.0|  0.0|      4.06|         0.0|                 0.0|       24.36|\n",
      "|      1|   1.577819498E9| 1.577820169E9|       10.5|  0.5|      3.54|         0.0|                 0.0|       15.34|\n",
      "|      2|   1.577820166E9| 1.577821461E9|       21.0| 3.25|       0.0|         0.0|                2.75|       25.05|\n",
      "|      3|   1.577818197E9| 1.577818856E9|       10.0|  0.5|       0.0|         0.0|                 0.0|        11.3|\n",
      "|      4|   1.577820153E9| 1.577821194E9|       13.5|  0.5|       0.0|         0.0|                 0.0|        14.8|\n",
      "|      5|   1.577817618E9| 1.577818336E9|       11.0|  0.5|       0.0|         0.0|                 0.0|        12.3|\n",
      "|      6|   1.577820794E9| 1.577822385E9|       20.5|  0.5|       0.0|         0.0|                 0.0|        21.8|\n",
      "|      7|   1.577817251E9| 1.577817588E9|        5.5|  0.5|       0.0|         0.0|                 0.0|         6.8|\n",
      "|      8|   1.577818552E9| 1.577818936E9|        5.5|  0.5|       0.0|         0.0|                 0.0|         6.8|\n",
      "|      9|   1.577819852E9| 1.577820565E9|        9.5|  0.5|       0.0|         0.0|                 0.0|        10.8|\n",
      "+-------+----------------+--------------+-----------+-----+----------+------------+--------------------+------------+\n",
      "only showing top 10 rows\n",
      "\n"
     ]
    }
   ],
   "source": [
    "spark.udf.register(\"getTS\",lambda x : datetime.datetime.timestamp(x))\n",
    "\n",
    "#Trip_table\n",
    "trip_table = spark.sql(\"\"\"\n",
    "    SELECT\n",
    "        id AS trip_id,\n",
    "        getTS(PickupTS) AS pickup_timestamp,\n",
    "        getTS(DropTS) AS drop_timestamp,\n",
    "        fare_amount,\n",
    "        extra,\n",
    "        tip_amount,\n",
    "        tolls_amount,\n",
    "        congestion_surcharge,\n",
    "        total_amount\n",
    "    FROM taxi_view\"\"\")\n",
    "\n",
    "#trip_table.write.parquet(output_data + \"/trip_table/\",mode=\"overwrite\")\n",
    "trip_table.show(10)"
   ]
  },
  {
   "cell_type": "code",
   "execution_count": 38,
   "metadata": {
    "pycharm": {
     "name": "#%%\n"
    }
   },
   "outputs": [
    {
     "name": "stdout",
     "output_type": "stream",
     "text": [
      "+-------+-----+---+----+---------+------------+--------------+-----------+------------+---------------+-------------+\n",
      "|trip_id|Month|Day|Hour|rate_code|payment_code|pick_up_loc_id|drop_loc_id|total_amount|passenger_count|trip_distance|\n",
      "+-------+-----+---+----+---------+------------+--------------+-----------+------------+---------------+-------------+\n",
      "|      0|    1|  1|   0|      5.0|         1.0|            66|         65|       24.36|            2.0|         1.28|\n",
      "|      1|    1|  1|   0|      1.0|         1.0|           181|        228|       15.34|            1.0|         2.47|\n",
      "|      2|    1|  1|   0|      1.0|         2.0|           129|        263|       25.05|            2.0|          6.3|\n",
      "|      3|    1|  1|   0|      1.0|         1.0|           210|        150|        11.3|            1.0|          2.3|\n",
      "|      4|    1|  1|   0|      1.0|         1.0|            35|         39|        14.8|            1.0|          3.0|\n",
      "|      5|    1|  1|   0|      1.0|         2.0|            25|         61|        12.3|            1.0|         2.77|\n",
      "|      6|    1|  1|   1|      1.0|         2.0|           225|         89|        21.8|            1.0|         4.98|\n",
      "|      7|    1|  1|   0|      1.0|         2.0|           129|        129|         6.8|            1.0|         0.71|\n",
      "|      8|    1|  1|   0|      1.0|         2.0|           129|         83|         6.8|            1.0|          0.8|\n",
      "|      9|    1|  1|   0|      1.0|         2.0|            82|        173|        10.8|            1.0|         1.52|\n",
      "+-------+-----+---+----+---------+------------+--------------+-----------+------------+---------------+-------------+\n",
      "only showing top 10 rows\n",
      "\n"
     ]
    }
   ],
   "source": [
    "#Fact_table\n",
    "fact_table = spark.sql(\"\"\"\n",
    "    SELECT\n",
    "        id AS trip_id,\n",
    "        getMonth(PickupTS) AS Month,\n",
    "        getDay(PickupTS) AS Day,\n",
    "        getHour(PickupTS) AS Hour,\n",
    "        RatecodeID AS rate_code,\n",
    "        payment_type AS payment_code,\n",
    "        PULocationID AS pick_up_loc_id,\n",
    "        DOLocationID AS drop_loc_id,\n",
    "        total_amount,\n",
    "        passenger_count,\n",
    "        trip_distance\n",
    "    FROM  taxi_view\"\"\")\n",
    "\n",
    "#fact_table.write.partitionBy(\"Month\",\"Day\",\"Hour\").parquet(output_data + \"/fact_table/\",mode=\"overwrite\")\n",
    "fact_table.show(10)"
   ]
  },
  {
   "cell_type": "markdown",
   "metadata": {},
   "source": [
    "#### 4.2 Data Quality Checks\n",
    "Explain the data quality checks you'll perform to ensure the pipeline ran as expected. These could include:\n",
    " * Integrity constraints on the relational database (e.g., unique key, data type, etc.)\n",
    " * Unit tests for the scripts to ensure they are doing the right thing\n",
    " * Source/Count checks to ensure completeness\n",
    "\n",
    "1. Check for null value of ID in fact\n",
    "2. Check for null value of ID in trip\n",
    "3. Check if join works fine (fact <-> trip)\n",
    "4. Check for null value of month,day,hour in fact\n",
    "5. Check for null value of month,day,hour in Weather\n",
    "6. Check if join works fine (fact <-> weather)\n",
    "7. Check if join works fine (fact <-> rate)\n",
    "8. Check if join works fine (fact <-> location)\n",
    "9. Check if join works fine (fact <-> payment)\n",
    "\n",
    "Run Quality Checks"
   ]
  },
  {
   "cell_type": "code",
   "execution_count": 39,
   "metadata": {
    "pycharm": {
     "name": "#%%\n"
    }
   },
   "outputs": [],
   "source": [
    "trip_table.createOrReplaceTempView(\"trip_view\")\n",
    "fact_table.createOrReplaceTempView(\"fact_view\")\n",
    "weather_table.createOrReplaceTempView(\"weather_view\")\n",
    "zone_table.createOrReplaceTempView(\"zone_view\")\n",
    "payment_spark_df.createOrReplaceTempView(\"payment_view\")\n",
    "rate_spark_df.createOrReplaceTempView(\"rate_view\")\n"
   ]
  },
  {
   "cell_type": "code",
   "execution_count": 57,
   "metadata": {},
   "outputs": [
    {
     "name": "stdout",
     "output_type": "stream",
     "text": [
      "+--------+\n",
      "|count(1)|\n",
      "+--------+\n",
      "| 1222824|\n",
      "+--------+\n",
      "\n"
     ]
    }
   ],
   "source": [
    "#Task 1\n",
    "spark.sql(\"SELECT COUNT(*) FROM fact_view\").show(1)"
   ]
  },
  {
   "cell_type": "code",
   "execution_count": 40,
   "metadata": {
    "pycharm": {
     "name": "#%%\n"
    }
   },
   "outputs": [
    {
     "name": "stdout",
     "output_type": "stream",
     "text": [
      "+--------+\n",
      "|count(1)|\n",
      "+--------+\n",
      "|       0|\n",
      "+--------+\n",
      "\n"
     ]
    }
   ],
   "source": [
    "#Task 2\n",
    "spark.sql(\"SELECT COUNT(*) FROM fact_view WHERE trip_id is NULL \").show(1)"
   ]
  },
  {
   "cell_type": "code",
   "execution_count": 41,
   "metadata": {
    "pycharm": {
     "name": "#%%\n"
    }
   },
   "outputs": [
    {
     "name": "stdout",
     "output_type": "stream",
     "text": [
      "+--------+\n",
      "|count(1)|\n",
      "+--------+\n",
      "|       0|\n",
      "+--------+\n",
      "\n"
     ]
    }
   ],
   "source": [
    "#Task 3\n",
    "spark.sql(\"SELECT COUNT(*) FROM trip_view WHERE trip_id is NULL \").show(1)"
   ]
  },
  {
   "cell_type": "code",
   "execution_count": 55,
   "metadata": {
    "pycharm": {
     "name": "#%%\n"
    }
   },
   "outputs": [],
   "source": [
    "#Task 4\n",
    "spark.sql(\"\"\"\n",
    "    SELECT *\n",
    "    FROM fact_view F\n",
    "    JOIN trip_view T\n",
    "    ON F.trip_id = T.trip_id\"\"\").show(10)"
   ]
  },
  {
   "cell_type": "code",
   "execution_count": 53,
   "metadata": {
    "pycharm": {
     "name": "#%%\n"
    }
   },
   "outputs": [
    {
     "name": "stdout",
     "output_type": "stream",
     "text": [
      "+--------+\n",
      "|count(1)|\n",
      "+--------+\n",
      "|       0|\n",
      "+--------+\n",
      "\n"
     ]
    }
   ],
   "source": [
    "#Task 5\n",
    "spark.sql(\"\"\"SELECT COUNT(*)\n",
    "             FROM fact_view\n",
    "             WHERE month is NULL\n",
    "             OR hour is NULL\n",
    "             OR day is NULL\"\"\").show(1)"
   ]
  },
  {
   "cell_type": "code",
   "execution_count": 51,
   "metadata": {
    "pycharm": {
     "name": "#%%\n"
    }
   },
   "outputs": [
    {
     "name": "stdout",
     "output_type": "stream",
     "text": [
      "+--------+\n",
      "|count(1)|\n",
      "+--------+\n",
      "|       0|\n",
      "+--------+\n",
      "\n"
     ]
    }
   ],
   "source": [
    "#Task 6\n",
    "spark.sql(\"\"\"SELECT COUNT(*)\n",
    "             FROM weather_view\n",
    "             WHERE month is NULL\n",
    "             OR hour is NULL\n",
    "             OR day is NULL\"\"\").show(1)\n"
   ]
  },
  {
   "cell_type": "code",
   "execution_count": 52,
   "metadata": {
    "pycharm": {
     "name": "#%%\n"
    }
   },
   "outputs": [
    {
     "name": "stdout",
     "output_type": "stream",
     "text": [
      "+-------+------------------------+---------+--------------------+---------------+----------+---------------+--------------------------+------------------+-----------+----------+--------------+-----+---+----+\n",
      "|trip_id|Clouds_Broken_Percentage|Dew_Point|Heating_Degree_Hours|Heat_Index_Mean|Wind_Speed|Percentage_Calm|Clouds_Overcast_Percentage|Sea_Level_Pressure|Temperature|Wind_Chill|Wind_Direction|Month|Day|Hour|\n",
      "+-------+------------------------+---------+--------------------+---------------+----------+---------------+--------------------------+------------------+-----------+----------+--------------+-----+---+----+\n",
      "|      6|                     116|     -4.6|                17.5|            0.9|       5.3|             33|                       445|            1018.2|        0.9|      -3.7|             8|    1|  1|   1|\n",
      "|    133|                     116|     -4.6|                17.5|            0.9|       5.3|             33|                       445|            1018.2|        0.9|      -3.7|             8|    1|  1|   1|\n",
      "|    276|                     116|     -4.6|                17.5|            0.9|       5.3|             33|                       445|            1018.2|        0.9|      -3.7|             8|    1|  1|   1|\n",
      "|    291|                     116|     -4.6|                17.5|            0.9|       5.3|             33|                       445|            1018.2|        0.9|      -3.7|             8|    1|  1|   1|\n",
      "|    312|                     116|     -4.6|                17.5|            0.9|       5.3|             33|                       445|            1018.2|        0.9|      -3.7|             8|    1|  1|   1|\n",
      "|    370|                     116|     -4.6|                17.5|            0.9|       5.3|             33|                       445|            1018.2|        0.9|      -3.7|             8|    1|  1|   1|\n",
      "|    376|                     116|     -4.6|                17.5|            0.9|       5.3|             33|                       445|            1018.2|        0.9|      -3.7|             8|    1|  1|   1|\n",
      "|    424|                     116|     -4.6|                17.5|            0.9|       5.3|             33|                       445|            1018.2|        0.9|      -3.7|             8|    1|  1|   1|\n",
      "|    448|                     116|     -4.6|                17.5|            0.9|       5.3|             33|                       445|            1018.2|        0.9|      -3.7|             8|    1|  1|   1|\n",
      "|    457|                     116|     -4.6|                17.5|            0.9|       5.3|             33|                       445|            1018.2|        0.9|      -3.7|             8|    1|  1|   1|\n",
      "+-------+------------------------+---------+--------------------+---------------+----------+---------------+--------------------------+------------------+-----------+----------+--------------+-----+---+----+\n",
      "only showing top 10 rows\n",
      "\n"
     ]
    }
   ],
   "source": [
    "#Task 7\n",
    "spark.sql(\"\"\"\n",
    "    SELECT\n",
    "        F.trip_id, W.*\n",
    "    FROM fact_view F\n",
    "    JOIN weather_view W\n",
    "    ON F.month = W.month\n",
    "    AND F.hour = W.hour\n",
    "    AND F.day = W.day\"\"\").show(10)\n"
   ]
  },
  {
   "cell_type": "code",
   "execution_count": 50,
   "metadata": {
    "pycharm": {
     "name": "#%%\n"
    }
   },
   "outputs": [
    {
     "name": "stdout",
     "output_type": "stream",
     "text": [
      "+--------+--------------------+\n",
      "|count(1)|           Rate_type|\n",
      "+--------+--------------------+\n",
      "|   22836|     Negotiated fare|\n",
      "|     645|Nassau or Westche...|\n",
      "|     435|              Newark|\n",
      "|  891842|       Standard rate|\n",
      "|      10|          Group ride|\n",
      "|    1731|                 JFK|\n",
      "+--------+--------------------+\n",
      "\n"
     ]
    }
   ],
   "source": [
    "#Task 8\n",
    "spark.sql(\"\"\"\n",
    "    SELECT\n",
    "        COUNT(*), R.Rate_type\n",
    "    FROM fact_view F\n",
    "    JOIN rate_view R\n",
    "    ON F.rate_code = R.RatecodeID\n",
    "    GROUP BY R.Rate_type\"\"\").show(10)\n"
   ]
  },
  {
   "cell_type": "code",
   "execution_count": 49,
   "metadata": {
    "pycharm": {
     "name": "#%%\n"
    }
   },
   "outputs": [
    {
     "name": "stdout",
     "output_type": "stream",
     "text": [
      "+----+--------------------+--------------------+\n",
      "|  id|           Pick_Zone|           Drop_Zone|\n",
      "+----+--------------------+--------------------+\n",
      "|  26|         Kew Gardens|     Jackson Heights|\n",
      "|  29|Washington Height...|Washington Height...|\n",
      "| 474|      Central Harlem|    Manhattan Valley|\n",
      "| 964|   East Harlem South|   East Harlem South|\n",
      "|1677|             Astoria|            Elmhurst|\n",
      "|1697|             Astoria|       East Elmhurst|\n",
      "|1806| Crown Heights North|    Sunset Park West|\n",
      "|1950|        Clinton Hill|            Gramercy|\n",
      "|2040|    Bensonhurst West|       Starrett City|\n",
      "|2214|            Elmhurst|        North Corona|\n",
      "+----+--------------------+--------------------+\n",
      "only showing top 10 rows\n",
      "\n"
     ]
    }
   ],
   "source": [
    "#Task 9\n",
    "spark.sql(\"\"\"\n",
    "    SELECT\n",
    "        Z1.id, Z1.Pick_Zone, Z2.Drop_Zone\n",
    "    FROM\n",
    "        (SELECT F.trip_id AS ID, Z.Zone AS Pick_Zone FROM fact_view F JOIN zone_view Z ON F.pick_up_loc_id = Z.LocationID ) Z1\n",
    "    JOIN\n",
    "        (SELECT F.trip_id AS ID, Z.Zone AS Drop_Zone FROM fact_view F JOIN zone_view Z ON F.drop_loc_id = Z.LocationID ) Z2\n",
    "    ON  Z1.ID = Z2.ID\n",
    "    \"\"\").show(10)"
   ]
  },
  {
   "cell_type": "code",
   "execution_count": 56,
   "metadata": {
    "pycharm": {
     "name": "#%%\n"
    }
   },
   "outputs": [
    {
     "name": "stdout",
     "output_type": "stream",
     "text": [
      "+--------+------------+\n",
      "|count(1)|Payment_type|\n",
      "+--------+------------+\n",
      "|  409664|        Cash|\n",
      "|    1682|     Dispute|\n",
      "|    5397|   No charge|\n",
      "|  500758| Credit card|\n",
      "+--------+------------+\n",
      "\n"
     ]
    }
   ],
   "source": [
    "#Task 10\n",
    "spark.sql(\"\"\"\n",
    "    SELECT\n",
    "        COUNT(*), P.Payment_type\n",
    "    FROM fact_view F\n",
    "    JOIN payment_view P\n",
    "    ON F.payment_code = P.PaymentID\n",
    "    GROUP BY P.Payment_type\"\"\").show(10)\n",
    "\n"
   ]
  },
  {
   "cell_type": "markdown",
   "metadata": {},
   "source": [
    "#### 4.3 Data dictionary \n",
    "Create a data dictionary for your data model. For each field, provide a brief description of what the data is and where it came from. You can include the data dictionary in the notebook or in a separate file."
   ]
  },
  {
   "cell_type": "markdown",
   "metadata": {},
   "source": [
    "#### Step 5: Complete Project Write Up\n",
    "* Clearly state the rationale for the choice of tools and technologies for the project.\n",
    "* Propose how often the data should be updated and why.\n",
    "* Write a description of how you would approach the problem differently under the following scenarios:\n",
    " * The data was increased by 100x.\n",
    " * The data populates a dashboard that must be updated on a daily basis by 7am every day.\n",
    " * The database needed to be accessed by 100+ people."
   ]
  },
  {
   "cell_type": "code",
   "execution_count": null,
   "metadata": {},
   "outputs": [],
   "source": []
  },
  {
   "cell_type": "code",
   "execution_count": null,
   "metadata": {},
   "outputs": [],
   "source": []
  },
  {
   "cell_type": "code",
   "execution_count": null,
   "metadata": {},
   "outputs": [],
   "source": []
  },
  {
   "cell_type": "code",
   "execution_count": null,
   "metadata": {},
   "outputs": [],
   "source": []
  },
  {
   "cell_type": "code",
   "execution_count": null,
   "metadata": {},
   "outputs": [],
   "source": []
  },
  {
   "cell_type": "code",
   "execution_count": null,
   "metadata": {},
   "outputs": [],
   "source": []
  }
 ],
 "metadata": {
  "kernelspec": {
   "display_name": "Python 3",
   "language": "python",
   "name": "python3"
  },
  "language_info": {
   "codemirror_mode": {
    "name": "ipython",
    "version": 3
   },
   "file_extension": ".py",
   "mimetype": "text/x-python",
   "name": "python",
   "nbconvert_exporter": "python",
   "pygments_lexer": "ipython3",
   "version": "3.8.5"
  }
 },
 "nbformat": 4,
 "nbformat_minor": 2
}