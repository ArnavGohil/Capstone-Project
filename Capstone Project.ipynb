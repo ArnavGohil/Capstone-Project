{
 "cells": [
  {
   "cell_type": "markdown",
   "metadata": {},
   "source": [
    "# Project Title\n",
    "### Data Engineering Capstone Project\n",
    "\n",
    "#### Project Summary\n",
    "--describe your project at a high level--\n",
    "\n",
    "The project follows the follow steps:\n",
    "* Step 1: Scope the Project and Gather Data\n",
    "* Step 2: Explore and Assess the Data\n",
    "* Step 3: Define the Data Model\n",
    "* Step 4: Run ETL to Model the Data\n",
    "* Step 5: Complete Project Write Up"
   ]
  },
  {
   "cell_type": "code",
   "execution_count": 4,
   "metadata": {},
   "outputs": [],
   "source": [
    "# Do all imports and installs here\n",
    "import pandas as pd"
   ]
  },
  {
   "cell_type": "markdown",
   "metadata": {},
   "source": [
    "### Step 1: Scope the Project and Gather Data\n",
    "\n",
    "#### Scope \n",
    "Explain what you plan to do in the project in more detail. What data do you use? What is your end solution look like? What tools did you use? etc>\n",
    "\n",
    "#### Describe and Gather Data \n",
    "Describe the data sets you're using. Where did it come from? What type of information is included? "
   ]
  },
  {
   "cell_type": "code",
   "execution_count": 5,
   "metadata": {},
   "outputs": [
    {
     "name": "stderr",
     "output_type": "stream",
     "text": [
      "/Users/arnavgohil/.conda/envs/Capstone-Project/lib/python3.8/site-packages/IPython/core/interactiveshell.py:3146: DtypeWarning: Columns (3) have mixed types.Specify dtype option on import or set low_memory=False.\n",
      "  has_raised = await self.run_ast_nodes(code_ast.body, cell_name,\n"
     ]
    }
   ],
   "source": [
    "# Read in the data here\n",
    "taxi_file_url = \"https://data.cityofnewyork.us/api/views/pkmi-4kfn/rows.csv\"\n",
    "taxi_zone_file = \"taxi_zones.json\"\n",
    "weather_file = \"weather.csv\"\n",
    "\n",
    "df_zones = pd.read_json(taxi_zone_file)\n",
    "df_weather = pd.read_csv(weather_file)\n",
    "df_taxi = pd.read_csv(taxi_file_url)"
   ]
  },
  {
   "cell_type": "code",
   "execution_count": 6,
   "metadata": {
    "pycharm": {
     "name": "#%%\n"
    }
   },
   "outputs": [
    {
     "data": {
      "text/plain": "   VendorID    lpep_pickup_datetime   lpep_dropoff_datetime  \\\n0       2.0  12/18/2019 03:52:30 PM  12/18/2019 03:54:39 PM   \n1       2.0  01/01/2020 12:45:58 AM  01/01/2020 12:56:39 AM   \n2       2.0  01/01/2020 12:41:38 AM  01/01/2020 12:52:49 AM   \n3       1.0  01/01/2020 12:52:46 AM  01/01/2020 01:14:21 AM   \n4       1.0  01/01/2020 12:19:57 AM  01/01/2020 12:30:56 AM   \n\n  store_and_fwd_flag  RatecodeID  PULocationID  DOLocationID  passenger_count  \\\n0                  N         1.0           264           264              5.0   \n1                  N         5.0            66            65              2.0   \n2                  N         1.0           181           228              1.0   \n3                  N         1.0           129           263              2.0   \n4                  N         1.0           210           150              1.0   \n\n   trip_distance  fare_amount  extra  mta_tax  tip_amount  tolls_amount  \\\n0           0.00          3.5   0.50      0.5        0.01           0.0   \n1           1.28         20.0   0.00      0.0        4.06           0.0   \n2           2.47         10.5   0.50      0.5        3.54           0.0   \n3           6.30         21.0   3.25      0.5        0.00           0.0   \n4           2.30         10.0   0.50      0.5        0.00           0.0   \n\n   ehail_fee  improvement_surcharge  total_amount  payment_type  trip_type  \\\n0        NaN                    0.3          4.81           1.0        1.0   \n1        NaN                    0.3         24.36           1.0        2.0   \n2        NaN                    0.3         15.34           1.0        1.0   \n3        NaN                    0.3         25.05           2.0        1.0   \n4        NaN                    0.3         11.30           1.0        1.0   \n\n   congestion_surcharge  \n0                  0.00  \n1                  0.00  \n2                  0.00  \n3                  2.75  \n4                  0.00  ",
      "text/html": "<div>\n<style scoped>\n    .dataframe tbody tr th:only-of-type {\n        vertical-align: middle;\n    }\n\n    .dataframe tbody tr th {\n        vertical-align: top;\n    }\n\n    .dataframe thead th {\n        text-align: right;\n    }\n</style>\n<table border=\"1\" class=\"dataframe\">\n  <thead>\n    <tr style=\"text-align: right;\">\n      <th></th>\n      <th>VendorID</th>\n      <th>lpep_pickup_datetime</th>\n      <th>lpep_dropoff_datetime</th>\n      <th>store_and_fwd_flag</th>\n      <th>RatecodeID</th>\n      <th>PULocationID</th>\n      <th>DOLocationID</th>\n      <th>passenger_count</th>\n      <th>trip_distance</th>\n      <th>fare_amount</th>\n      <th>extra</th>\n      <th>mta_tax</th>\n      <th>tip_amount</th>\n      <th>tolls_amount</th>\n      <th>ehail_fee</th>\n      <th>improvement_surcharge</th>\n      <th>total_amount</th>\n      <th>payment_type</th>\n      <th>trip_type</th>\n      <th>congestion_surcharge</th>\n    </tr>\n  </thead>\n  <tbody>\n    <tr>\n      <th>0</th>\n      <td>2.0</td>\n      <td>12/18/2019 03:52:30 PM</td>\n      <td>12/18/2019 03:54:39 PM</td>\n      <td>N</td>\n      <td>1.0</td>\n      <td>264</td>\n      <td>264</td>\n      <td>5.0</td>\n      <td>0.00</td>\n      <td>3.5</td>\n      <td>0.50</td>\n      <td>0.5</td>\n      <td>0.01</td>\n      <td>0.0</td>\n      <td>NaN</td>\n      <td>0.3</td>\n      <td>4.81</td>\n      <td>1.0</td>\n      <td>1.0</td>\n      <td>0.00</td>\n    </tr>\n    <tr>\n      <th>1</th>\n      <td>2.0</td>\n      <td>01/01/2020 12:45:58 AM</td>\n      <td>01/01/2020 12:56:39 AM</td>\n      <td>N</td>\n      <td>5.0</td>\n      <td>66</td>\n      <td>65</td>\n      <td>2.0</td>\n      <td>1.28</td>\n      <td>20.0</td>\n      <td>0.00</td>\n      <td>0.0</td>\n      <td>4.06</td>\n      <td>0.0</td>\n      <td>NaN</td>\n      <td>0.3</td>\n      <td>24.36</td>\n      <td>1.0</td>\n      <td>2.0</td>\n      <td>0.00</td>\n    </tr>\n    <tr>\n      <th>2</th>\n      <td>2.0</td>\n      <td>01/01/2020 12:41:38 AM</td>\n      <td>01/01/2020 12:52:49 AM</td>\n      <td>N</td>\n      <td>1.0</td>\n      <td>181</td>\n      <td>228</td>\n      <td>1.0</td>\n      <td>2.47</td>\n      <td>10.5</td>\n      <td>0.50</td>\n      <td>0.5</td>\n      <td>3.54</td>\n      <td>0.0</td>\n      <td>NaN</td>\n      <td>0.3</td>\n      <td>15.34</td>\n      <td>1.0</td>\n      <td>1.0</td>\n      <td>0.00</td>\n    </tr>\n    <tr>\n      <th>3</th>\n      <td>1.0</td>\n      <td>01/01/2020 12:52:46 AM</td>\n      <td>01/01/2020 01:14:21 AM</td>\n      <td>N</td>\n      <td>1.0</td>\n      <td>129</td>\n      <td>263</td>\n      <td>2.0</td>\n      <td>6.30</td>\n      <td>21.0</td>\n      <td>3.25</td>\n      <td>0.5</td>\n      <td>0.00</td>\n      <td>0.0</td>\n      <td>NaN</td>\n      <td>0.3</td>\n      <td>25.05</td>\n      <td>2.0</td>\n      <td>1.0</td>\n      <td>2.75</td>\n    </tr>\n    <tr>\n      <th>4</th>\n      <td>1.0</td>\n      <td>01/01/2020 12:19:57 AM</td>\n      <td>01/01/2020 12:30:56 AM</td>\n      <td>N</td>\n      <td>1.0</td>\n      <td>210</td>\n      <td>150</td>\n      <td>1.0</td>\n      <td>2.30</td>\n      <td>10.0</td>\n      <td>0.50</td>\n      <td>0.5</td>\n      <td>0.00</td>\n      <td>0.0</td>\n      <td>NaN</td>\n      <td>0.3</td>\n      <td>11.30</td>\n      <td>1.0</td>\n      <td>1.0</td>\n      <td>0.00</td>\n    </tr>\n  </tbody>\n</table>\n</div>"
     },
     "execution_count": 6,
     "metadata": {},
     "output_type": "execute_result"
    }
   ],
   "source": [
    "df_taxi.head()"
   ]
  },
  {
   "cell_type": "code",
   "execution_count": 7,
   "metadata": {
    "pycharm": {
     "name": "#%%\n"
    }
   },
   "outputs": [
    {
     "data": {
      "text/plain": "   LocationID        Borough                     Zone service_zone\n0           1            EWR           Newark Airport          EWR\n1           2         Queens              Jamaica Bay    Boro Zone\n2           3          Bronx  Allerton/Pelham Gardens    Boro Zone\n3           4      Manhattan            Alphabet City  Yellow Zone\n4           5  Staten Island            Arden Heights    Boro Zone",
      "text/html": "<div>\n<style scoped>\n    .dataframe tbody tr th:only-of-type {\n        vertical-align: middle;\n    }\n\n    .dataframe tbody tr th {\n        vertical-align: top;\n    }\n\n    .dataframe thead th {\n        text-align: right;\n    }\n</style>\n<table border=\"1\" class=\"dataframe\">\n  <thead>\n    <tr style=\"text-align: right;\">\n      <th></th>\n      <th>LocationID</th>\n      <th>Borough</th>\n      <th>Zone</th>\n      <th>service_zone</th>\n    </tr>\n  </thead>\n  <tbody>\n    <tr>\n      <th>0</th>\n      <td>1</td>\n      <td>EWR</td>\n      <td>Newark Airport</td>\n      <td>EWR</td>\n    </tr>\n    <tr>\n      <th>1</th>\n      <td>2</td>\n      <td>Queens</td>\n      <td>Jamaica Bay</td>\n      <td>Boro Zone</td>\n    </tr>\n    <tr>\n      <th>2</th>\n      <td>3</td>\n      <td>Bronx</td>\n      <td>Allerton/Pelham Gardens</td>\n      <td>Boro Zone</td>\n    </tr>\n    <tr>\n      <th>3</th>\n      <td>4</td>\n      <td>Manhattan</td>\n      <td>Alphabet City</td>\n      <td>Yellow Zone</td>\n    </tr>\n    <tr>\n      <th>4</th>\n      <td>5</td>\n      <td>Staten Island</td>\n      <td>Arden Heights</td>\n      <td>Boro Zone</td>\n    </tr>\n  </tbody>\n</table>\n</div>"
     },
     "execution_count": 7,
     "metadata": {},
     "output_type": "execute_result"
    }
   ],
   "source": [
    "df_zones.head()"
   ]
  },
  {
   "cell_type": "code",
   "execution_count": 8,
   "metadata": {
    "pycharm": {
     "name": "#%%\n"
    }
   },
   "outputs": [
    {
     "data": {
      "text/plain": "       STATION                       NAME  LATITUDE  LONGITUDE  ELEVATION  \\\n0  USW00014732  LA GUARDIA AIRPORT, NY US   40.7792     -73.88        3.4   \n1  USW00014732  LA GUARDIA AIRPORT, NY US   40.7792     -73.88        3.4   \n2  USW00014732  LA GUARDIA AIRPORT, NY US   40.7792     -73.88        3.4   \n3  USW00014732  LA GUARDIA AIRPORT, NY US   40.7792     -73.88        3.4   \n4  USW00014732  LA GUARDIA AIRPORT, NY US   40.7792     -73.88        3.4   \n\n             DATE  HLY-CLDH-NORMAL  HLY-CLOD-PCTBKN  HLY-CLOD-PCTCLR  \\\n0  01-01T01:00:00              0.0              134              268   \n1  01-01T02:00:00              0.0              155              277   \n2  01-01T03:00:00              0.0              162              277   \n3  01-01T04:00:00              0.0              149              262   \n4  01-01T05:00:00              0.0              135              243   \n\n   HLY-CLOD-PCTFEW  ...  HLY-TEMP-NORMAL  HLY-WCHL-NORMAL  HLY-WIND-1STDIR  \\\n0               75  ...              1.4             -3.2                8   \n1               79  ...              1.2             -3.4                8   \n2               63  ...              1.1             -3.6                8   \n3               68  ...              0.9             -3.8                8   \n4              119  ...              0.8             -3.9                8   \n\n   HLY-WIND-1STPCT  HLY-WIND-2NDDIR  HLY-WIND-2NDPCT  HLY-WIND-AVGSPD  \\\n0              269                6              178              5.6   \n1              251                7              197              5.6   \n2              282                7              182              5.5   \n3              284                7              164              5.5   \n4              273                7              174              5.5   \n\n   HLY-WIND-PCTCLM  HLY-WIND-VCTDIR  HLY-WIND-VCTSPD  \n0               24              308              2.8  \n1               33              309              2.9  \n2               27              312              2.9  \n3               29              314              2.9  \n4               31              314              2.9  \n\n[5 rows x 32 columns]",
      "text/html": "<div>\n<style scoped>\n    .dataframe tbody tr th:only-of-type {\n        vertical-align: middle;\n    }\n\n    .dataframe tbody tr th {\n        vertical-align: top;\n    }\n\n    .dataframe thead th {\n        text-align: right;\n    }\n</style>\n<table border=\"1\" class=\"dataframe\">\n  <thead>\n    <tr style=\"text-align: right;\">\n      <th></th>\n      <th>STATION</th>\n      <th>NAME</th>\n      <th>LATITUDE</th>\n      <th>LONGITUDE</th>\n      <th>ELEVATION</th>\n      <th>DATE</th>\n      <th>HLY-CLDH-NORMAL</th>\n      <th>HLY-CLOD-PCTBKN</th>\n      <th>HLY-CLOD-PCTCLR</th>\n      <th>HLY-CLOD-PCTFEW</th>\n      <th>...</th>\n      <th>HLY-TEMP-NORMAL</th>\n      <th>HLY-WCHL-NORMAL</th>\n      <th>HLY-WIND-1STDIR</th>\n      <th>HLY-WIND-1STPCT</th>\n      <th>HLY-WIND-2NDDIR</th>\n      <th>HLY-WIND-2NDPCT</th>\n      <th>HLY-WIND-AVGSPD</th>\n      <th>HLY-WIND-PCTCLM</th>\n      <th>HLY-WIND-VCTDIR</th>\n      <th>HLY-WIND-VCTSPD</th>\n    </tr>\n  </thead>\n  <tbody>\n    <tr>\n      <th>0</th>\n      <td>USW00014732</td>\n      <td>LA GUARDIA AIRPORT, NY US</td>\n      <td>40.7792</td>\n      <td>-73.88</td>\n      <td>3.4</td>\n      <td>01-01T01:00:00</td>\n      <td>0.0</td>\n      <td>134</td>\n      <td>268</td>\n      <td>75</td>\n      <td>...</td>\n      <td>1.4</td>\n      <td>-3.2</td>\n      <td>8</td>\n      <td>269</td>\n      <td>6</td>\n      <td>178</td>\n      <td>5.6</td>\n      <td>24</td>\n      <td>308</td>\n      <td>2.8</td>\n    </tr>\n    <tr>\n      <th>1</th>\n      <td>USW00014732</td>\n      <td>LA GUARDIA AIRPORT, NY US</td>\n      <td>40.7792</td>\n      <td>-73.88</td>\n      <td>3.4</td>\n      <td>01-01T02:00:00</td>\n      <td>0.0</td>\n      <td>155</td>\n      <td>277</td>\n      <td>79</td>\n      <td>...</td>\n      <td>1.2</td>\n      <td>-3.4</td>\n      <td>8</td>\n      <td>251</td>\n      <td>7</td>\n      <td>197</td>\n      <td>5.6</td>\n      <td>33</td>\n      <td>309</td>\n      <td>2.9</td>\n    </tr>\n    <tr>\n      <th>2</th>\n      <td>USW00014732</td>\n      <td>LA GUARDIA AIRPORT, NY US</td>\n      <td>40.7792</td>\n      <td>-73.88</td>\n      <td>3.4</td>\n      <td>01-01T03:00:00</td>\n      <td>0.0</td>\n      <td>162</td>\n      <td>277</td>\n      <td>63</td>\n      <td>...</td>\n      <td>1.1</td>\n      <td>-3.6</td>\n      <td>8</td>\n      <td>282</td>\n      <td>7</td>\n      <td>182</td>\n      <td>5.5</td>\n      <td>27</td>\n      <td>312</td>\n      <td>2.9</td>\n    </tr>\n    <tr>\n      <th>3</th>\n      <td>USW00014732</td>\n      <td>LA GUARDIA AIRPORT, NY US</td>\n      <td>40.7792</td>\n      <td>-73.88</td>\n      <td>3.4</td>\n      <td>01-01T04:00:00</td>\n      <td>0.0</td>\n      <td>149</td>\n      <td>262</td>\n      <td>68</td>\n      <td>...</td>\n      <td>0.9</td>\n      <td>-3.8</td>\n      <td>8</td>\n      <td>284</td>\n      <td>7</td>\n      <td>164</td>\n      <td>5.5</td>\n      <td>29</td>\n      <td>314</td>\n      <td>2.9</td>\n    </tr>\n    <tr>\n      <th>4</th>\n      <td>USW00014732</td>\n      <td>LA GUARDIA AIRPORT, NY US</td>\n      <td>40.7792</td>\n      <td>-73.88</td>\n      <td>3.4</td>\n      <td>01-01T05:00:00</td>\n      <td>0.0</td>\n      <td>135</td>\n      <td>243</td>\n      <td>119</td>\n      <td>...</td>\n      <td>0.8</td>\n      <td>-3.9</td>\n      <td>8</td>\n      <td>273</td>\n      <td>7</td>\n      <td>174</td>\n      <td>5.5</td>\n      <td>31</td>\n      <td>314</td>\n      <td>2.9</td>\n    </tr>\n  </tbody>\n</table>\n<p>5 rows × 32 columns</p>\n</div>"
     },
     "execution_count": 8,
     "metadata": {},
     "output_type": "execute_result"
    }
   ],
   "source": [
    "df_weather.head()"
   ]
  },
  {
   "cell_type": "code",
   "execution_count": 9,
   "metadata": {
    "pycharm": {
     "name": "#%%\n"
    }
   },
   "outputs": [
    {
     "data": {
      "text/plain": "   RatecodeID              Rate_type\n0           1          Standard rate\n1           2                    JFK\n2           3                 Newark\n3           4  Nassau or Westchester\n4           5        Negotiated fare",
      "text/html": "<div>\n<style scoped>\n    .dataframe tbody tr th:only-of-type {\n        vertical-align: middle;\n    }\n\n    .dataframe tbody tr th {\n        vertical-align: top;\n    }\n\n    .dataframe thead th {\n        text-align: right;\n    }\n</style>\n<table border=\"1\" class=\"dataframe\">\n  <thead>\n    <tr style=\"text-align: right;\">\n      <th></th>\n      <th>RatecodeID</th>\n      <th>Rate_type</th>\n    </tr>\n  </thead>\n  <tbody>\n    <tr>\n      <th>0</th>\n      <td>1</td>\n      <td>Standard rate</td>\n    </tr>\n    <tr>\n      <th>1</th>\n      <td>2</td>\n      <td>JFK</td>\n    </tr>\n    <tr>\n      <th>2</th>\n      <td>3</td>\n      <td>Newark</td>\n    </tr>\n    <tr>\n      <th>3</th>\n      <td>4</td>\n      <td>Nassau or Westchester</td>\n    </tr>\n    <tr>\n      <th>4</th>\n      <td>5</td>\n      <td>Negotiated fare</td>\n    </tr>\n  </tbody>\n</table>\n</div>"
     },
     "execution_count": 9,
     "metadata": {},
     "output_type": "execute_result"
    }
   ],
   "source": [
    "rate_data = { 'RatecodeID':[1,2,3,4,5,6],\n",
    "              'Rate_type': ['Standard rate','JFK','Newark','Nassau or Westchester','Negotiated fare','Group ride']}\n",
    "df_rate = pd.DataFrame(rate_data)\n",
    "df_rate.head()"
   ]
  },
  {
   "cell_type": "code",
   "execution_count": 10,
   "metadata": {
    "pycharm": {
     "name": "#%%\n"
    }
   },
   "outputs": [
    {
     "data": {
      "text/plain": "   PaymentID Payment_type\n0          1  Credit card\n1          2         Cash\n2          3    No charge\n3          4      Dispute\n4          5      Unknown",
      "text/html": "<div>\n<style scoped>\n    .dataframe tbody tr th:only-of-type {\n        vertical-align: middle;\n    }\n\n    .dataframe tbody tr th {\n        vertical-align: top;\n    }\n\n    .dataframe thead th {\n        text-align: right;\n    }\n</style>\n<table border=\"1\" class=\"dataframe\">\n  <thead>\n    <tr style=\"text-align: right;\">\n      <th></th>\n      <th>PaymentID</th>\n      <th>Payment_type</th>\n    </tr>\n  </thead>\n  <tbody>\n    <tr>\n      <th>0</th>\n      <td>1</td>\n      <td>Credit card</td>\n    </tr>\n    <tr>\n      <th>1</th>\n      <td>2</td>\n      <td>Cash</td>\n    </tr>\n    <tr>\n      <th>2</th>\n      <td>3</td>\n      <td>No charge</td>\n    </tr>\n    <tr>\n      <th>3</th>\n      <td>4</td>\n      <td>Dispute</td>\n    </tr>\n    <tr>\n      <th>4</th>\n      <td>5</td>\n      <td>Unknown</td>\n    </tr>\n  </tbody>\n</table>\n</div>"
     },
     "execution_count": 10,
     "metadata": {},
     "output_type": "execute_result"
    }
   ],
   "source": [
    "payment_data = { 'PaymentID':[1,2,3,4,5,6],\n",
    "                 'Payment_type': ['Credit card','Cash','No charge','Dispute','Unknown','Voided trip']}\n",
    "df_payment = pd.DataFrame(payment_data)\n",
    "df_payment.head()"
   ]
  },
  {
   "cell_type": "code",
   "execution_count": 11,
   "metadata": {},
   "outputs": [],
   "source": [
    "from pyspark.sql import SparkSession\n",
    "from pyspark.sql.functions import udf, col\n",
    "from pyspark.sql.functions import year, month, dayofmonth, hour, weekofyear, date_format"
   ]
  },
  {
   "cell_type": "code",
   "execution_count": 12,
   "metadata": {
    "pycharm": {
     "name": "#%%\n"
    }
   },
   "outputs": [],
   "source": [
    "spark = SparkSession \\\n",
    "        .builder \\\n",
    "        .getOrCreate()"
   ]
  },
  {
   "cell_type": "code",
   "execution_count": 13,
   "metadata": {
    "pycharm": {
     "name": "#%%\n"
    }
   },
   "outputs": [
    {
     "data": {
      "text/plain": "<pyspark.sql.session.SparkSession at 0x7fbe04ace5e0>",
      "text/html": "\n            <div>\n                <p><b>SparkSession - in-memory</b></p>\n                \n        <div>\n            <p><b>SparkContext</b></p>\n\n            <p><a href=\"http://192.168.0.106:4040\">Spark UI</a></p>\n\n            <dl>\n              <dt>Version</dt>\n                <dd><code>v3.0.0</code></dd>\n              <dt>Master</dt>\n                <dd><code>local[*]</code></dd>\n              <dt>AppName</dt>\n                <dd><code>pyspark-shell</code></dd>\n            </dl>\n        </div>\n        \n            </div>\n        "
     },
     "execution_count": 13,
     "metadata": {},
     "output_type": "execute_result"
    }
   ],
   "source": [
    "spark"
   ]
  },
  {
   "cell_type": "code",
   "execution_count": 42,
   "metadata": {},
   "outputs": [
    {
     "data": {
      "text/plain": "[Row(STATION='USW00014732', NAME='LA GUARDIA AIRPORT, NY US', LATITUDE='40.7792', LONGITUDE='-73.88', ELEVATION='3.4', DATE='01-01T01:00:00', HLY-CLDH-NORMAL='0.0', HLY-CLOD-PCTBKN='134', HLY-CLOD-PCTCLR='268', HLY-CLOD-PCTFEW='75', HLY-CLOD-PCTOVC='438', HLY-CLOD-PCTSCT='86', HLY-DEWP-10PCTL='-14.4', HLY-DEWP-90PCTL='5.0', HLY-DEWP-NORMAL='-4.7', HLY-HIDX-NORMAL='1.4', HLY-HTDH-NORMAL='17.0', HLY-PRES-10PCTL='1005.3', HLY-PRES-90PCTL='1031.0', HLY-PRES-NORMAL='1018.2', HLY-TEMP-10PCTL='-5.6', HLY-TEMP-90PCTL='7.8', HLY-TEMP-NORMAL='1.4', HLY-WCHL-NORMAL='-3.2', HLY-WIND-1STDIR='8', HLY-WIND-1STPCT='269', HLY-WIND-2NDDIR='6', HLY-WIND-2NDPCT='178', HLY-WIND-AVGSPD='5.6', HLY-WIND-PCTCLM='24', HLY-WIND-VCTDIR='308', HLY-WIND-VCTSPD='2.8'),\n Row(STATION='USW00014732', NAME='LA GUARDIA AIRPORT, NY US', LATITUDE='40.7792', LONGITUDE='-73.88', ELEVATION='3.4', DATE='01-01T02:00:00', HLY-CLDH-NORMAL='0.0', HLY-CLOD-PCTBKN='155', HLY-CLOD-PCTCLR='277', HLY-CLOD-PCTFEW='79', HLY-CLOD-PCTOVC='426', HLY-CLOD-PCTSCT='63', HLY-DEWP-10PCTL='-15.0', HLY-DEWP-90PCTL='4.4', HLY-DEWP-NORMAL='-4.8', HLY-HIDX-NORMAL='1.2', HLY-HTDH-NORMAL='17.1', HLY-PRES-10PCTL='1005.1', HLY-PRES-90PCTL='1031.2', HLY-PRES-NORMAL='1018.3', HLY-TEMP-10PCTL='-6.1', HLY-TEMP-90PCTL='7.8', HLY-TEMP-NORMAL='1.2', HLY-WCHL-NORMAL='-3.4', HLY-WIND-1STDIR='8', HLY-WIND-1STPCT='251', HLY-WIND-2NDDIR='7', HLY-WIND-2NDPCT='197', HLY-WIND-AVGSPD='5.6', HLY-WIND-PCTCLM='33', HLY-WIND-VCTDIR='309', HLY-WIND-VCTSPD='2.9'),\n Row(STATION='USW00014732', NAME='LA GUARDIA AIRPORT, NY US', LATITUDE='40.7792', LONGITUDE='-73.88', ELEVATION='3.4', DATE='01-01T03:00:00', HLY-CLDH-NORMAL='0.0', HLY-CLOD-PCTBKN='162', HLY-CLOD-PCTCLR='277', HLY-CLOD-PCTFEW='63', HLY-CLOD-PCTOVC='430', HLY-CLOD-PCTSCT='68', HLY-DEWP-10PCTL='-15.0', HLY-DEWP-90PCTL='4.4', HLY-DEWP-NORMAL='-4.8', HLY-HIDX-NORMAL='1.1', HLY-HTDH-NORMAL='17.3', HLY-PRES-10PCTL='1005.2', HLY-PRES-90PCTL='1031.2', HLY-PRES-NORMAL='1018.4', HLY-TEMP-10PCTL='-6.1', HLY-TEMP-90PCTL='7.8', HLY-TEMP-NORMAL='1.1', HLY-WCHL-NORMAL='-3.6', HLY-WIND-1STDIR='8', HLY-WIND-1STPCT='282', HLY-WIND-2NDDIR='7', HLY-WIND-2NDPCT='182', HLY-WIND-AVGSPD='5.5', HLY-WIND-PCTCLM='27', HLY-WIND-VCTDIR='312', HLY-WIND-VCTSPD='2.9'),\n Row(STATION='USW00014732', NAME='LA GUARDIA AIRPORT, NY US', LATITUDE='40.7792', LONGITUDE='-73.88', ELEVATION='3.4', DATE='01-01T04:00:00', HLY-CLDH-NORMAL='0.0', HLY-CLOD-PCTBKN='149', HLY-CLOD-PCTCLR='262', HLY-CLOD-PCTFEW='68', HLY-CLOD-PCTOVC='447', HLY-CLOD-PCTSCT='74', HLY-DEWP-10PCTL='-14.4', HLY-DEWP-90PCTL='4.4', HLY-DEWP-NORMAL='-4.8', HLY-HIDX-NORMAL='0.9', HLY-HTDH-NORMAL='17.5', HLY-PRES-10PCTL='1005.0', HLY-PRES-90PCTL='1031.1', HLY-PRES-NORMAL='1018.2', HLY-TEMP-10PCTL='-6.1', HLY-TEMP-90PCTL='7.2', HLY-TEMP-NORMAL='0.9', HLY-WCHL-NORMAL='-3.8', HLY-WIND-1STDIR='8', HLY-WIND-1STPCT='284', HLY-WIND-2NDDIR='7', HLY-WIND-2NDPCT='164', HLY-WIND-AVGSPD='5.5', HLY-WIND-PCTCLM='29', HLY-WIND-VCTDIR='314', HLY-WIND-VCTSPD='2.9'),\n Row(STATION='USW00014732', NAME='LA GUARDIA AIRPORT, NY US', LATITUDE='40.7792', LONGITUDE='-73.88', ELEVATION='3.4', DATE='01-01T05:00:00', HLY-CLDH-NORMAL='0.0', HLY-CLOD-PCTBKN='135', HLY-CLOD-PCTCLR='243', HLY-CLOD-PCTFEW='119', HLY-CLOD-PCTOVC='444', HLY-CLOD-PCTSCT='59', HLY-DEWP-10PCTL='-14.4', HLY-DEWP-90PCTL='4.4', HLY-DEWP-NORMAL='-4.8', HLY-HIDX-NORMAL='0.8', HLY-HTDH-NORMAL='17.6', HLY-PRES-10PCTL='1005.1', HLY-PRES-90PCTL='1031.2', HLY-PRES-NORMAL='1018.2', HLY-TEMP-10PCTL='-6.1', HLY-TEMP-90PCTL='7.2', HLY-TEMP-NORMAL='0.8', HLY-WCHL-NORMAL='-3.9', HLY-WIND-1STDIR='8', HLY-WIND-1STPCT='273', HLY-WIND-2NDDIR='7', HLY-WIND-2NDPCT='174', HLY-WIND-AVGSPD='5.5', HLY-WIND-PCTCLM='31', HLY-WIND-VCTDIR='314', HLY-WIND-VCTSPD='2.9'),\n Row(STATION='USW00014732', NAME='LA GUARDIA AIRPORT, NY US', LATITUDE='40.7792', LONGITUDE='-73.88', ELEVATION='3.4', DATE='01-01T06:00:00', HLY-CLDH-NORMAL='0.0', HLY-CLOD-PCTBKN='133', HLY-CLOD-PCTCLR='204', HLY-CLOD-PCTFEW='124', HLY-CLOD-PCTOVC='450', HLY-CLOD-PCTSCT='88', HLY-DEWP-10PCTL='-14.4', HLY-DEWP-90PCTL='4.4', HLY-DEWP-NORMAL='-4.9', HLY-HIDX-NORMAL='0.7', HLY-HTDH-NORMAL='17.6', HLY-PRES-10PCTL='1005.4', HLY-PRES-90PCTL='1031.6', HLY-PRES-NORMAL='1018.4', HLY-TEMP-10PCTL='-6.1', HLY-TEMP-90PCTL='7.2', HLY-TEMP-NORMAL='0.7', HLY-WCHL-NORMAL='-3.9', HLY-WIND-1STDIR='8', HLY-WIND-1STPCT='255', HLY-WIND-2NDDIR='7', HLY-WIND-2NDPCT='182', HLY-WIND-AVGSPD='5.4', HLY-WIND-PCTCLM='38', HLY-WIND-VCTDIR='312', HLY-WIND-VCTSPD='2.7'),\n Row(STATION='USW00014732', NAME='LA GUARDIA AIRPORT, NY US', LATITUDE='40.7792', LONGITUDE='-73.88', ELEVATION='3.4', DATE='01-01T07:00:00', HLY-CLDH-NORMAL='0.0', HLY-CLOD-PCTBKN='205', HLY-CLOD-PCTCLR='118', HLY-CLOD-PCTFEW='173', HLY-CLOD-PCTOVC='415', HLY-CLOD-PCTSCT='89', HLY-DEWP-10PCTL='-14.4', HLY-DEWP-90PCTL='4.4', HLY-DEWP-NORMAL='-4.9', HLY-HIDX-NORMAL='0.7', HLY-HTDH-NORMAL='17.6', HLY-PRES-10PCTL='1005.8', HLY-PRES-90PCTL='1032.2', HLY-PRES-NORMAL='1018.7', HLY-TEMP-10PCTL='-6.1', HLY-TEMP-90PCTL='7.2', HLY-TEMP-NORMAL='0.7', HLY-WCHL-NORMAL='-3.9', HLY-WIND-1STDIR='8', HLY-WIND-1STPCT='281', HLY-WIND-2NDDIR='7', HLY-WIND-2NDPCT='171', HLY-WIND-AVGSPD='5.4', HLY-WIND-PCTCLM='36', HLY-WIND-VCTDIR='311', HLY-WIND-VCTSPD='2.8'),\n Row(STATION='USW00014732', NAME='LA GUARDIA AIRPORT, NY US', LATITUDE='40.7792', LONGITUDE='-73.88', ELEVATION='3.4', DATE='01-01T08:00:00', HLY-CLDH-NORMAL='0.0', HLY-CLOD-PCTBKN='238', HLY-CLOD-PCTCLR='104', HLY-CLOD-PCTFEW='138', HLY-CLOD-PCTOVC='429', HLY-CLOD-PCTSCT='91', HLY-DEWP-10PCTL='-14.4', HLY-DEWP-90PCTL='5.0', HLY-DEWP-NORMAL='-4.9', HLY-HIDX-NORMAL='0.8', HLY-HTDH-NORMAL='17.6', HLY-PRES-10PCTL='1006.2', HLY-PRES-90PCTL='1032.3', HLY-PRES-NORMAL='1019.0', HLY-TEMP-10PCTL='-6.1', HLY-TEMP-90PCTL='7.2', HLY-TEMP-NORMAL='0.8', HLY-WCHL-NORMAL='-3.9', HLY-WIND-1STDIR='8', HLY-WIND-1STPCT='265', HLY-WIND-2NDDIR='7', HLY-WIND-2NDPCT='165', HLY-WIND-AVGSPD='5.5', HLY-WIND-PCTCLM='33', HLY-WIND-VCTDIR='312', HLY-WIND-VCTSPD='2.7'),\n Row(STATION='USW00014732', NAME='LA GUARDIA AIRPORT, NY US', LATITUDE='40.7792', LONGITUDE='-73.88', ELEVATION='3.4', DATE='01-01T09:00:00', HLY-CLDH-NORMAL='0.0', HLY-CLOD-PCTBKN='231', HLY-CLOD-PCTCLR='115', HLY-CLOD-PCTFEW='124', HLY-CLOD-PCTOVC='434', HLY-CLOD-PCTSCT='97', HLY-DEWP-10PCTL='-14.4', HLY-DEWP-90PCTL='5.0', HLY-DEWP-NORMAL='-4.8', HLY-HIDX-NORMAL='1.2', HLY-HTDH-NORMAL='17.2', HLY-PRES-10PCTL='1006.6', HLY-PRES-90PCTL='1032.6', HLY-PRES-NORMAL='1019.4', HLY-TEMP-10PCTL='-6.1', HLY-TEMP-90PCTL='7.8', HLY-TEMP-NORMAL='1.2', HLY-WCHL-NORMAL='-3.6', HLY-WIND-1STDIR='8', HLY-WIND-1STPCT='290', HLY-WIND-2NDDIR='2', HLY-WIND-2NDPCT='184', HLY-WIND-AVGSPD='5.8', HLY-WIND-PCTCLM='29', HLY-WIND-VCTDIR='313', HLY-WIND-VCTSPD='2.8'),\n Row(STATION='USW00014732', NAME='LA GUARDIA AIRPORT, NY US', LATITUDE='40.7792', LONGITUDE='-73.88', ELEVATION='3.4', DATE='01-01T10:00:00', HLY-CLDH-NORMAL='-432.0', HLY-CLOD-PCTBKN='249', HLY-CLOD-PCTCLR='114', HLY-CLOD-PCTFEW='117', HLY-CLOD-PCTOVC='415', HLY-CLOD-PCTSCT='105', HLY-DEWP-10PCTL='-13.9', HLY-DEWP-90PCTL='5.0', HLY-DEWP-NORMAL='-4.8', HLY-HIDX-NORMAL='1.6', HLY-HTDH-NORMAL='16.8', HLY-PRES-10PCTL='1006.7', HLY-PRES-90PCTL='1032.7', HLY-PRES-NORMAL='1019.6', HLY-TEMP-10PCTL='-5.6', HLY-TEMP-90PCTL='7.8', HLY-TEMP-NORMAL='1.6', HLY-WCHL-NORMAL='-2.9', HLY-WIND-1STDIR='8', HLY-WIND-1STPCT='297', HLY-WIND-2NDDIR='2', HLY-WIND-2NDPCT='169', HLY-WIND-AVGSPD='5.8', HLY-WIND-PCTCLM='36', HLY-WIND-VCTDIR='314', HLY-WIND-VCTSPD='2.9')]"
     },
     "execution_count": 42,
     "metadata": {},
     "output_type": "execute_result"
    }
   ],
   "source": [
    "weather_spark_df = spark.read.option(\"multiline\",\"true\").option(\"header\", \"true\").csv(weather_file)\n",
    "weather_spark_df.head(10)"
   ]
  },
  {
   "cell_type": "code",
   "execution_count": 15,
   "metadata": {
    "pycharm": {
     "name": "#%%\n"
    }
   },
   "outputs": [
    {
     "data": {
      "text/plain": "[Row(Borough='EWR', LocationID=1, Zone='Newark Airport', service_zone='EWR')]"
     },
     "execution_count": 15,
     "metadata": {},
     "output_type": "execute_result"
    }
   ],
   "source": [
    "zone_spark_df = spark.read.option(\"multiline\",\"true\").json(taxi_zone_file)\n",
    "zone_spark_df.head(1)"
   ]
  },
  {
   "cell_type": "code",
   "execution_count": 16,
   "metadata": {
    "pycharm": {
     "name": "#%%\n"
    }
   },
   "outputs": [
    {
     "data": {
      "text/plain": "   VendorID    lpep_pickup_datetime   lpep_dropoff_datetime  \\\n0       2.0  12/18/2019 03:52:30 PM  12/18/2019 03:54:39 PM   \n1       2.0  01/01/2020 12:45:58 AM  01/01/2020 12:56:39 AM   \n\n  store_and_fwd_flag  RatecodeID  PULocationID  DOLocationID  passenger_count  \\\n0                  N         1.0           264           264              5.0   \n1                  N         5.0            66            65              2.0   \n\n   trip_distance  fare_amount  extra  mta_tax  tip_amount  tolls_amount  \\\n0           0.00          3.5    0.5      0.5        0.01           0.0   \n1           1.28         20.0    0.0      0.0        4.06           0.0   \n\n   ehail_fee  improvement_surcharge  total_amount  payment_type  trip_type  \\\n0        NaN                    0.3          4.81           1.0        1.0   \n1        NaN                    0.3         24.36           1.0        2.0   \n\n   congestion_surcharge  \n0                   0.0  \n1                   0.0  ",
      "text/html": "<div>\n<style scoped>\n    .dataframe tbody tr th:only-of-type {\n        vertical-align: middle;\n    }\n\n    .dataframe tbody tr th {\n        vertical-align: top;\n    }\n\n    .dataframe thead th {\n        text-align: right;\n    }\n</style>\n<table border=\"1\" class=\"dataframe\">\n  <thead>\n    <tr style=\"text-align: right;\">\n      <th></th>\n      <th>VendorID</th>\n      <th>lpep_pickup_datetime</th>\n      <th>lpep_dropoff_datetime</th>\n      <th>store_and_fwd_flag</th>\n      <th>RatecodeID</th>\n      <th>PULocationID</th>\n      <th>DOLocationID</th>\n      <th>passenger_count</th>\n      <th>trip_distance</th>\n      <th>fare_amount</th>\n      <th>extra</th>\n      <th>mta_tax</th>\n      <th>tip_amount</th>\n      <th>tolls_amount</th>\n      <th>ehail_fee</th>\n      <th>improvement_surcharge</th>\n      <th>total_amount</th>\n      <th>payment_type</th>\n      <th>trip_type</th>\n      <th>congestion_surcharge</th>\n    </tr>\n  </thead>\n  <tbody>\n    <tr>\n      <th>0</th>\n      <td>2.0</td>\n      <td>12/18/2019 03:52:30 PM</td>\n      <td>12/18/2019 03:54:39 PM</td>\n      <td>N</td>\n      <td>1.0</td>\n      <td>264</td>\n      <td>264</td>\n      <td>5.0</td>\n      <td>0.00</td>\n      <td>3.5</td>\n      <td>0.5</td>\n      <td>0.5</td>\n      <td>0.01</td>\n      <td>0.0</td>\n      <td>NaN</td>\n      <td>0.3</td>\n      <td>4.81</td>\n      <td>1.0</td>\n      <td>1.0</td>\n      <td>0.0</td>\n    </tr>\n    <tr>\n      <th>1</th>\n      <td>2.0</td>\n      <td>01/01/2020 12:45:58 AM</td>\n      <td>01/01/2020 12:56:39 AM</td>\n      <td>N</td>\n      <td>5.0</td>\n      <td>66</td>\n      <td>65</td>\n      <td>2.0</td>\n      <td>1.28</td>\n      <td>20.0</td>\n      <td>0.0</td>\n      <td>0.0</td>\n      <td>4.06</td>\n      <td>0.0</td>\n      <td>NaN</td>\n      <td>0.3</td>\n      <td>24.36</td>\n      <td>1.0</td>\n      <td>2.0</td>\n      <td>0.0</td>\n    </tr>\n  </tbody>\n</table>\n</div>"
     },
     "execution_count": 16,
     "metadata": {},
     "output_type": "execute_result"
    }
   ],
   "source": [
    "df_taxi.head(2)"
   ]
  },
  {
   "cell_type": "code",
   "execution_count": 17,
   "metadata": {
    "pycharm": {
     "name": "#%%\n"
    }
   },
   "outputs": [],
   "source": [
    "from pyspark.sql.types import *\n",
    "\n",
    "taxiSchema = StructType([StructField(\"VendorID\", FloatType(), True)\\\n",
    "                       ,StructField(\"lpep_pickup_datetime\", StringType(), True)\\\n",
    "                       ,StructField(\"lpep_dropoff_datetime\", StringType(), True)\\\n",
    "                       ,StructField(\"store_and_fwd_flag\", StringType(), True)\\\n",
    "                       ,StructField(\"RatecodeID\", FloatType(), True)\\\n",
    "                       ,StructField(\"PULocationID\", IntegerType(), True)\\\n",
    "                       ,StructField(\"DOLocationID\", IntegerType(), True)\\\n",
    "                       ,StructField(\"passenger_count\", FloatType(), True)\\\n",
    "                       ,StructField(\"trip_distance\", FloatType(), True)\\\n",
    "                       ,StructField(\"fare_amount\", FloatType(), True)\\\n",
    "                       ,StructField(\"extra\", FloatType(), True)\\\n",
    "                       ,StructField(\"mta_tax\", FloatType(), True)\\\n",
    "                       ,StructField(\"tip_amount\", FloatType(), True)\\\n",
    "                       ,StructField(\"tolls_amount\", FloatType(), True)\\\n",
    "                       ,StructField(\"ehail_fee\", FloatType(), True)\\\n",
    "                       ,StructField(\"improvement_surcharge\", FloatType(), True)\\\n",
    "                       ,StructField(\"total_amount\", FloatType(), True)\\\n",
    "                       ,StructField(\"payment_type\", FloatType(), True)\\\n",
    "                       ,StructField(\"trip_type\", FloatType(), True)\\\n",
    "                       ,StructField(\"congestion_surcharge\", FloatType(), True)])\n"
   ]
  },
  {
   "cell_type": "code",
   "execution_count": 18,
   "metadata": {
    "pycharm": {
     "name": "#%%\n"
    }
   },
   "outputs": [
    {
     "data": {
      "text/plain": "[Row(VendorID=2.0, lpep_pickup_datetime='12/18/2019 03:52:30 PM', lpep_dropoff_datetime='12/18/2019 03:54:39 PM', store_and_fwd_flag='N', RatecodeID=1.0, PULocationID=264, DOLocationID=264, passenger_count=5.0, trip_distance=0.0, fare_amount=3.5, extra=0.5, mta_tax=0.5, tip_amount=0.009999999776482582, tolls_amount=0.0, ehail_fee=nan, improvement_surcharge=0.30000001192092896, total_amount=4.809999942779541, payment_type=1.0, trip_type=1.0, congestion_surcharge=0.0),\n Row(VendorID=2.0, lpep_pickup_datetime='01/01/2020 12:45:58 AM', lpep_dropoff_datetime='01/01/2020 12:56:39 AM', store_and_fwd_flag='N', RatecodeID=5.0, PULocationID=66, DOLocationID=65, passenger_count=2.0, trip_distance=1.2799999713897705, fare_amount=20.0, extra=0.0, mta_tax=0.0, tip_amount=4.059999942779541, tolls_amount=0.0, ehail_fee=nan, improvement_surcharge=0.30000001192092896, total_amount=24.360000610351562, payment_type=1.0, trip_type=2.0, congestion_surcharge=0.0)]"
     },
     "execution_count": 18,
     "metadata": {},
     "output_type": "execute_result"
    }
   ],
   "source": [
    "taxi_spark_df = spark.createDataFrame(df_taxi,schema=taxiSchema)\n",
    "taxi_spark_df.head(2)"
   ]
  },
  {
   "cell_type": "code",
   "execution_count": 19,
   "metadata": {
    "pycharm": {
     "name": "#%%\n"
    }
   },
   "outputs": [
    {
     "data": {
      "text/plain": "[Row(RatecodeID=1, Rate_type='Standard rate'),\n Row(RatecodeID=2, Rate_type='JFK')]"
     },
     "execution_count": 19,
     "metadata": {},
     "output_type": "execute_result"
    }
   ],
   "source": [
    "# Rate Spark DF\n",
    "rateSchema = StructType([StructField(\"RatecodeID\",IntegerType(),True),StructField(\"Rate_type\",StringType(),True)])\n",
    "rate_spark_df = spark.createDataFrame(df_rate,schema=rateSchema)\n",
    "rate_spark_df.head(2)"
   ]
  },
  {
   "cell_type": "code",
   "execution_count": 20,
   "metadata": {
    "pycharm": {
     "name": "#%%\n"
    }
   },
   "outputs": [
    {
     "data": {
      "text/plain": "[Row(PaymentID=1, Payment_type='Credit card'),\n Row(PaymentID=2, Payment_type='Cash')]"
     },
     "execution_count": 20,
     "metadata": {},
     "output_type": "execute_result"
    }
   ],
   "source": [
    "# Payment Spark DF\n",
    "paymentSchema = StructType([StructField(\"PaymentID\",IntegerType(),True),StructField(\"Payment_type\",StringType(),True)])\n",
    "payment_spark_df = spark.createDataFrame(df_payment,schema=paymentSchema)\n",
    "payment_spark_df.head(2)"
   ]
  },
  {
   "cell_type": "markdown",
   "metadata": {},
   "source": [
    "### Step 2: Explore and Assess the Data\n",
    "#### Explore the Data \n",
    "Identify data quality issues, like missing values, duplicate data, etc.\n",
    "\n",
    "1. Remove rows where Payment ID is Unknown\n",
    "2. Remove rows where PickUpID or DropID is 264 or 265, check all values in range.\n",
    "3. Convert PickUpTime and DropTime to TIMESTAMP\n",
    "4. Remove rows which are out of range in taxi\n",
    "5. Remove rows with Missing Columns in taxi data or is NULL/NaN\n",
    "6. Remove duplicate data in weather. (keep only JFK, remove others)\n",
    "7. Convert DATE and DropTime to TIMESTAMP\n",
    "8. Filter Weather data so that it matches time period of taxi data\n",
    "\n",
    "#### Cleaning Steps\n",
    "Document steps necessary to clean the data"
   ]
  },
  {
   "cell_type": "code",
   "execution_count": 26,
   "metadata": {
    "pycharm": {
     "name": "#%%\n"
    }
   },
   "outputs": [
    {
     "data": {
      "text/plain": "[Row(VendorID=2.0, lpep_pickup_datetime='01/01/2020 04:04:26 PM', lpep_dropoff_datetime='01/01/2020 04:49:46 PM', store_and_fwd_flag='N', RatecodeID=3.0, PULocationID=262, DOLocationID=1, passenger_count=6.0, trip_distance=21.270000457763672, fare_amount=77.0, extra=1.0, mta_tax=0.0, tip_amount=10.0, tolls_amount=18.6200008392334, ehail_fee=nan, improvement_surcharge=0.30000001192092896, total_amount=106.91999816894531, payment_type=1.0, trip_type=1.0, congestion_surcharge=0.0),\n Row(VendorID=2.0, lpep_pickup_datetime='01/03/2020 10:35:46 PM', lpep_dropoff_datetime='01/03/2020 10:51:37 PM', store_and_fwd_flag='N', RatecodeID=1.0, PULocationID=262, DOLocationID=250, passenger_count=1.0, trip_distance=6.590000152587891, fare_amount=19.5, extra=0.5, mta_tax=0.5, tip_amount=0.0, tolls_amount=0.0, ehail_fee=nan, improvement_surcharge=0.30000001192092896, total_amount=20.799999237060547, payment_type=2.0, trip_type=1.0, congestion_surcharge=0.0),\n Row(VendorID=2.0, lpep_pickup_datetime='01/04/2020 07:07:50 PM', lpep_dropoff_datetime='01/04/2020 08:40:39 PM', store_and_fwd_flag='N', RatecodeID=1.0, PULocationID=262, DOLocationID=39, passenger_count=2.0, trip_distance=17.520000457763672, fare_amount=70.0, extra=0.0, mta_tax=0.5, tip_amount=0.0, tolls_amount=0.0, ehail_fee=nan, improvement_surcharge=0.30000001192092896, total_amount=70.80000305175781, payment_type=1.0, trip_type=1.0, congestion_surcharge=0.0),\n Row(VendorID=2.0, lpep_pickup_datetime='01/07/2020 04:32:45 AM', lpep_dropoff_datetime='01/07/2020 04:58:20 AM', store_and_fwd_flag='N', RatecodeID=2.0, PULocationID=262, DOLocationID=132, passenger_count=1.0, trip_distance=16.68000030517578, fare_amount=52.0, extra=0.0, mta_tax=0.5, tip_amount=12.0, tolls_amount=6.119999885559082, ehail_fee=nan, improvement_surcharge=0.30000001192092896, total_amount=70.91999816894531, payment_type=1.0, trip_type=1.0, congestion_surcharge=0.0),\n Row(VendorID=1.0, lpep_pickup_datetime='01/13/2020 06:01:10 PM', lpep_dropoff_datetime='01/13/2020 06:34:51 PM', store_and_fwd_flag='N', RatecodeID=1.0, PULocationID=262, DOLocationID=136, passenger_count=1.0, trip_distance=0.0, fare_amount=24.200000762939453, extra=0.0, mta_tax=0.5, tip_amount=0.0, tolls_amount=0.0, ehail_fee=nan, improvement_surcharge=0.30000001192092896, total_amount=25.0, payment_type=1.0, trip_type=1.0, congestion_surcharge=0.0)]"
     },
     "execution_count": 26,
     "metadata": {},
     "output_type": "execute_result"
    }
   ],
   "source": [
    "#taxi_spark_df.count()"
   ]
  },
  {
   "cell_type": "code",
   "execution_count": 21,
   "metadata": {
    "pycharm": {
     "name": "#%%\n"
    }
   },
   "outputs": [],
   "source": [
    "# Performing cleaning task 1\n",
    "taxi_spark_df = taxi_spark_df.filter(taxi_spark_df[\"payment_type\"] != 5)\n",
    "#taxi_spark_df.count()"
   ]
  },
  {
   "cell_type": "code",
   "execution_count": 22,
   "metadata": {
    "pycharm": {
     "name": "#%%\n"
    }
   },
   "outputs": [],
   "source": [
    "# Performing cleaning task 2\n",
    "taxi_spark_df = taxi_spark_df.filter(taxi_spark_df[\"PULocationID\"] != 264)\\\n",
    "                             .filter(taxi_spark_df[\"PULocationID\"] != 265)\n",
    "#taxi_spark_df.count()"
   ]
  },
  {
   "cell_type": "code",
   "execution_count": null,
   "metadata": {},
   "outputs": [],
   "source": [
    "# Performing cleaning task 3\n",
    "#Create udf to convert string to time stamp\n",
    "\n",
    "# add column with new time stamp column (x2)\n",
    "\n",
    "# drop column with new time stamp column (x2)"
   ]
  },
  {
   "cell_type": "code",
   "execution_count": 27,
   "metadata": {
    "pycharm": {
     "name": "#%%\n"
    }
   },
   "outputs": [
    {
     "name": "stdout",
     "output_type": "stream",
     "text": [
      "12\n"
     ]
    }
   ],
   "source": [
    "# Performing cleaning task 4\n",
    "# filter data on the basis of timestamp"
   ]
  },
  {
   "cell_type": "code",
   "execution_count": 32,
   "metadata": {
    "pycharm": {
     "name": "#%%\n"
    }
   },
   "outputs": [],
   "source": [
    "# Performing cleaning task 5\n",
    "taxi_spark_df = taxi_spark_df.filter(taxi_spark_df[\"lpep_pickup_datetime\"].isNotNull() == True)\\\n",
    "                             .filter(taxi_spark_df[\"lpep_dropoff_datetime\"].isNotNull() == True)\\\n",
    "                             .filter(taxi_spark_df[\"RatecodeID\"].isNotNull() == True)\\\n",
    "                             .filter(taxi_spark_df[\"PULocationID\"].isNotNull() == True)\\\n",
    "                             .filter(taxi_spark_df[\"DOLocationID\"].isNotNull() == True)\\\n",
    "                             .filter(taxi_spark_df[\"passenger_count\"].isNotNull() == True)\\\n",
    "                             .filter(taxi_spark_df[\"trip_distance\"].isNotNull() == True)\\\n",
    "                             .filter(taxi_spark_df[\"fare_amount\"].isNotNull() == True)\\\n",
    "                             .filter(taxi_spark_df[\"payment_type\"].isNotNull() == True)\\\n",
    "                             .filter(taxi_spark_df[\"extra\"].isNotNull() == True)\\\n",
    "                             .filter(taxi_spark_df[\"mta_tax\"].isNotNull() == True)\\\n",
    "                             .filter(taxi_spark_df[\"tip_amount\"].isNotNull() == True)\\\n",
    "                             .filter(taxi_spark_df[\"tolls_amount\"].isNotNull() == True)\\\n",
    "                             .filter(taxi_spark_df[\"improvement_surcharge\"].isNotNull() == True)\\\n",
    "                             .filter(taxi_spark_df[\"total_amount\"].isNotNull() == True)\\\n",
    "                             .filter(taxi_spark_df[\"congestion_surcharge\"].isNotNull() == True)\\"
   ]
  },
  {
   "cell_type": "code",
   "execution_count": 43,
   "metadata": {
    "pycharm": {
     "name": "#%%\n"
    }
   },
   "outputs": [
    {
     "data": {
      "text/plain": "[Row(STATION='USW00094789', NAME='JFK INTERNATIONAL AIRPORT, NY US', LATITUDE='40.6386', LONGITUDE='-73.7622', ELEVATION='3.4', DATE='01-01T01:00:00', HLY-CLDH-NORMAL='0.0', HLY-CLOD-PCTBKN='116', HLY-CLOD-PCTCLR='240', HLY-CLOD-PCTFEW='119', HLY-CLOD-PCTOVC='445', HLY-CLOD-PCTSCT='80', HLY-DEWP-10PCTL='-15.6', HLY-DEWP-90PCTL='5.6', HLY-DEWP-NORMAL='-4.6', HLY-HIDX-NORMAL='0.9', HLY-HTDH-NORMAL='17.5', HLY-PRES-10PCTL='1005.2', HLY-PRES-90PCTL='1030.8', HLY-PRES-NORMAL='1018.2', HLY-TEMP-10PCTL='-6.1', HLY-TEMP-90PCTL='7.2', HLY-TEMP-NORMAL='0.9', HLY-WCHL-NORMAL='-3.7', HLY-WIND-1STDIR='8', HLY-WIND-1STPCT='258', HLY-WIND-2NDDIR='7', HLY-WIND-2NDPCT='204', HLY-WIND-AVGSPD='5.3', HLY-WIND-PCTCLM='33', HLY-WIND-VCTDIR='304', HLY-WIND-VCTSPD='2.8'),\n Row(STATION='USW00094789', NAME='JFK INTERNATIONAL AIRPORT, NY US', LATITUDE='40.6386', LONGITUDE='-73.7622', ELEVATION='3.4', DATE='01-01T02:00:00', HLY-CLDH-NORMAL='0.0', HLY-CLOD-PCTBKN='131', HLY-CLOD-PCTCLR='235', HLY-CLOD-PCTFEW='124', HLY-CLOD-PCTOVC='443', HLY-CLOD-PCTSCT='66', HLY-DEWP-10PCTL='-15.0', HLY-DEWP-90PCTL='5.0', HLY-DEWP-NORMAL='-4.6', HLY-HIDX-NORMAL='0.8', HLY-HTDH-NORMAL='17.6', HLY-PRES-10PCTL='1005.4', HLY-PRES-90PCTL='1031.1', HLY-PRES-NORMAL='1018.4', HLY-TEMP-10PCTL='-6.1', HLY-TEMP-90PCTL='7.2', HLY-TEMP-NORMAL='0.8', HLY-WCHL-NORMAL='-3.7', HLY-WIND-1STDIR='8', HLY-WIND-1STPCT='246', HLY-WIND-2NDDIR='7', HLY-WIND-2NDPCT='209', HLY-WIND-AVGSPD='5.2', HLY-WIND-PCTCLM='40', HLY-WIND-VCTDIR='304', HLY-WIND-VCTSPD='2.8'),\n Row(STATION='USW00094789', NAME='JFK INTERNATIONAL AIRPORT, NY US', LATITUDE='40.6386', LONGITUDE='-73.7622', ELEVATION='3.4', DATE='01-01T03:00:00', HLY-CLDH-NORMAL='0.0', HLY-CLOD-PCTBKN='143', HLY-CLOD-PCTCLR='242', HLY-CLOD-PCTFEW='95', HLY-CLOD-PCTOVC='455', HLY-CLOD-PCTSCT='66', HLY-DEWP-10PCTL='-15.0', HLY-DEWP-90PCTL='5.0', HLY-DEWP-NORMAL='-4.6', HLY-HIDX-NORMAL='0.6', HLY-HTDH-NORMAL='17.8', HLY-PRES-10PCTL='1005.6', HLY-PRES-90PCTL='1030.8', HLY-PRES-NORMAL='1018.4', HLY-TEMP-10PCTL='-6.7', HLY-TEMP-90PCTL='7.2', HLY-TEMP-NORMAL='0.6', HLY-WCHL-NORMAL='-3.8', HLY-WIND-1STDIR='8', HLY-WIND-1STPCT='252', HLY-WIND-2NDDIR='7', HLY-WIND-2NDPCT='222', HLY-WIND-AVGSPD='5.1', HLY-WIND-PCTCLM='58', HLY-WIND-VCTDIR='307', HLY-WIND-VCTSPD='2.8'),\n Row(STATION='USW00094789', NAME='JFK INTERNATIONAL AIRPORT, NY US', LATITUDE='40.6386', LONGITUDE='-73.7622', ELEVATION='3.4', DATE='01-01T04:00:00', HLY-CLDH-NORMAL='0.0', HLY-CLOD-PCTBKN='143', HLY-CLOD-PCTCLR='234', HLY-CLOD-PCTFEW='107', HLY-CLOD-PCTOVC='451', HLY-CLOD-PCTSCT='66', HLY-DEWP-10PCTL='-15.0', HLY-DEWP-90PCTL='5.0', HLY-DEWP-NORMAL='-4.6', HLY-HIDX-NORMAL='0.4', HLY-HTDH-NORMAL='17.9', HLY-PRES-10PCTL='1005.1', HLY-PRES-90PCTL='1030.8', HLY-PRES-NORMAL='1018.2', HLY-TEMP-10PCTL='-6.7', HLY-TEMP-90PCTL='7.2', HLY-TEMP-NORMAL='0.4', HLY-WCHL-NORMAL='-4.0', HLY-WIND-1STDIR='8', HLY-WIND-1STPCT='254', HLY-WIND-2NDDIR='7', HLY-WIND-2NDPCT='209', HLY-WIND-AVGSPD='5.1', HLY-WIND-PCTCLM='49', HLY-WIND-VCTDIR='307', HLY-WIND-VCTSPD='2.8'),\n Row(STATION='USW00094789', NAME='JFK INTERNATIONAL AIRPORT, NY US', LATITUDE='40.6386', LONGITUDE='-73.7622', ELEVATION='3.4', DATE='01-01T05:00:00', HLY-CLDH-NORMAL='0.0', HLY-CLOD-PCTBKN='142', HLY-CLOD-PCTCLR='199', HLY-CLOD-PCTFEW='130', HLY-CLOD-PCTOVC='455', HLY-CLOD-PCTSCT='73', HLY-DEWP-10PCTL='-15.0', HLY-DEWP-90PCTL='5.0', HLY-DEWP-NORMAL='-4.7', HLY-HIDX-NORMAL='0.4', HLY-HTDH-NORMAL='18.0', HLY-PRES-10PCTL='1004.9', HLY-PRES-90PCTL='1030.8', HLY-PRES-NORMAL='1018.1', HLY-TEMP-10PCTL='-6.7', HLY-TEMP-90PCTL='6.7', HLY-TEMP-NORMAL='0.4', HLY-WCHL-NORMAL='-4.2', HLY-WIND-1STDIR='8', HLY-WIND-1STPCT='279', HLY-WIND-2NDDIR='7', HLY-WIND-2NDPCT='209', HLY-WIND-AVGSPD='5.1', HLY-WIND-PCTCLM='51', HLY-WIND-VCTDIR='307', HLY-WIND-VCTSPD='2.8'),\n Row(STATION='USW00094789', NAME='JFK INTERNATIONAL AIRPORT, NY US', LATITUDE='40.6386', LONGITUDE='-73.7622', ELEVATION='3.4', DATE='01-01T06:00:00', HLY-CLDH-NORMAL='0.0', HLY-CLOD-PCTBKN='127', HLY-CLOD-PCTCLR='184', HLY-CLOD-PCTFEW='141', HLY-CLOD-PCTOVC='457', HLY-CLOD-PCTSCT='91', HLY-DEWP-10PCTL='-15.0', HLY-DEWP-90PCTL='4.4', HLY-DEWP-NORMAL='-4.7', HLY-HIDX-NORMAL='0.3', HLY-HTDH-NORMAL='18.1', HLY-PRES-10PCTL='1005.4', HLY-PRES-90PCTL='1031.1', HLY-PRES-NORMAL='1018.5', HLY-TEMP-10PCTL='-6.7', HLY-TEMP-90PCTL='6.7', HLY-TEMP-NORMAL='0.3', HLY-WCHL-NORMAL='-4.3', HLY-WIND-1STDIR='8', HLY-WIND-1STPCT='254', HLY-WIND-2NDDIR='7', HLY-WIND-2NDPCT='193', HLY-WIND-AVGSPD='5.2', HLY-WIND-PCTCLM='49', HLY-WIND-VCTDIR='305', HLY-WIND-VCTSPD='2.7'),\n Row(STATION='USW00094789', NAME='JFK INTERNATIONAL AIRPORT, NY US', LATITUDE='40.6386', LONGITUDE='-73.7622', ELEVATION='3.4', DATE='01-01T07:00:00', HLY-CLDH-NORMAL='0.0', HLY-CLOD-PCTBKN='228', HLY-CLOD-PCTCLR='99', HLY-CLOD-PCTFEW='147', HLY-CLOD-PCTOVC='408', HLY-CLOD-PCTSCT='118', HLY-DEWP-10PCTL='-14.4', HLY-DEWP-90PCTL='5.0', HLY-DEWP-NORMAL='-4.8', HLY-HIDX-NORMAL='0.3', HLY-HTDH-NORMAL='18.1', HLY-PRES-10PCTL='1005.8', HLY-PRES-90PCTL='1031.8', HLY-PRES-NORMAL='1018.7', HLY-TEMP-10PCTL='-6.7', HLY-TEMP-90PCTL='7.2', HLY-TEMP-NORMAL='0.3', HLY-WCHL-NORMAL='-4.2', HLY-WIND-1STDIR='8', HLY-WIND-1STPCT='257', HLY-WIND-2NDDIR='7', HLY-WIND-2NDPCT='211', HLY-WIND-AVGSPD='5.1', HLY-WIND-PCTCLM='51', HLY-WIND-VCTDIR='305', HLY-WIND-VCTSPD='2.6'),\n Row(STATION='USW00094789', NAME='JFK INTERNATIONAL AIRPORT, NY US', LATITUDE='40.6386', LONGITUDE='-73.7622', ELEVATION='3.4', DATE='01-01T08:00:00', HLY-CLDH-NORMAL='0.0', HLY-CLOD-PCTBKN='263', HLY-CLOD-PCTCLR='82', HLY-CLOD-PCTFEW='126', HLY-CLOD-PCTOVC='407', HLY-CLOD-PCTSCT='121', HLY-DEWP-10PCTL='-13.9', HLY-DEWP-90PCTL='5.0', HLY-DEWP-NORMAL='-4.7', HLY-HIDX-NORMAL='0.5', HLY-HTDH-NORMAL='17.9', HLY-PRES-10PCTL='1006.0', HLY-PRES-90PCTL='1031.8', HLY-PRES-NORMAL='1019.0', HLY-TEMP-10PCTL='-6.7', HLY-TEMP-90PCTL='7.2', HLY-TEMP-NORMAL='0.5', HLY-WCHL-NORMAL='-4.1', HLY-WIND-1STDIR='8', HLY-WIND-1STPCT='265', HLY-WIND-2NDDIR='7', HLY-WIND-2NDPCT='198', HLY-WIND-AVGSPD='5.3', HLY-WIND-PCTCLM='44', HLY-WIND-VCTDIR='304', HLY-WIND-VCTSPD='2.7'),\n Row(STATION='USW00094789', NAME='JFK INTERNATIONAL AIRPORT, NY US', LATITUDE='40.6386', LONGITUDE='-73.7622', ELEVATION='3.4', DATE='01-01T09:00:00', HLY-CLDH-NORMAL='0.0', HLY-CLOD-PCTBKN='253', HLY-CLOD-PCTCLR='95', HLY-CLOD-PCTFEW='122', HLY-CLOD-PCTOVC='414', HLY-CLOD-PCTSCT='115', HLY-DEWP-10PCTL='-13.9', HLY-DEWP-90PCTL='5.6', HLY-DEWP-NORMAL='-4.5', HLY-HIDX-NORMAL='1.2', HLY-HTDH-NORMAL='17.2', HLY-PRES-10PCTL='1006.6', HLY-PRES-90PCTL='1032.1', HLY-PRES-NORMAL='1019.3', HLY-TEMP-10PCTL='-6.1', HLY-TEMP-90PCTL='7.8', HLY-TEMP-NORMAL='1.2', HLY-WCHL-NORMAL='-3.4', HLY-WIND-1STDIR='8', HLY-WIND-1STPCT='264', HLY-WIND-2NDDIR='7', HLY-WIND-2NDPCT='197', HLY-WIND-AVGSPD='5.6', HLY-WIND-PCTCLM='49', HLY-WIND-VCTDIR='306', HLY-WIND-VCTSPD='2.8'),\n Row(STATION='USW00094789', NAME='JFK INTERNATIONAL AIRPORT, NY US', LATITUDE='40.6386', LONGITUDE='-73.7622', ELEVATION='3.4', DATE='01-01T10:00:00', HLY-CLDH-NORMAL='0.0', HLY-CLOD-PCTBKN='232', HLY-CLOD-PCTCLR='100', HLY-CLOD-PCTFEW='141', HLY-CLOD-PCTOVC='402', HLY-CLOD-PCTSCT='125', HLY-DEWP-10PCTL='-13.9', HLY-DEWP-90PCTL='6.1', HLY-DEWP-NORMAL='-4.4', HLY-HIDX-NORMAL='1.9', HLY-HTDH-NORMAL='16.5', HLY-PRES-10PCTL='1006.7', HLY-PRES-90PCTL='1032.2', HLY-PRES-NORMAL='1019.6', HLY-TEMP-10PCTL='-5.0', HLY-TEMP-90PCTL='8.3', HLY-TEMP-NORMAL='1.9', HLY-WCHL-NORMAL='-2.6', HLY-WIND-1STDIR='8', HLY-WIND-1STPCT='283', HLY-WIND-2NDDIR='7', HLY-WIND-2NDPCT='171', HLY-WIND-AVGSPD='5.8', HLY-WIND-PCTCLM='29', HLY-WIND-VCTDIR='305', HLY-WIND-VCTSPD='2.9')]"
     },
     "execution_count": 43,
     "metadata": {},
     "output_type": "execute_result"
    }
   ],
   "source": [
    "# Performing cleaning task 6\n",
    "weather_spark_df = weather_spark_df.filter(weather_spark_df['name'] == \"JFK INTERNATIONAL AIRPORT, NY US\")\n",
    "weather_spark_df.head(10)"
   ]
  },
  {
   "cell_type": "code",
   "execution_count": 46,
   "metadata": {
    "pycharm": {
     "name": "#%%\n"
    }
   },
   "outputs": [
    {
     "data": {
      "text/plain": "DataFrame[summary: string, STATION: string, NAME: string, LATITUDE: string, LONGITUDE: string, ELEVATION: string, DATE: string, HLY-CLDH-NORMAL: string, HLY-CLOD-PCTBKN: string, HLY-CLOD-PCTCLR: string, HLY-CLOD-PCTFEW: string, HLY-CLOD-PCTOVC: string, HLY-CLOD-PCTSCT: string, HLY-DEWP-10PCTL: string, HLY-DEWP-90PCTL: string, HLY-DEWP-NORMAL: string, HLY-HIDX-NORMAL: string, HLY-HTDH-NORMAL: string, HLY-PRES-10PCTL: string, HLY-PRES-90PCTL: string, HLY-PRES-NORMAL: string, HLY-TEMP-10PCTL: string, HLY-TEMP-90PCTL: string, HLY-TEMP-NORMAL: string, HLY-WCHL-NORMAL: string, HLY-WIND-1STDIR: string, HLY-WIND-1STPCT: string, HLY-WIND-2NDDIR: string, HLY-WIND-2NDPCT: string, HLY-WIND-AVGSPD: string, HLY-WIND-PCTCLM: string, HLY-WIND-VCTDIR: string, HLY-WIND-VCTSPD: string]"
     },
     "execution_count": 46,
     "metadata": {},
     "output_type": "execute_result"
    }
   ],
   "source": [
    "# Performing cleaning task 7\n",
    "# write udf\n",
    "\n",
    "# add column\n",
    "\n",
    "# delete old column"
   ]
  },
  {
   "cell_type": "code",
   "execution_count": null,
   "outputs": [],
   "source": [
    "# Performing cleaning task 8\n"
   ],
   "metadata": {
    "collapsed": false,
    "pycharm": {
     "name": "#%%\n"
    }
   }
  },
  {
   "cell_type": "markdown",
   "metadata": {},
   "source": [
    "### Step 3: Define the Data Model\n",
    "#### 3.1 Conceptual Data Model\n",
    "Map out the conceptual data model and explain why you chose that model\n",
    "\n",
    "#### 3.2 Mapping Out Data Pipelines\n",
    "List the steps necessary to pipeline the data into the chosen data model"
   ]
  },
  {
   "cell_type": "markdown",
   "metadata": {},
   "source": [
    "### Step 4: Run Pipelines to Model the Data \n",
    "#### 4.1 Create the data model\n",
    "Build the data pipelines to create the data model."
   ]
  },
  {
   "cell_type": "code",
   "execution_count": null,
   "metadata": {},
   "outputs": [],
   "source": [
    "# Write code here"
   ]
  },
  {
   "cell_type": "markdown",
   "metadata": {},
   "source": [
    "#### 4.2 Data Quality Checks\n",
    "Explain the data quality checks you'll perform to ensure the pipeline ran as expected. These could include:\n",
    " * Integrity constraints on the relational database (e.g., unique key, data type, etc.)\n",
    " * Unit tests for the scripts to ensure they are doing the right thing\n",
    " * Source/Count checks to ensure completeness\n",
    " \n",
    "Run Quality Checks"
   ]
  },
  {
   "cell_type": "code",
   "execution_count": null,
   "metadata": {},
   "outputs": [],
   "source": [
    "# Perform quality checks here"
   ]
  },
  {
   "cell_type": "markdown",
   "metadata": {},
   "source": [
    "#### 4.3 Data dictionary \n",
    "Create a data dictionary for your data model. For each field, provide a brief description of what the data is and where it came from. You can include the data dictionary in the notebook or in a separate file."
   ]
  },
  {
   "cell_type": "markdown",
   "metadata": {},
   "source": [
    "#### Step 5: Complete Project Write Up\n",
    "* Clearly state the rationale for the choice of tools and technologies for the project.\n",
    "* Propose how often the data should be updated and why.\n",
    "* Write a description of how you would approach the problem differently under the following scenarios:\n",
    " * The data was increased by 100x.\n",
    " * The data populates a dashboard that must be updated on a daily basis by 7am every day.\n",
    " * The database needed to be accessed by 100+ people."
   ]
  },
  {
   "cell_type": "code",
   "execution_count": null,
   "metadata": {},
   "outputs": [],
   "source": []
  },
  {
   "cell_type": "code",
   "execution_count": null,
   "metadata": {},
   "outputs": [],
   "source": []
  },
  {
   "cell_type": "code",
   "execution_count": null,
   "metadata": {},
   "outputs": [],
   "source": []
  },
  {
   "cell_type": "code",
   "execution_count": null,
   "metadata": {},
   "outputs": [],
   "source": []
  },
  {
   "cell_type": "code",
   "execution_count": null,
   "metadata": {},
   "outputs": [],
   "source": []
  },
  {
   "cell_type": "code",
   "execution_count": null,
   "metadata": {},
   "outputs": [],
   "source": []
  }
 ],
 "metadata": {
  "kernelspec": {
   "display_name": "Python 3",
   "language": "python",
   "name": "python3"
  },
  "language_info": {
   "codemirror_mode": {
    "name": "ipython",
    "version": 3
   },
   "file_extension": ".py",
   "mimetype": "text/x-python",
   "name": "python",
   "nbconvert_exporter": "python",
   "pygments_lexer": "ipython3",
   "version": "3.8.5"
  }
 },
 "nbformat": 4,
 "nbformat_minor": 2
}